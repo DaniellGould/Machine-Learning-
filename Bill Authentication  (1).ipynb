{
 "cells": [
  {
   "cell_type": "code",
   "execution_count": 16,
   "id": "478c726f",
   "metadata": {},
   "outputs": [],
   "source": [
    "import pandas as pd \n",
    "import numpy as np"
   ]
  },
  {
   "cell_type": "code",
   "execution_count": 25,
   "id": "5bcf20d9",
   "metadata": {},
   "outputs": [],
   "source": [
    "bill_df = pd.read_csv(r\"C:\\Users\\tlsdu\\Desktop\\svm\\bill_authentication.csv\")"
   ]
  },
  {
   "cell_type": "code",
   "execution_count": 26,
   "id": "c3bade9b",
   "metadata": {},
   "outputs": [
    {
     "data": {
      "text/html": [
       "<div>\n",
       "<style scoped>\n",
       "    .dataframe tbody tr th:only-of-type {\n",
       "        vertical-align: middle;\n",
       "    }\n",
       "\n",
       "    .dataframe tbody tr th {\n",
       "        vertical-align: top;\n",
       "    }\n",
       "\n",
       "    .dataframe thead th {\n",
       "        text-align: right;\n",
       "    }\n",
       "</style>\n",
       "<table border=\"1\" class=\"dataframe\">\n",
       "  <thead>\n",
       "    <tr style=\"text-align: right;\">\n",
       "      <th></th>\n",
       "      <th>Variance</th>\n",
       "      <th>Skewness</th>\n",
       "      <th>Curtosis</th>\n",
       "      <th>Entropy</th>\n",
       "      <th>Class</th>\n",
       "    </tr>\n",
       "  </thead>\n",
       "  <tbody>\n",
       "    <tr>\n",
       "      <th>0</th>\n",
       "      <td>3.62160</td>\n",
       "      <td>8.66610</td>\n",
       "      <td>-2.8073</td>\n",
       "      <td>-0.44699</td>\n",
       "      <td>0</td>\n",
       "    </tr>\n",
       "    <tr>\n",
       "      <th>1</th>\n",
       "      <td>4.54590</td>\n",
       "      <td>8.16740</td>\n",
       "      <td>-2.4586</td>\n",
       "      <td>-1.46210</td>\n",
       "      <td>0</td>\n",
       "    </tr>\n",
       "    <tr>\n",
       "      <th>2</th>\n",
       "      <td>3.86600</td>\n",
       "      <td>-2.63830</td>\n",
       "      <td>1.9242</td>\n",
       "      <td>0.10645</td>\n",
       "      <td>0</td>\n",
       "    </tr>\n",
       "    <tr>\n",
       "      <th>3</th>\n",
       "      <td>3.45660</td>\n",
       "      <td>9.52280</td>\n",
       "      <td>-4.0112</td>\n",
       "      <td>-3.59440</td>\n",
       "      <td>0</td>\n",
       "    </tr>\n",
       "    <tr>\n",
       "      <th>4</th>\n",
       "      <td>0.32924</td>\n",
       "      <td>-4.45520</td>\n",
       "      <td>4.5718</td>\n",
       "      <td>-0.98880</td>\n",
       "      <td>0</td>\n",
       "    </tr>\n",
       "    <tr>\n",
       "      <th>...</th>\n",
       "      <td>...</td>\n",
       "      <td>...</td>\n",
       "      <td>...</td>\n",
       "      <td>...</td>\n",
       "      <td>...</td>\n",
       "    </tr>\n",
       "    <tr>\n",
       "      <th>1367</th>\n",
       "      <td>0.40614</td>\n",
       "      <td>1.34920</td>\n",
       "      <td>-1.4501</td>\n",
       "      <td>-0.55949</td>\n",
       "      <td>1</td>\n",
       "    </tr>\n",
       "    <tr>\n",
       "      <th>1368</th>\n",
       "      <td>-1.38870</td>\n",
       "      <td>-4.87730</td>\n",
       "      <td>6.4774</td>\n",
       "      <td>0.34179</td>\n",
       "      <td>1</td>\n",
       "    </tr>\n",
       "    <tr>\n",
       "      <th>1369</th>\n",
       "      <td>-3.75030</td>\n",
       "      <td>-13.45860</td>\n",
       "      <td>17.5932</td>\n",
       "      <td>-2.77710</td>\n",
       "      <td>1</td>\n",
       "    </tr>\n",
       "    <tr>\n",
       "      <th>1370</th>\n",
       "      <td>-3.56370</td>\n",
       "      <td>-8.38270</td>\n",
       "      <td>12.3930</td>\n",
       "      <td>-1.28230</td>\n",
       "      <td>1</td>\n",
       "    </tr>\n",
       "    <tr>\n",
       "      <th>1371</th>\n",
       "      <td>-2.54190</td>\n",
       "      <td>-0.65804</td>\n",
       "      <td>2.6842</td>\n",
       "      <td>1.19520</td>\n",
       "      <td>1</td>\n",
       "    </tr>\n",
       "  </tbody>\n",
       "</table>\n",
       "<p>1372 rows × 5 columns</p>\n",
       "</div>"
      ],
      "text/plain": [
       "      Variance  Skewness  Curtosis  Entropy  Class\n",
       "0      3.62160   8.66610   -2.8073 -0.44699      0\n",
       "1      4.54590   8.16740   -2.4586 -1.46210      0\n",
       "2      3.86600  -2.63830    1.9242  0.10645      0\n",
       "3      3.45660   9.52280   -4.0112 -3.59440      0\n",
       "4      0.32924  -4.45520    4.5718 -0.98880      0\n",
       "...        ...       ...       ...      ...    ...\n",
       "1367   0.40614   1.34920   -1.4501 -0.55949      1\n",
       "1368  -1.38870  -4.87730    6.4774  0.34179      1\n",
       "1369  -3.75030 -13.45860   17.5932 -2.77710      1\n",
       "1370  -3.56370  -8.38270   12.3930 -1.28230      1\n",
       "1371  -2.54190  -0.65804    2.6842  1.19520      1\n",
       "\n",
       "[1372 rows x 5 columns]"
      ]
     },
     "execution_count": 26,
     "metadata": {},
     "output_type": "execute_result"
    }
   ],
   "source": [
    "bill_df"
   ]
  },
  {
   "cell_type": "markdown",
   "id": "1022d103",
   "metadata": {},
   "source": [
    "# Case #1: 2 Principal Components "
   ]
  },
  {
   "cell_type": "code",
   "execution_count": 33,
   "id": "20b106d1",
   "metadata": {},
   "outputs": [
    {
     "data": {
      "text/html": [
       "<div>\n",
       "<style scoped>\n",
       "    .dataframe tbody tr th:only-of-type {\n",
       "        vertical-align: middle;\n",
       "    }\n",
       "\n",
       "    .dataframe tbody tr th {\n",
       "        vertical-align: top;\n",
       "    }\n",
       "\n",
       "    .dataframe thead th {\n",
       "        text-align: right;\n",
       "    }\n",
       "</style>\n",
       "<table border=\"1\" class=\"dataframe\">\n",
       "  <thead>\n",
       "    <tr style=\"text-align: right;\">\n",
       "      <th></th>\n",
       "      <th>Variance</th>\n",
       "      <th>Skewness</th>\n",
       "      <th>Curtosis</th>\n",
       "      <th>Entropy</th>\n",
       "    </tr>\n",
       "  </thead>\n",
       "  <tbody>\n",
       "    <tr>\n",
       "      <th>0</th>\n",
       "      <td>3.62160</td>\n",
       "      <td>8.66610</td>\n",
       "      <td>-2.8073</td>\n",
       "      <td>-0.44699</td>\n",
       "    </tr>\n",
       "    <tr>\n",
       "      <th>1</th>\n",
       "      <td>4.54590</td>\n",
       "      <td>8.16740</td>\n",
       "      <td>-2.4586</td>\n",
       "      <td>-1.46210</td>\n",
       "    </tr>\n",
       "    <tr>\n",
       "      <th>2</th>\n",
       "      <td>3.86600</td>\n",
       "      <td>-2.63830</td>\n",
       "      <td>1.9242</td>\n",
       "      <td>0.10645</td>\n",
       "    </tr>\n",
       "    <tr>\n",
       "      <th>3</th>\n",
       "      <td>3.45660</td>\n",
       "      <td>9.52280</td>\n",
       "      <td>-4.0112</td>\n",
       "      <td>-3.59440</td>\n",
       "    </tr>\n",
       "    <tr>\n",
       "      <th>4</th>\n",
       "      <td>0.32924</td>\n",
       "      <td>-4.45520</td>\n",
       "      <td>4.5718</td>\n",
       "      <td>-0.98880</td>\n",
       "    </tr>\n",
       "    <tr>\n",
       "      <th>...</th>\n",
       "      <td>...</td>\n",
       "      <td>...</td>\n",
       "      <td>...</td>\n",
       "      <td>...</td>\n",
       "    </tr>\n",
       "    <tr>\n",
       "      <th>1367</th>\n",
       "      <td>0.40614</td>\n",
       "      <td>1.34920</td>\n",
       "      <td>-1.4501</td>\n",
       "      <td>-0.55949</td>\n",
       "    </tr>\n",
       "    <tr>\n",
       "      <th>1368</th>\n",
       "      <td>-1.38870</td>\n",
       "      <td>-4.87730</td>\n",
       "      <td>6.4774</td>\n",
       "      <td>0.34179</td>\n",
       "    </tr>\n",
       "    <tr>\n",
       "      <th>1369</th>\n",
       "      <td>-3.75030</td>\n",
       "      <td>-13.45860</td>\n",
       "      <td>17.5932</td>\n",
       "      <td>-2.77710</td>\n",
       "    </tr>\n",
       "    <tr>\n",
       "      <th>1370</th>\n",
       "      <td>-3.56370</td>\n",
       "      <td>-8.38270</td>\n",
       "      <td>12.3930</td>\n",
       "      <td>-1.28230</td>\n",
       "    </tr>\n",
       "    <tr>\n",
       "      <th>1371</th>\n",
       "      <td>-2.54190</td>\n",
       "      <td>-0.65804</td>\n",
       "      <td>2.6842</td>\n",
       "      <td>1.19520</td>\n",
       "    </tr>\n",
       "  </tbody>\n",
       "</table>\n",
       "<p>1372 rows × 4 columns</p>\n",
       "</div>"
      ],
      "text/plain": [
       "      Variance  Skewness  Curtosis  Entropy\n",
       "0      3.62160   8.66610   -2.8073 -0.44699\n",
       "1      4.54590   8.16740   -2.4586 -1.46210\n",
       "2      3.86600  -2.63830    1.9242  0.10645\n",
       "3      3.45660   9.52280   -4.0112 -3.59440\n",
       "4      0.32924  -4.45520    4.5718 -0.98880\n",
       "...        ...       ...       ...      ...\n",
       "1367   0.40614   1.34920   -1.4501 -0.55949\n",
       "1368  -1.38870  -4.87730    6.4774  0.34179\n",
       "1369  -3.75030 -13.45860   17.5932 -2.77710\n",
       "1370  -3.56370  -8.38270   12.3930 -1.28230\n",
       "1371  -2.54190  -0.65804    2.6842  1.19520\n",
       "\n",
       "[1372 rows x 4 columns]"
      ]
     },
     "execution_count": 33,
     "metadata": {},
     "output_type": "execute_result"
    }
   ],
   "source": [
    "bill = bill_df.drop('Class', axis=1)\n",
    "bill"
   ]
  },
  {
   "cell_type": "code",
   "execution_count": 28,
   "id": "d12487f1",
   "metadata": {},
   "outputs": [
    {
     "data": {
      "text/html": [
       "<div>\n",
       "<style scoped>\n",
       "    .dataframe tbody tr th:only-of-type {\n",
       "        vertical-align: middle;\n",
       "    }\n",
       "\n",
       "    .dataframe tbody tr th {\n",
       "        vertical-align: top;\n",
       "    }\n",
       "\n",
       "    .dataframe thead th {\n",
       "        text-align: right;\n",
       "    }\n",
       "</style>\n",
       "<table border=\"1\" class=\"dataframe\">\n",
       "  <thead>\n",
       "    <tr style=\"text-align: right;\">\n",
       "      <th></th>\n",
       "      <th>Principal Component 1</th>\n",
       "      <th>Principal Component 2</th>\n",
       "    </tr>\n",
       "  </thead>\n",
       "  <tbody>\n",
       "    <tr>\n",
       "      <th>0</th>\n",
       "      <td>-8.117954</td>\n",
       "      <td>-2.372615</td>\n",
       "    </tr>\n",
       "    <tr>\n",
       "      <th>1</th>\n",
       "      <td>-7.800124</td>\n",
       "      <td>-2.689555</td>\n",
       "    </tr>\n",
       "    <tr>\n",
       "      <th>2</th>\n",
       "      <td>3.690195</td>\n",
       "      <td>-4.372720</td>\n",
       "    </tr>\n",
       "    <tr>\n",
       "      <th>3</th>\n",
       "      <td>-9.908612</td>\n",
       "      <td>-0.978030</td>\n",
       "    </tr>\n",
       "    <tr>\n",
       "      <th>4</th>\n",
       "      <td>6.957545</td>\n",
       "      <td>-0.733813</td>\n",
       "    </tr>\n",
       "  </tbody>\n",
       "</table>\n",
       "</div>"
      ],
      "text/plain": [
       "   Principal Component 1  Principal Component 2\n",
       "0              -8.117954              -2.372615\n",
       "1              -7.800124              -2.689555\n",
       "2               3.690195              -4.372720\n",
       "3              -9.908612              -0.978030\n",
       "4               6.957545              -0.733813"
      ]
     },
     "execution_count": 28,
     "metadata": {},
     "output_type": "execute_result"
    }
   ],
   "source": [
    "from sklearn.decomposition import PCA\n",
    "\n",
    "pca_2 = PCA(n_components=2)\n",
    "\n",
    "p_com_2 = pca_2.fit_transform(bill) \n",
    "\n",
    "bill_red_2 = pd.DataFrame(data=p_com_2, columns=['Principal Component 1', 'Principal Component 2'])\n",
    "\n",
    "bill_red_2.head(5)"
   ]
  },
  {
   "cell_type": "code",
   "execution_count": 29,
   "id": "0d305f5a",
   "metadata": {},
   "outputs": [
    {
     "name": "stdout",
     "output_type": "stream",
     "text": [
      "Proportion of variance explained by two principal components is 90.32289954282113 %\n"
     ]
    }
   ],
   "source": [
    "#Calculate Explained Variance Ratio\n",
    "print(\"Proportion of variance explained by two principal components is\", 100*sum(pca_2.explained_variance_ratio_),\"%\")"
   ]
  },
  {
   "cell_type": "markdown",
   "id": "04504f47",
   "metadata": {},
   "source": [
    "# Case #2: 3 Principal Components "
   ]
  },
  {
   "cell_type": "code",
   "execution_count": 30,
   "id": "5b061d70",
   "metadata": {},
   "outputs": [
    {
     "data": {
      "text/html": [
       "<div>\n",
       "<style scoped>\n",
       "    .dataframe tbody tr th:only-of-type {\n",
       "        vertical-align: middle;\n",
       "    }\n",
       "\n",
       "    .dataframe tbody tr th {\n",
       "        vertical-align: top;\n",
       "    }\n",
       "\n",
       "    .dataframe thead th {\n",
       "        text-align: right;\n",
       "    }\n",
       "</style>\n",
       "<table border=\"1\" class=\"dataframe\">\n",
       "  <thead>\n",
       "    <tr style=\"text-align: right;\">\n",
       "      <th></th>\n",
       "      <th>Principal Component 1</th>\n",
       "      <th>Principal Component 2</th>\n",
       "      <th>Principal Component 3</th>\n",
       "    </tr>\n",
       "  </thead>\n",
       "  <tbody>\n",
       "    <tr>\n",
       "      <th>0</th>\n",
       "      <td>-8.117954</td>\n",
       "      <td>-2.372615</td>\n",
       "      <td>1.192382</td>\n",
       "    </tr>\n",
       "    <tr>\n",
       "      <th>1</th>\n",
       "      <td>-7.800124</td>\n",
       "      <td>-2.689555</td>\n",
       "      <td>1.616302</td>\n",
       "    </tr>\n",
       "    <tr>\n",
       "      <th>2</th>\n",
       "      <td>3.690195</td>\n",
       "      <td>-4.372720</td>\n",
       "      <td>-0.166388</td>\n",
       "    </tr>\n",
       "    <tr>\n",
       "      <th>3</th>\n",
       "      <td>-9.908612</td>\n",
       "      <td>-0.978030</td>\n",
       "      <td>0.517427</td>\n",
       "    </tr>\n",
       "    <tr>\n",
       "      <th>4</th>\n",
       "      <td>6.957545</td>\n",
       "      <td>-0.733813</td>\n",
       "      <td>-0.480262</td>\n",
       "    </tr>\n",
       "  </tbody>\n",
       "</table>\n",
       "</div>"
      ],
      "text/plain": [
       "   Principal Component 1  Principal Component 2  Principal Component 3\n",
       "0              -8.117954              -2.372615               1.192382\n",
       "1              -7.800124              -2.689555               1.616302\n",
       "2               3.690195              -4.372720              -0.166388\n",
       "3              -9.908612              -0.978030               0.517427\n",
       "4               6.957545              -0.733813              -0.480262"
      ]
     },
     "execution_count": 30,
     "metadata": {},
     "output_type": "execute_result"
    }
   ],
   "source": [
    "pca_3 = PCA(n_components=3) \n",
    "\n",
    "p_com_3 = pca_3.fit_transform(bill)\n",
    "\n",
    "bill_red_3 = pd.DataFrame(data = p_com_3, columns=['Principal Component 1', 'Principal Component 2', 'Principal Component 3'])\n",
    "\n",
    "bill_red_3.head(5)"
   ]
  },
  {
   "cell_type": "code",
   "execution_count": 31,
   "id": "287ccead",
   "metadata": {},
   "outputs": [
    {
     "name": "stdout",
     "output_type": "stream",
     "text": [
      "Proportion of variance explained by three principal components is 97.02466637184506 %\n"
     ]
    }
   ],
   "source": [
    "print(\"Proportion of variance explained by three principal components is\", 100*sum(pca_3.explained_variance_ratio_),\"%\")"
   ]
  },
  {
   "cell_type": "markdown",
   "id": "11ffdae3",
   "metadata": {},
   "source": [
    "# Plot Explained Variance Ratio to Find the Optimal Number of Principal Components. "
   ]
  },
  {
   "cell_type": "code",
   "execution_count": 32,
   "id": "4d47df18",
   "metadata": {},
   "outputs": [
    {
     "data": {
      "image/png": "[encoded data removed]",
      "text/plain": [
       "<Figure size 432x288 with 1 Axes>"
      ]
     },
     "metadata": {
      "needs_background": "light"
     },
     "output_type": "display_data"
    }
   ],
   "source": [
    "import matplotlib.pyplot as plt\n",
    "\n",
    "fig, ax = plt.subplots()\n",
    "X = np.arange(1, 4, step=1)\n",
    "y = np.cumsum(pca_3.explained_variance_ratio_)\n",
    "\n",
    "plt.ylim(0.0,1.1)\n",
    "plt.plot(X, y, marker='o', linestyle='--', color='b')\n",
    "\n",
    "plt.xlabel('Number of Components')\n",
    "plt.xticks(np.arange(0, 11, step=1))\n",
    "plt.ylabel('Cumulative Explained variance (%)')\n",
    "plt.title('Number of components needed to explain at least 90% of variance')\n",
    "ax.grid(axis='x')\n",
    "plt.show()"
   ]
  },
  {
   "cell_type": "markdown",
   "id": "2a327f40",
   "metadata": {},
   "source": [
    "Since over 90% of variance is already explained just by first 2 principal components, the optimal number of principal components for bill authentication dataset would be 2. "
   ]
  },
  {
   "cell_type": "markdown",
   "id": "47a3d159",
   "metadata": {},
   "source": [
    "# Build Models with Bill Authentication dataset reduced to 2 principal components."
   ]
  },
  {
   "cell_type": "code",
   "execution_count": 45,
   "id": "2ef2e9ce",
   "metadata": {},
   "outputs": [],
   "source": [
    "from sklearn.linear_model import LogisticRegression \n",
    "from sklearn.svm import SVC \n",
    "from sklearn.metrics import accuracy_score\n",
    "from sklearn.metrics import plot_confusion_matrix"
   ]
  },
  {
   "cell_type": "code",
   "execution_count": 24,
   "id": "84497f20",
   "metadata": {},
   "outputs": [],
   "source": [
    "lr = LogisticRegression(solver='liblinear')\n",
    "svc = SVC(kernel='linear')"
   ]
  },
  {
   "cell_type": "code",
   "execution_count": 35,
   "id": "bc1126f1",
   "metadata": {},
   "outputs": [],
   "source": [
    "from sklearn.model_selection import train_test_split \n",
    "X = bill \n",
    "y = bill_df['Class']\n",
    "\n",
    "X_train, X_test, y_train, y_test = train_test_split(X, y, test_size=0.2, random_state=42)"
   ]
  },
  {
   "cell_type": "code",
   "execution_count": 37,
   "id": "67a2f724",
   "metadata": {},
   "outputs": [
    {
     "data": {
      "text/plain": [
       "SVC(kernel='linear')"
      ]
     },
     "execution_count": 37,
     "metadata": {},
     "output_type": "execute_result"
    }
   ],
   "source": [
    "#fit Logistic Regression and Support Vector Classifer with training set. \n",
    "lr.fit(X_train, y_train)\n",
    "svc.fit(X_train, y_train) "
   ]
  },
  {
   "cell_type": "markdown",
   "id": "a79d3bc1",
   "metadata": {},
   "source": [
    "## Validate Logistic Regression "
   ]
  },
  {
   "cell_type": "code",
   "execution_count": 40,
   "id": "ddbde309",
   "metadata": {},
   "outputs": [
    {
     "name": "stdout",
     "output_type": "stream",
     "text": [
      "Accuracy of logistic regression: 0.9854545454545455\n"
     ]
    }
   ],
   "source": [
    "#find the test accuracy\n",
    "y_preds_lr = lr.predict(X_test) \n",
    "print(\"Accuracy of logistic regression:\", accuracy_score(y_test, y_preds_lr))"
   ]
  },
  {
   "cell_type": "code",
   "execution_count": 47,
   "id": "06d759b6",
   "metadata": {},
   "outputs": [
    {
     "name": "stderr",
     "output_type": "stream",
     "text": [
      "C:\\Users\\tlsdu\\anaconda3\\lib\\site-packages\\sklearn\\utils\\deprecation.py:87: FutureWarning: Function plot_confusion_matrix is deprecated; Function `plot_confusion_matrix` is deprecated in 1.0 and will be removed in 1.2. Use one of the class methods: ConfusionMatrixDisplay.from_predictions or ConfusionMatrixDisplay.from_estimator.\n",
      "  warnings.warn(msg, category=FutureWarning)\n"
     ]
    },
    {
     "name": "stdout",
     "output_type": "stream",
     "text": [
      "<sklearn.metrics._plot.confusion_matrix.ConfusionMatrixDisplay object at 0x000002342BDA9E80>\n"
     ]
    },
    {
     "data": {
      "image/png": "[encoded data removed]",
      "text/plain": [
       "<Figure size 432x288 with 2 Axes>"
      ]
     },
     "metadata": {
      "needs_background": "light"
     },
     "output_type": "display_data"
    }
   ],
   "source": [
    "#build confusion matrix\n",
    "print(plot_confusion_matrix(lr, X_test, y_test))"
   ]
  },
  {
   "cell_type": "markdown",
   "id": "c635dfd3",
   "metadata": {},
   "source": [
    "## Validate Support Vector Classifier"
   ]
  },
  {
   "cell_type": "code",
   "execution_count": 42,
   "id": "095138fc",
   "metadata": {},
   "outputs": [
    {
     "name": "stdout",
     "output_type": "stream",
     "text": [
      "Accuracy of Support Vector Classifier 0.9854545454545455\n"
     ]
    }
   ],
   "source": [
    "#find the test accuracy for Support Vector Classifier\n",
    "y_preds_svc = svc.predict(X_test)\n",
    "print(\"Accuracy of Support Vector Classifier\", accuracy_score(y_test, y_preds_svc))"
   ]
  },
  {
   "cell_type": "code",
   "execution_count": 48,
   "id": "c51ab0d6",
   "metadata": {},
   "outputs": [
    {
     "name": "stderr",
     "output_type": "stream",
     "text": [
      "C:\\Users\\tlsdu\\anaconda3\\lib\\site-packages\\sklearn\\utils\\deprecation.py:87: FutureWarning: Function plot_confusion_matrix is deprecated; Function `plot_confusion_matrix` is deprecated in 1.0 and will be removed in 1.2. Use one of the class methods: ConfusionMatrixDisplay.from_predictions or ConfusionMatrixDisplay.from_estimator.\n",
      "  warnings.warn(msg, category=FutureWarning)\n"
     ]
    },
    {
     "name": "stdout",
     "output_type": "stream",
     "text": [
      "<sklearn.metrics._plot.confusion_matrix.ConfusionMatrixDisplay object at 0x000002342B1EA490>\n"
     ]
    },
    {
     "data": {
      "image/png": "[encoded data removed]",
      "text/plain": [
       "<Figure size 432x288 with 2 Axes>"
      ]
     },
     "metadata": {
      "needs_background": "light"
     },
     "output_type": "display_data"
    }
   ],
   "source": [
    "#build confusion matrix \n",
    "print(plot_confusion_matrix(svc, X_test, y_test))"
   ]
  },
  {
   "cell_type": "markdown",
   "id": "34ab5765",
   "metadata": {},
   "source": [
    "Logistic Regression with 'liblinear' solver and Support Vector Classifier with linear kernel both achieved exactly same accuracy\n",
    "of 98.55%. Both models only had 4 misclassified test samples out of 275 according to confusion matrix. "
   ]
  }
 ],
 "metadata": {
  "kernelspec": {
   "display_name": "Python 3 (ipykernel)",
   "language": "python",
   "name": "python3"
  },
  "language_info": {
   "codemirror_mode": {
    "name": "ipython",
    "version": 3
   },
   "file_extension": ".py",
   "mimetype": "text/x-python",
   "name": "python",
   "nbconvert_exporter": "python",
   "pygments_lexer": "ipython3",
   "version": "3.9.12"
  }
 },
 "nbformat": 4,
 "nbformat_minor": 5
}
