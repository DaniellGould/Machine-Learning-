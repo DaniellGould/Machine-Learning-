{
 "cells": [
  {
   "cell_type": "markdown",
   "id": "c83a47c3",
   "metadata": {},
   "source": [
    "# Predict Bitcoin Price"
   ]
  },
  {
   "cell_type": "code",
   "execution_count": 1,
   "id": "d9bff9a2",
   "metadata": {},
   "outputs": [
    {
     "name": "stdout",
     "output_type": "stream",
     "text": [
      "Requirement already satisfied: pandas-datareader in c:\\users\\a\\anaconda3\\lib\\site-packages (0.10.0)\n",
      "Requirement already satisfied: lxml in c:\\users\\a\\anaconda3\\lib\\site-packages (from pandas-datareader) (4.8.0)\n",
      "Requirement already satisfied: pandas>=0.23 in c:\\users\\a\\anaconda3\\lib\\site-packages (from pandas-datareader) (1.4.2)\n",
      "Requirement already satisfied: requests>=2.19.0 in c:\\users\\a\\anaconda3\\lib\\site-packages (from pandas-datareader) (2.27.1)\n",
      "Requirement already satisfied: python-dateutil>=2.8.1 in c:\\users\\a\\anaconda3\\lib\\site-packages (from pandas>=0.23->pandas-datareader) (2.8.2)\n",
      "Requirement already satisfied: pytz>=2020.1 in c:\\users\\a\\anaconda3\\lib\\site-packages (from pandas>=0.23->pandas-datareader) (2021.3)\n",
      "Requirement already satisfied: numpy>=1.18.5 in c:\\users\\a\\anaconda3\\lib\\site-packages (from pandas>=0.23->pandas-datareader) (1.21.6)\n",
      "Requirement already satisfied: six>=1.5 in c:\\users\\a\\anaconda3\\lib\\site-packages (from python-dateutil>=2.8.1->pandas>=0.23->pandas-datareader) (1.16.0)\n",
      "Requirement already satisfied: certifi>=2017.4.17 in c:\\users\\a\\anaconda3\\lib\\site-packages (from requests>=2.19.0->pandas-datareader) (2021.10.8)\n",
      "Requirement already satisfied: idna<4,>=2.5 in c:\\users\\a\\anaconda3\\lib\\site-packages (from requests>=2.19.0->pandas-datareader) (3.3)\n",
      "Requirement already satisfied: charset-normalizer~=2.0.0 in c:\\users\\a\\anaconda3\\lib\\site-packages (from requests>=2.19.0->pandas-datareader) (2.0.4)\n",
      "Requirement already satisfied: urllib3<1.27,>=1.21.1 in c:\\users\\a\\anaconda3\\lib\\site-packages (from requests>=2.19.0->pandas-datareader) (1.26.9)\n"
     ]
    }
   ],
   "source": [
    "!pip install pandas-datareader"
   ]
  },
  {
   "cell_type": "code",
   "execution_count": 2,
   "id": "40f2c5fc",
   "metadata": {
    "scrolled": true
   },
   "outputs": [
    {
     "name": "stdout",
     "output_type": "stream",
     "text": [
      "Requirement already satisfied: tensorflow in c:\\users\\a\\anaconda3\\lib\\site-packages (2.9.1)\n",
      "Requirement already satisfied: tensorboard<2.10,>=2.9 in c:\\users\\a\\anaconda3\\lib\\site-packages (from tensorflow) (2.9.1)\n",
      "Requirement already satisfied: astunparse>=1.6.0 in c:\\users\\a\\anaconda3\\lib\\site-packages (from tensorflow) (1.6.3)\n",
      "Requirement already satisfied: tensorflow-estimator<2.10.0,>=2.9.0rc0 in c:\\users\\a\\anaconda3\\lib\\site-packages (from tensorflow) (2.9.0)\n",
      "Requirement already satisfied: keras<2.10.0,>=2.9.0rc0 in c:\\users\\a\\anaconda3\\lib\\site-packages (from tensorflow) (2.9.0)\n",
      "Requirement already satisfied: wrapt>=1.11.0 in c:\\users\\a\\anaconda3\\lib\\site-packages (from tensorflow) (1.12.1)\n",
      "Requirement already satisfied: gast<=0.4.0,>=0.2.1 in c:\\users\\a\\anaconda3\\lib\\site-packages (from tensorflow) (0.4.0)\n",
      "Requirement already satisfied: opt-einsum>=2.3.2 in c:\\users\\a\\anaconda3\\lib\\site-packages (from tensorflow) (3.3.0)\n",
      "Requirement already satisfied: tensorflow-io-gcs-filesystem>=0.23.1 in c:\\users\\a\\anaconda3\\lib\\site-packages (from tensorflow) (0.26.0)\n",
      "Requirement already satisfied: keras-preprocessing>=1.1.1 in c:\\users\\a\\anaconda3\\lib\\site-packages (from tensorflow) (1.1.2)\n",
      "Requirement already satisfied: numpy>=1.20 in c:\\users\\a\\anaconda3\\lib\\site-packages (from tensorflow) (1.21.6)\n",
      "Requirement already satisfied: six>=1.12.0 in c:\\users\\a\\anaconda3\\lib\\site-packages (from tensorflow) (1.16.0)\n",
      "Requirement already satisfied: google-pasta>=0.1.1 in c:\\users\\a\\anaconda3\\lib\\site-packages (from tensorflow) (0.2.0)\n",
      "Requirement already satisfied: termcolor>=1.1.0 in c:\\users\\a\\anaconda3\\lib\\site-packages (from tensorflow) (1.1.0)\n",
      "Requirement already satisfied: h5py>=2.9.0 in c:\\users\\a\\anaconda3\\lib\\site-packages (from tensorflow) (3.6.0)\n",
      "Requirement already satisfied: setuptools in c:\\users\\a\\anaconda3\\lib\\site-packages (from tensorflow) (61.2.0)\n",
      "Requirement already satisfied: absl-py>=1.0.0 in c:\\users\\a\\anaconda3\\lib\\site-packages (from tensorflow) (1.1.0)\n",
      "Requirement already satisfied: grpcio<2.0,>=1.24.3 in c:\\users\\a\\anaconda3\\lib\\site-packages (from tensorflow) (1.42.0)\n",
      "Requirement already satisfied: typing-extensions>=3.6.6 in c:\\users\\a\\anaconda3\\lib\\site-packages (from tensorflow) (4.1.1)\n",
      "Requirement already satisfied: flatbuffers<2,>=1.12 in c:\\users\\a\\anaconda3\\lib\\site-packages (from tensorflow) (1.12)\n",
      "Requirement already satisfied: protobuf<3.20,>=3.9.2 in c:\\users\\a\\anaconda3\\lib\\site-packages (from tensorflow) (3.19.1)\n",
      "Requirement already satisfied: packaging in c:\\users\\a\\anaconda3\\lib\\site-packages (from tensorflow) (21.3)\n",
      "Requirement already satisfied: libclang>=13.0.0 in c:\\users\\a\\anaconda3\\lib\\site-packages (from tensorflow) (14.0.1)\n",
      "Requirement already satisfied: wheel<1.0,>=0.23.0 in c:\\users\\a\\anaconda3\\lib\\site-packages (from astunparse>=1.6.0->tensorflow) (0.37.1)\n",
      "Requirement already satisfied: google-auth<3,>=1.6.3 in c:\\users\\a\\anaconda3\\lib\\site-packages (from tensorboard<2.10,>=2.9->tensorflow) (1.33.0)\n",
      "Requirement already satisfied: werkzeug>=1.0.1 in c:\\users\\a\\anaconda3\\lib\\site-packages (from tensorboard<2.10,>=2.9->tensorflow) (2.0.3)\n",
      "Requirement already satisfied: markdown>=2.6.8 in c:\\users\\a\\anaconda3\\lib\\site-packages (from tensorboard<2.10,>=2.9->tensorflow) (3.3.4)\n",
      "Requirement already satisfied: tensorboard-plugin-wit>=1.6.0 in c:\\users\\a\\anaconda3\\lib\\site-packages (from tensorboard<2.10,>=2.9->tensorflow) (1.8.1)\n",
      "Requirement already satisfied: requests<3,>=2.21.0 in c:\\users\\a\\anaconda3\\lib\\site-packages (from tensorboard<2.10,>=2.9->tensorflow) (2.27.1)\n",
      "Requirement already satisfied: tensorboard-data-server<0.7.0,>=0.6.0 in c:\\users\\a\\anaconda3\\lib\\site-packages (from tensorboard<2.10,>=2.9->tensorflow) (0.6.1)\n",
      "Requirement already satisfied: google-auth-oauthlib<0.5,>=0.4.1 in c:\\users\\a\\anaconda3\\lib\\site-packages (from tensorboard<2.10,>=2.9->tensorflow) (0.4.6)\n",
      "Requirement already satisfied: cachetools<5.0,>=2.0.0 in c:\\users\\a\\anaconda3\\lib\\site-packages (from google-auth<3,>=1.6.3->tensorboard<2.10,>=2.9->tensorflow) (4.2.2)\n",
      "Requirement already satisfied: pyasn1-modules>=0.2.1 in c:\\users\\a\\anaconda3\\lib\\site-packages (from google-auth<3,>=1.6.3->tensorboard<2.10,>=2.9->tensorflow) (0.2.8)\n",
      "Requirement already satisfied: rsa<5,>=3.1.4 in c:\\users\\a\\anaconda3\\lib\\site-packages (from google-auth<3,>=1.6.3->tensorboard<2.10,>=2.9->tensorflow) (4.7.2)\n",
      "Requirement already satisfied: requests-oauthlib>=0.7.0 in c:\\users\\a\\anaconda3\\lib\\site-packages (from google-auth-oauthlib<0.5,>=0.4.1->tensorboard<2.10,>=2.9->tensorflow) (1.3.1)\n",
      "Requirement already satisfied: pyasn1<0.5.0,>=0.4.6 in c:\\users\\a\\anaconda3\\lib\\site-packages (from pyasn1-modules>=0.2.1->google-auth<3,>=1.6.3->tensorboard<2.10,>=2.9->tensorflow) (0.4.8)\n",
      "Requirement already satisfied: charset-normalizer~=2.0.0 in c:\\users\\a\\anaconda3\\lib\\site-packages (from requests<3,>=2.21.0->tensorboard<2.10,>=2.9->tensorflow) (2.0.4)\n",
      "Requirement already satisfied: idna<4,>=2.5 in c:\\users\\a\\anaconda3\\lib\\site-packages (from requests<3,>=2.21.0->tensorboard<2.10,>=2.9->tensorflow) (3.3)\n",
      "Requirement already satisfied: certifi>=2017.4.17 in c:\\users\\a\\anaconda3\\lib\\site-packages (from requests<3,>=2.21.0->tensorboard<2.10,>=2.9->tensorflow) (2021.10.8)\n",
      "Requirement already satisfied: urllib3<1.27,>=1.21.1 in c:\\users\\a\\anaconda3\\lib\\site-packages (from requests<3,>=2.21.0->tensorboard<2.10,>=2.9->tensorflow) (1.26.9)\n",
      "Requirement already satisfied: oauthlib>=3.0.0 in c:\\users\\a\\anaconda3\\lib\\site-packages (from requests-oauthlib>=0.7.0->google-auth-oauthlib<0.5,>=0.4.1->tensorboard<2.10,>=2.9->tensorflow) (3.2.0)\n",
      "Requirement already satisfied: pyparsing!=3.0.5,>=2.0.2 in c:\\users\\a\\anaconda3\\lib\\site-packages (from packaging->tensorflow) (3.0.4)\n"
     ]
    }
   ],
   "source": [
    "!pip install tensorflow"
   ]
  },
  {
   "cell_type": "code",
   "execution_count": 3,
   "id": "38a04e0c",
   "metadata": {},
   "outputs": [
    {
     "name": "stderr",
     "output_type": "stream",
     "text": [
      "C:\\Users\\A\\anaconda3\\lib\\site-packages\\numpy\\_distributor_init.py:30: UserWarning: loaded more than 1 DLL from .libs:\n",
      "C:\\Users\\A\\anaconda3\\lib\\site-packages\\numpy\\.libs\\libopenblas.WCDJNK7YVMPZQ2ME2ZZHJJRJ3JIKNDB7.gfortran-win_amd64.dll\n",
      "C:\\Users\\A\\anaconda3\\lib\\site-packages\\numpy\\.libs\\libopenblas.XWYDX2IKJW2NMTWSFYNGFUWKQU3LYTCZ.gfortran-win_amd64.dll\n",
      "  warnings.warn(\"loaded more than 1 DLL from .libs:\"\n"
     ]
    }
   ],
   "source": [
    "import numpy as np \n",
    "import matplotlib.pyplot as plt\n",
    "import pandas as pd \n",
    "import pandas_datareader as web \n",
    "import datetime as dt \n",
    "\n",
    "from sklearn.preprocessing import MinMaxScaler \n",
    "from tensorflow.keras.layers import Dense, Dropout, LSTM \n",
    "from tensorflow.keras.models import Sequential"
   ]
  },
  {
   "cell_type": "markdown",
   "id": "b2871f13",
   "metadata": {},
   "source": [
    "# Variable initialization"
   ]
  },
  {
   "cell_type": "code",
   "execution_count": 4,
   "id": "eea86614",
   "metadata": {},
   "outputs": [],
   "source": [
    "crypto_currency = 'BTC'\n",
    "against_currency = 'USD'\n",
    "\n",
    "start = dt.datetime(2016, 1, 1)\n",
    "end = dt.datetime.now()\n",
    "\n",
    "data = web.DataReader(f'{crypto_currency}-{against_currency}', 'yahoo', start, end)"
   ]
  },
  {
   "cell_type": "code",
   "execution_count": 5,
   "id": "8845ed14",
   "metadata": {},
   "outputs": [
    {
     "name": "stdout",
     "output_type": "stream",
     "text": [
      "                  High         Low        Open       Close    Volume  \\\n",
      "Date                                                                   \n",
      "2015-12-31  432.920990  418.734985  425.875000  430.566986  45996600   \n",
      "2016-01-01  436.246002  427.515015  430.721008  434.334015  36278900   \n",
      "2016-01-02  436.062012  431.869995  434.622009  433.437988  30096600   \n",
      "2016-01-03  433.743011  424.705994  433.578003  430.010986  39633800   \n",
      "2016-01-04  434.516998  429.084015  430.061005  433.091003  38477500   \n",
      "\n",
      "             Adj Close  \n",
      "Date                    \n",
      "2015-12-31  430.566986  \n",
      "2016-01-01  434.334015  \n",
      "2016-01-02  433.437988  \n",
      "2016-01-03  430.010986  \n",
      "2016-01-04  433.091003  \n"
     ]
    }
   ],
   "source": [
    "#Prepare Data\n",
    "print(data.head())"
   ]
  },
  {
   "cell_type": "code",
   "execution_count": 6,
   "id": "ade0f763",
   "metadata": {},
   "outputs": [
    {
     "data": {
      "text/html": [
       "<div>\n",
       "<style scoped>\n",
       "    .dataframe tbody tr th:only-of-type {\n",
       "        vertical-align: middle;\n",
       "    }\n",
       "\n",
       "    .dataframe tbody tr th {\n",
       "        vertical-align: top;\n",
       "    }\n",
       "\n",
       "    .dataframe thead th {\n",
       "        text-align: right;\n",
       "    }\n",
       "</style>\n",
       "<table border=\"1\" class=\"dataframe\">\n",
       "  <thead>\n",
       "    <tr style=\"text-align: right;\">\n",
       "      <th></th>\n",
       "      <th>High</th>\n",
       "      <th>Low</th>\n",
       "      <th>Open</th>\n",
       "      <th>Close</th>\n",
       "      <th>Volume</th>\n",
       "      <th>Adj Close</th>\n",
       "    </tr>\n",
       "  </thead>\n",
       "  <tbody>\n",
       "    <tr>\n",
       "      <th>0</th>\n",
       "      <td>432.920990</td>\n",
       "      <td>418.734985</td>\n",
       "      <td>425.875000</td>\n",
       "      <td>430.566986</td>\n",
       "      <td>45996600</td>\n",
       "      <td>430.566986</td>\n",
       "    </tr>\n",
       "    <tr>\n",
       "      <th>1</th>\n",
       "      <td>436.246002</td>\n",
       "      <td>427.515015</td>\n",
       "      <td>430.721008</td>\n",
       "      <td>434.334015</td>\n",
       "      <td>36278900</td>\n",
       "      <td>434.334015</td>\n",
       "    </tr>\n",
       "    <tr>\n",
       "      <th>2</th>\n",
       "      <td>436.062012</td>\n",
       "      <td>431.869995</td>\n",
       "      <td>434.622009</td>\n",
       "      <td>433.437988</td>\n",
       "      <td>30096600</td>\n",
       "      <td>433.437988</td>\n",
       "    </tr>\n",
       "    <tr>\n",
       "      <th>3</th>\n",
       "      <td>433.743011</td>\n",
       "      <td>424.705994</td>\n",
       "      <td>433.578003</td>\n",
       "      <td>430.010986</td>\n",
       "      <td>39633800</td>\n",
       "      <td>430.010986</td>\n",
       "    </tr>\n",
       "    <tr>\n",
       "      <th>4</th>\n",
       "      <td>434.516998</td>\n",
       "      <td>429.084015</td>\n",
       "      <td>430.061005</td>\n",
       "      <td>433.091003</td>\n",
       "      <td>38477500</td>\n",
       "      <td>433.091003</td>\n",
       "    </tr>\n",
       "    <tr>\n",
       "      <th>...</th>\n",
       "      <td>...</td>\n",
       "      <td>...</td>\n",
       "      <td>...</td>\n",
       "      <td>...</td>\n",
       "      <td>...</td>\n",
       "      <td>...</td>\n",
       "    </tr>\n",
       "    <tr>\n",
       "      <th>2355</th>\n",
       "      <td>28502.685547</td>\n",
       "      <td>26762.648438</td>\n",
       "      <td>28373.513672</td>\n",
       "      <td>26762.648438</td>\n",
       "      <td>34163220274</td>\n",
       "      <td>26762.648438</td>\n",
       "    </tr>\n",
       "    <tr>\n",
       "      <th>2356</th>\n",
       "      <td>26795.589844</td>\n",
       "      <td>22141.257812</td>\n",
       "      <td>26737.578125</td>\n",
       "      <td>22487.388672</td>\n",
       "      <td>68204556440</td>\n",
       "      <td>22487.388672</td>\n",
       "    </tr>\n",
       "    <tr>\n",
       "      <th>2357</th>\n",
       "      <td>23018.951172</td>\n",
       "      <td>20950.818359</td>\n",
       "      <td>22487.986328</td>\n",
       "      <td>22206.792969</td>\n",
       "      <td>50913575242</td>\n",
       "      <td>22206.792969</td>\n",
       "    </tr>\n",
       "    <tr>\n",
       "      <th>2358</th>\n",
       "      <td>22642.671875</td>\n",
       "      <td>20178.376953</td>\n",
       "      <td>22196.730469</td>\n",
       "      <td>22572.839844</td>\n",
       "      <td>54912007015</td>\n",
       "      <td>22572.839844</td>\n",
       "    </tr>\n",
       "    <tr>\n",
       "      <th>2359</th>\n",
       "      <td>22805.945312</td>\n",
       "      <td>20293.244141</td>\n",
       "      <td>22632.828125</td>\n",
       "      <td>20307.843750</td>\n",
       "      <td>31108911104</td>\n",
       "      <td>20307.843750</td>\n",
       "    </tr>\n",
       "  </tbody>\n",
       "</table>\n",
       "<p>2360 rows × 6 columns</p>\n",
       "</div>"
      ],
      "text/plain": [
       "              High           Low          Open         Close       Volume  \\\n",
       "0       432.920990    418.734985    425.875000    430.566986     45996600   \n",
       "1       436.246002    427.515015    430.721008    434.334015     36278900   \n",
       "2       436.062012    431.869995    434.622009    433.437988     30096600   \n",
       "3       433.743011    424.705994    433.578003    430.010986     39633800   \n",
       "4       434.516998    429.084015    430.061005    433.091003     38477500   \n",
       "...            ...           ...           ...           ...          ...   \n",
       "2355  28502.685547  26762.648438  28373.513672  26762.648438  34163220274   \n",
       "2356  26795.589844  22141.257812  26737.578125  22487.388672  68204556440   \n",
       "2357  23018.951172  20950.818359  22487.986328  22206.792969  50913575242   \n",
       "2358  22642.671875  20178.376953  22196.730469  22572.839844  54912007015   \n",
       "2359  22805.945312  20293.244141  22632.828125  20307.843750  31108911104   \n",
       "\n",
       "         Adj Close  \n",
       "0       430.566986  \n",
       "1       434.334015  \n",
       "2       433.437988  \n",
       "3       430.010986  \n",
       "4       433.091003  \n",
       "...            ...  \n",
       "2355  26762.648438  \n",
       "2356  22487.388672  \n",
       "2357  22206.792969  \n",
       "2358  22572.839844  \n",
       "2359  20307.843750  \n",
       "\n",
       "[2360 rows x 6 columns]"
      ]
     },
     "execution_count": 6,
     "metadata": {},
     "output_type": "execute_result"
    }
   ],
   "source": [
    "#Reset the Index \n",
    "data = data.reset_index(drop=True)\n",
    "data"
   ]
  },
  {
   "cell_type": "code",
   "execution_count": 7,
   "id": "a621cb78",
   "metadata": {},
   "outputs": [
    {
     "data": {
      "text/plain": [
       "407.22579645706435"
      ]
     },
     "execution_count": 7,
     "metadata": {},
     "output_type": "execute_result"
    }
   ],
   "source": [
    "data.iloc[1:60, 3].mean()"
   ]
  },
  {
   "cell_type": "code",
   "execution_count": 8,
   "id": "e5b5810f",
   "metadata": {},
   "outputs": [],
   "source": [
    "#Write a function for baseline(Adjusted Moving Average). If volatility is high, moving average over a long period might not take the recent fluctuating \n",
    "#trend into account, so smav(slow moving average) might be good base for predicting the price in the period of high volatility. In this case,\n",
    "#fast moving average, that over short period(well-cover recent period), could be good base, so fmav should be more significant than smav \n",
    "#when computing the baseline for the prediction. Otherwise, in the period of low volatility, fmav could rather be worse candidate for being baseline than smav because\n",
    "#fmav is not generalized. \n",
    "def baseline(dataset, start_index, end_index):\n",
    "    baseline = [] \n",
    "    smav = dataset.iloc[start_index:end_index, 3].mean()\n",
    "    fmav = dataset.iloc[start_index+(prediction_days-5):end_index, 3].mean()\n",
    "    var = dataset.iloc[start_index:end_index, 3].std() / (dataset.iloc[start_index:end_index, 3].max() - dataset.iloc[start_index:end_index, 3].min())\n",
    "    adj_mav = (1/var) * smav + var * fmav\n",
    "     \n",
    "    return adj_mav\n",
    "    \n",
    "    "
   ]
  },
  {
   "cell_type": "code",
   "execution_count": 9,
   "id": "40fcfac7",
   "metadata": {},
   "outputs": [],
   "source": [
    "#Calculate Baseline\n",
    "prediction_days = 80\n",
    "baselines_train = []\n",
    "for i in range(len(data)-prediction_days): \n",
    "    baselines_train.append(baseline(data, i, i+prediction_days)) \n",
    "baselines_train = np.array(baselines_train)"
   ]
  },
  {
   "cell_type": "code",
   "execution_count": 10,
   "id": "3ab496d1",
   "metadata": {},
   "outputs": [
    {
     "data": {
      "text/plain": [
       "2280"
      ]
     },
     "execution_count": 10,
     "metadata": {},
     "output_type": "execute_result"
    }
   ],
   "source": [
    "len(baselines_train)"
   ]
  },
  {
   "cell_type": "code",
   "execution_count": 11,
   "id": "8eef85ad",
   "metadata": {},
   "outputs": [
    {
     "data": {
      "text/plain": [
       "array([  1717.67515484,   1723.71556426,   1732.79968623, ...,\n",
       "       145799.26326346, 143580.13352905, 141251.28363333])"
      ]
     },
     "execution_count": 11,
     "metadata": {},
     "output_type": "execute_result"
    }
   ],
   "source": [
    "baselines_train"
   ]
  },
  {
   "cell_type": "code",
   "execution_count": 12,
   "id": "fe7cfe95",
   "metadata": {},
   "outputs": [
    {
     "data": {
      "text/html": [
       "<div>\n",
       "<style scoped>\n",
       "    .dataframe tbody tr th:only-of-type {\n",
       "        vertical-align: middle;\n",
       "    }\n",
       "\n",
       "    .dataframe tbody tr th {\n",
       "        vertical-align: top;\n",
       "    }\n",
       "\n",
       "    .dataframe thead th {\n",
       "        text-align: right;\n",
       "    }\n",
       "</style>\n",
       "<table border=\"1\" class=\"dataframe\">\n",
       "  <thead>\n",
       "    <tr style=\"text-align: right;\">\n",
       "      <th></th>\n",
       "      <th>High</th>\n",
       "      <th>Low</th>\n",
       "      <th>Open</th>\n",
       "      <th>Close</th>\n",
       "      <th>Volume</th>\n",
       "      <th>Adj Close</th>\n",
       "    </tr>\n",
       "  </thead>\n",
       "  <tbody>\n",
       "    <tr>\n",
       "      <th>0</th>\n",
       "      <td>432.920990</td>\n",
       "      <td>418.734985</td>\n",
       "      <td>425.875000</td>\n",
       "      <td>430.566986</td>\n",
       "      <td>45996600</td>\n",
       "      <td>430.566986</td>\n",
       "    </tr>\n",
       "    <tr>\n",
       "      <th>1</th>\n",
       "      <td>436.246002</td>\n",
       "      <td>427.515015</td>\n",
       "      <td>430.721008</td>\n",
       "      <td>434.334015</td>\n",
       "      <td>36278900</td>\n",
       "      <td>434.334015</td>\n",
       "    </tr>\n",
       "    <tr>\n",
       "      <th>2</th>\n",
       "      <td>436.062012</td>\n",
       "      <td>431.869995</td>\n",
       "      <td>434.622009</td>\n",
       "      <td>433.437988</td>\n",
       "      <td>30096600</td>\n",
       "      <td>433.437988</td>\n",
       "    </tr>\n",
       "    <tr>\n",
       "      <th>3</th>\n",
       "      <td>433.743011</td>\n",
       "      <td>424.705994</td>\n",
       "      <td>433.578003</td>\n",
       "      <td>430.010986</td>\n",
       "      <td>39633800</td>\n",
       "      <td>430.010986</td>\n",
       "    </tr>\n",
       "    <tr>\n",
       "      <th>4</th>\n",
       "      <td>434.516998</td>\n",
       "      <td>429.084015</td>\n",
       "      <td>430.061005</td>\n",
       "      <td>433.091003</td>\n",
       "      <td>38477500</td>\n",
       "      <td>433.091003</td>\n",
       "    </tr>\n",
       "    <tr>\n",
       "      <th>...</th>\n",
       "      <td>...</td>\n",
       "      <td>...</td>\n",
       "      <td>...</td>\n",
       "      <td>...</td>\n",
       "      <td>...</td>\n",
       "      <td>...</td>\n",
       "    </tr>\n",
       "    <tr>\n",
       "      <th>2355</th>\n",
       "      <td>28502.685547</td>\n",
       "      <td>26762.648438</td>\n",
       "      <td>28373.513672</td>\n",
       "      <td>26762.648438</td>\n",
       "      <td>34163220274</td>\n",
       "      <td>26762.648438</td>\n",
       "    </tr>\n",
       "    <tr>\n",
       "      <th>2356</th>\n",
       "      <td>26795.589844</td>\n",
       "      <td>22141.257812</td>\n",
       "      <td>26737.578125</td>\n",
       "      <td>22487.388672</td>\n",
       "      <td>68204556440</td>\n",
       "      <td>22487.388672</td>\n",
       "    </tr>\n",
       "    <tr>\n",
       "      <th>2357</th>\n",
       "      <td>23018.951172</td>\n",
       "      <td>20950.818359</td>\n",
       "      <td>22487.986328</td>\n",
       "      <td>22206.792969</td>\n",
       "      <td>50913575242</td>\n",
       "      <td>22206.792969</td>\n",
       "    </tr>\n",
       "    <tr>\n",
       "      <th>2358</th>\n",
       "      <td>22642.671875</td>\n",
       "      <td>20178.376953</td>\n",
       "      <td>22196.730469</td>\n",
       "      <td>22572.839844</td>\n",
       "      <td>54912007015</td>\n",
       "      <td>22572.839844</td>\n",
       "    </tr>\n",
       "    <tr>\n",
       "      <th>2359</th>\n",
       "      <td>22805.945312</td>\n",
       "      <td>20293.244141</td>\n",
       "      <td>22632.828125</td>\n",
       "      <td>20307.843750</td>\n",
       "      <td>31108911104</td>\n",
       "      <td>20307.843750</td>\n",
       "    </tr>\n",
       "  </tbody>\n",
       "</table>\n",
       "<p>2360 rows × 6 columns</p>\n",
       "</div>"
      ],
      "text/plain": [
       "              High           Low          Open         Close       Volume  \\\n",
       "0       432.920990    418.734985    425.875000    430.566986     45996600   \n",
       "1       436.246002    427.515015    430.721008    434.334015     36278900   \n",
       "2       436.062012    431.869995    434.622009    433.437988     30096600   \n",
       "3       433.743011    424.705994    433.578003    430.010986     39633800   \n",
       "4       434.516998    429.084015    430.061005    433.091003     38477500   \n",
       "...            ...           ...           ...           ...          ...   \n",
       "2355  28502.685547  26762.648438  28373.513672  26762.648438  34163220274   \n",
       "2356  26795.589844  22141.257812  26737.578125  22487.388672  68204556440   \n",
       "2357  23018.951172  20950.818359  22487.986328  22206.792969  50913575242   \n",
       "2358  22642.671875  20178.376953  22196.730469  22572.839844  54912007015   \n",
       "2359  22805.945312  20293.244141  22632.828125  20307.843750  31108911104   \n",
       "\n",
       "         Adj Close  \n",
       "0       430.566986  \n",
       "1       434.334015  \n",
       "2       433.437988  \n",
       "3       430.010986  \n",
       "4       433.091003  \n",
       "...            ...  \n",
       "2355  26762.648438  \n",
       "2356  22487.388672  \n",
       "2357  22206.792969  \n",
       "2358  22572.839844  \n",
       "2359  20307.843750  \n",
       "\n",
       "[2360 rows x 6 columns]"
      ]
     },
     "execution_count": 12,
     "metadata": {},
     "output_type": "execute_result"
    }
   ],
   "source": [
    "data"
   ]
  },
  {
   "cell_type": "code",
   "execution_count": 13,
   "id": "4369477d",
   "metadata": {},
   "outputs": [],
   "source": [
    "#Prepare Scaler\n",
    "scaler = MinMaxScaler(feature_range=(0, 1))\n",
    "scaler_baselines = MinMaxScaler(feature_range=(0, 1))\n",
    "scaled_data = scaler.fit_transform(data['Close'].values.reshape(-1, 1))\n",
    "scaled_baselines = scaler_baselines.fit_transform(baselines_train.reshape(-1, 1))"
   ]
  },
  {
   "cell_type": "code",
   "execution_count": 14,
   "id": "e1bf5c3c",
   "metadata": {},
   "outputs": [],
   "source": [
    "#Make training dataset\n",
    "x_train, y_train = [], []\n",
    "arr_index_count = 0\n",
    "for x in range(prediction_days, len(scaled_data)): \n",
    "    x_train.append(scaled_data[x-prediction_days:x, 0])\n",
    "    x_train[arr_index_count] = np.append(x_train[arr_index_count], scaled_baselines[x-prediction_days, 0])\n",
    "    y_train.append(scaled_data[x, 0])\n",
    "    arr_index_count = arr_index_count + 1\n",
    "#Scale \n",
    "x_train, y_train = np.array(x_train), np.array(y_train)\n",
    "x_train = np.reshape(x_train, (x_train.shape[0], x_train.shape[1], 1))"
   ]
  },
  {
   "cell_type": "code",
   "execution_count": 15,
   "id": "4c7c4eaf",
   "metadata": {},
   "outputs": [
    {
     "data": {
      "text/plain": [
       "(2280, 81, 1)"
      ]
     },
     "execution_count": 15,
     "metadata": {},
     "output_type": "execute_result"
    }
   ],
   "source": [
    "x_train.shape"
   ]
  },
  {
   "cell_type": "code",
   "execution_count": 16,
   "id": "c2d0a15d",
   "metadata": {},
   "outputs": [
    {
     "data": {
      "text/plain": [
       "(2280,)"
      ]
     },
     "execution_count": 16,
     "metadata": {},
     "output_type": "execute_result"
    }
   ],
   "source": [
    "y_train.shape"
   ]
  },
  {
   "cell_type": "code",
   "execution_count": 22,
   "id": "1942e399",
   "metadata": {},
   "outputs": [],
   "source": [
    "#Create LSTM Model \n",
    "from keras.callbacks import EarlyStopping\n",
    "from keras.optimizers import SGD, Adagrad, RMSprop, Nadam, Adam"
   ]
  },
  {
   "cell_type": "code",
   "execution_count": 18,
   "id": "716d35b5",
   "metadata": {},
   "outputs": [
    {
     "name": "stdout",
     "output_type": "stream",
     "text": [
      "Epoch 1/80\n",
      "72/72 [==============================] - 10s 67ms/step - loss: 0.0069\n",
      "Epoch 2/80\n",
      "72/72 [==============================] - 5s 67ms/step - loss: 0.0029\n",
      "Epoch 3/80\n",
      "72/72 [==============================] - 5s 65ms/step - loss: 0.0026\n",
      "Epoch 4/80\n",
      "72/72 [==============================] - 5s 65ms/step - loss: 0.0022\n",
      "Epoch 5/80\n",
      "72/72 [==============================] - 5s 65ms/step - loss: 0.0020\n",
      "Epoch 6/80\n",
      "72/72 [==============================] - 5s 65ms/step - loss: 0.0020\n",
      "Epoch 7/80\n",
      "72/72 [==============================] - 5s 65ms/step - loss: 0.0017\n",
      "Epoch 8/80\n",
      "72/72 [==============================] - 5s 65ms/step - loss: 0.0020\n",
      "Epoch 9/80\n",
      "72/72 [==============================] - 5s 65ms/step - loss: 0.0018\n",
      "Epoch 10/80\n",
      "72/72 [==============================] - 5s 66ms/step - loss: 0.0014\n",
      "Epoch 11/80\n",
      "72/72 [==============================] - 5s 65ms/step - loss: 0.0015\n",
      "Epoch 12/80\n",
      "72/72 [==============================] - 5s 65ms/step - loss: 0.0014\n",
      "Epoch 13/80\n",
      "72/72 [==============================] - 5s 65ms/step - loss: 0.0015\n",
      "Epoch 14/80\n",
      "72/72 [==============================] - 5s 64ms/step - loss: 0.0014\n",
      "Epoch 15/80\n",
      "72/72 [==============================] - 5s 64ms/step - loss: 0.0013\n",
      "Epoch 16/80\n",
      "72/72 [==============================] - 5s 64ms/step - loss: 0.0013\n",
      "Epoch 17/80\n",
      "72/72 [==============================] - 5s 65ms/step - loss: 0.0011\n",
      "Epoch 18/80\n",
      "72/72 [==============================] - 5s 65ms/step - loss: 0.0012\n",
      "Epoch 19/80\n",
      "72/72 [==============================] - 5s 65ms/step - loss: 0.0013\n",
      "Epoch 20/80\n",
      "72/72 [==============================] - 5s 64ms/step - loss: 0.0012\n",
      "Epoch 21/80\n",
      "72/72 [==============================] - 5s 65ms/step - loss: 0.0012\n",
      "Epoch 22/80\n",
      "72/72 [==============================] - 5s 65ms/step - loss: 0.0012\n",
      "Epoch 23/80\n",
      "72/72 [==============================] - 5s 65ms/step - loss: 0.0011\n",
      "Epoch 24/80\n",
      "72/72 [==============================] - 5s 65ms/step - loss: 0.0010\n",
      "Epoch 25/80\n",
      "72/72 [==============================] - 5s 65ms/step - loss: 0.0011\n",
      "Epoch 26/80\n",
      "72/72 [==============================] - 5s 65ms/step - loss: 0.0010\n",
      "Epoch 27/80\n",
      "72/72 [==============================] - 5s 65ms/step - loss: 0.0012\n",
      "Epoch 28/80\n",
      "72/72 [==============================] - 5s 65ms/step - loss: 9.9590e-04\n",
      "Epoch 29/80\n",
      "72/72 [==============================] - 5s 66ms/step - loss: 0.0011\n",
      "Epoch 30/80\n",
      "72/72 [==============================] - 5s 65ms/step - loss: 0.0010\n",
      "Epoch 31/80\n",
      "72/72 [==============================] - 5s 65ms/step - loss: 0.0011\n",
      "Epoch 32/80\n",
      "72/72 [==============================] - 5s 65ms/step - loss: 0.0011\n",
      "Epoch 33/80\n",
      "72/72 [==============================] - 5s 65ms/step - loss: 9.9486e-04\n",
      "Epoch 34/80\n",
      "72/72 [==============================] - 5s 65ms/step - loss: 9.4269e-04\n",
      "Epoch 35/80\n",
      "72/72 [==============================] - 5s 65ms/step - loss: 0.0010\n",
      "Epoch 36/80\n",
      "72/72 [==============================] - 5s 66ms/step - loss: 0.0010\n",
      "Epoch 37/80\n",
      "72/72 [==============================] - 5s 65ms/step - loss: 0.0011\n",
      "Epoch 38/80\n",
      "72/72 [==============================] - 5s 65ms/step - loss: 8.8907e-04\n",
      "Epoch 39/80\n",
      "72/72 [==============================] - 5s 65ms/step - loss: 9.1034e-04\n",
      "Epoch 40/80\n",
      "72/72 [==============================] - 5s 65ms/step - loss: 9.9076e-04\n",
      "Epoch 41/80\n",
      "72/72 [==============================] - 5s 65ms/step - loss: 9.4877e-04\n",
      "Epoch 42/80\n",
      "72/72 [==============================] - 5s 65ms/step - loss: 8.4408e-04\n",
      "Epoch 43/80\n",
      "72/72 [==============================] - 5s 65ms/step - loss: 9.0980e-04\n",
      "Epoch 44/80\n",
      "72/72 [==============================] - 5s 65ms/step - loss: 9.3140e-04\n",
      "Epoch 45/80\n",
      "72/72 [==============================] - 5s 65ms/step - loss: 9.3517e-04\n",
      "Epoch 46/80\n",
      "72/72 [==============================] - 5s 65ms/step - loss: 9.4281e-04\n",
      "Epoch 47/80\n",
      "72/72 [==============================] - 5s 65ms/step - loss: 8.7858e-04\n",
      "Epoch 48/80\n",
      "72/72 [==============================] - 5s 65ms/step - loss: 8.6965e-04\n",
      "Epoch 49/80\n",
      "72/72 [==============================] - 5s 65ms/step - loss: 0.0011\n",
      "Epoch 50/80\n",
      "72/72 [==============================] - 5s 65ms/step - loss: 8.6109e-04\n"
     ]
    },
    {
     "data": {
      "text/plain": [
       "<keras.callbacks.History at 0x1e299431370>"
      ]
     },
     "execution_count": 18,
     "metadata": {},
     "output_type": "execute_result"
    }
   ],
   "source": [
    "price_model = Sequential()\n",
    "price_model.add(LSTM(units=prediction_days-10, return_sequences=True,input_shape=(x_train.shape[1], 1)))\n",
    "price_model.add(Dropout(0.2))\n",
    "price_model.add(LSTM(units=prediction_days-10, return_sequences=True))\n",
    "price_model.add(Dropout(0.2))\n",
    "price_model.add(LSTM(units=prediction_days-20))\n",
    "price_model.add(Dropout(0.2))\n",
    "price_model.add(Dense(units=1))\n",
    "opt = Nadam(learning_rate=0.0008)\n",
    "price_model.compile(optimizer=opt, loss='mean_squared_error')\n",
    "price_model.fit(x_train, y_train, epochs=80, batch_size=32, callbacks = EarlyStopping(monitor='loss',patience=8, restore_best_weights=True))"
   ]
  },
  {
   "cell_type": "code",
   "execution_count": 19,
   "id": "237b7ecc",
   "metadata": {},
   "outputs": [
    {
     "name": "stdout",
     "output_type": "stream",
     "text": [
      "Epoch 1/80\n",
      "72/72 [==============================] - 11s 80ms/step - loss: 0.1275\n",
      "Epoch 2/80\n",
      "72/72 [==============================] - 6s 79ms/step - loss: 0.0024\n",
      "Epoch 3/80\n",
      "72/72 [==============================] - 6s 79ms/step - loss: 0.0025\n",
      "Epoch 4/80\n",
      "72/72 [==============================] - 6s 79ms/step - loss: 0.0015\n",
      "Epoch 5/80\n",
      "72/72 [==============================] - 6s 80ms/step - loss: 0.0016\n",
      "Epoch 6/80\n",
      "72/72 [==============================] - 6s 79ms/step - loss: 0.0014\n",
      "Epoch 7/80\n",
      "72/72 [==============================] - 6s 81ms/step - loss: 0.0015\n",
      "Epoch 8/80\n",
      "72/72 [==============================] - 6s 81ms/step - loss: 0.0016\n",
      "Epoch 9/80\n",
      "72/72 [==============================] - 6s 79ms/step - loss: 0.0011\n",
      "Epoch 10/80\n",
      "72/72 [==============================] - 6s 81ms/step - loss: 0.0011\n",
      "Epoch 11/80\n",
      "72/72 [==============================] - 6s 79ms/step - loss: 0.0011\n",
      "Epoch 12/80\n",
      "72/72 [==============================] - 6s 79ms/step - loss: 0.0012\n",
      "Epoch 13/80\n",
      "72/72 [==============================] - 6s 80ms/step - loss: 0.0010\n",
      "Epoch 14/80\n",
      "72/72 [==============================] - 6s 81ms/step - loss: 9.2176e-04\n",
      "Epoch 15/80\n",
      "72/72 [==============================] - 6s 81ms/step - loss: 8.8805e-04\n",
      "Epoch 16/80\n",
      "72/72 [==============================] - 6s 81ms/step - loss: 8.8604e-04\n",
      "Epoch 17/80\n",
      "72/72 [==============================] - 6s 81ms/step - loss: 9.3393e-04\n",
      "Epoch 18/80\n",
      "72/72 [==============================] - 6s 81ms/step - loss: 0.0010\n",
      "Epoch 19/80\n",
      "72/72 [==============================] - 6s 81ms/step - loss: 8.7456e-04\n",
      "Epoch 20/80\n",
      "72/72 [==============================] - 6s 81ms/step - loss: 8.6329e-04\n",
      "Epoch 21/80\n",
      "72/72 [==============================] - 6s 81ms/step - loss: 8.9250e-04\n",
      "Epoch 22/80\n",
      "72/72 [==============================] - 6s 82ms/step - loss: 0.0012\n",
      "Epoch 23/80\n",
      "72/72 [==============================] - 6s 82ms/step - loss: 9.5715e-04\n",
      "Epoch 24/80\n",
      "72/72 [==============================] - 6s 81ms/step - loss: 8.6693e-04\n",
      "Epoch 25/80\n",
      "72/72 [==============================] - 6s 81ms/step - loss: 9.5854e-04\n",
      "Epoch 26/80\n",
      "72/72 [==============================] - 6s 82ms/step - loss: 9.3548e-04\n",
      "Epoch 27/80\n",
      "72/72 [==============================] - 6s 82ms/step - loss: 8.5305e-04\n",
      "Epoch 28/80\n",
      "72/72 [==============================] - 6s 82ms/step - loss: 7.2045e-04\n",
      "Epoch 29/80\n",
      "72/72 [==============================] - 6s 83ms/step - loss: 9.1207e-04\n",
      "Epoch 30/80\n",
      "72/72 [==============================] - 6s 82ms/step - loss: 8.1566e-04\n",
      "Epoch 31/80\n",
      "72/72 [==============================] - 6s 82ms/step - loss: 7.5069e-04\n",
      "Epoch 32/80\n",
      "72/72 [==============================] - 6s 82ms/step - loss: 7.3199e-04\n",
      "Epoch 33/80\n",
      "72/72 [==============================] - 6s 81ms/step - loss: 7.4719e-04\n",
      "Epoch 34/80\n",
      "72/72 [==============================] - 6s 83ms/step - loss: 8.3907e-04\n",
      "Epoch 35/80\n",
      "72/72 [==============================] - 6s 81ms/step - loss: 0.0011\n",
      "Epoch 36/80\n",
      "72/72 [==============================] - 6s 83ms/step - loss: 6.8314e-04\n",
      "Epoch 37/80\n",
      "72/72 [==============================] - 6s 83ms/step - loss: 7.9485e-04\n",
      "Epoch 38/80\n",
      "72/72 [==============================] - 6s 84ms/step - loss: 7.5141e-04\n",
      "Epoch 39/80\n",
      "72/72 [==============================] - 6s 82ms/step - loss: 5.6540e-04\n",
      "Epoch 40/80\n",
      "72/72 [==============================] - 6s 83ms/step - loss: 8.5580e-04\n",
      "Epoch 41/80\n",
      "72/72 [==============================] - 6s 82ms/step - loss: 7.0583e-04\n",
      "Epoch 42/80\n",
      "72/72 [==============================] - 6s 87ms/step - loss: 5.9645e-04\n",
      "Epoch 43/80\n",
      "72/72 [==============================] - 6s 82ms/step - loss: 6.5398e-04\n",
      "Epoch 44/80\n",
      "72/72 [==============================] - 6s 82ms/step - loss: 6.0700e-04\n",
      "Epoch 45/80\n",
      "72/72 [==============================] - 6s 83ms/step - loss: 3.3144\n",
      "Epoch 46/80\n",
      "72/72 [==============================] - 6s 82ms/step - loss: 0.1057\n",
      "Epoch 47/80\n",
      "72/72 [==============================] - 6s 83ms/step - loss: 0.0778\n"
     ]
    },
    {
     "data": {
      "text/plain": [
       "<keras.callbacks.History at 0x1e2a46625e0>"
      ]
     },
     "execution_count": 19,
     "metadata": {},
     "output_type": "execute_result"
    }
   ],
   "source": [
    "price_model_2 = Sequential()\n",
    "price_model_2.add(LSTM(units=prediction_days, return_sequences=True,input_shape=(x_train.shape[1], 1)))\n",
    "price_model_2.add(Dropout(0.1))\n",
    "price_model_2.add(LSTM(units=prediction_days, return_sequences=True))\n",
    "price_model_2.add(Dropout(0.1))\n",
    "price_model_2.add(LSTM(units=prediction_days))\n",
    "price_model_2.add(Dropout(0.1))\n",
    "price_model_2.add(Dense(units=10))\n",
    "price_model_2.add(Dense(units=1))\n",
    "opt = Nadam(learning_rate=0.01)\n",
    "price_model_2.compile(optimizer=opt, loss='mean_squared_error')\n",
    "price_model_2.fit(x_train, y_train, epochs=80, batch_size=32, callbacks = EarlyStopping(monitor='loss',patience=8, restore_best_weights=True))"
   ]
  },
  {
   "cell_type": "code",
   "execution_count": 30,
   "id": "67324d76",
   "metadata": {},
   "outputs": [
    {
     "name": "stdout",
     "output_type": "stream",
     "text": [
      "Epoch 1/80\n",
      "72/72 [==============================] - 15s 112ms/step - loss: 0.0159\n",
      "Epoch 2/80\n",
      "72/72 [==============================] - 8s 116ms/step - loss: 0.0015\n",
      "Epoch 3/80\n",
      "72/72 [==============================] - 9s 124ms/step - loss: 0.0018\n",
      "Epoch 4/80\n",
      "72/72 [==============================] - 8s 112ms/step - loss: 0.0022\n",
      "Epoch 5/80\n",
      "72/72 [==============================] - 8s 117ms/step - loss: 0.0016\n",
      "Epoch 6/80\n",
      "72/72 [==============================] - 8s 113ms/step - loss: 8.4937e-04\n",
      "Epoch 7/80\n",
      "72/72 [==============================] - 8s 111ms/step - loss: 8.1245e-04\n",
      "Epoch 8/80\n",
      "72/72 [==============================] - 8s 111ms/step - loss: 0.0011\n",
      "Epoch 9/80\n",
      "72/72 [==============================] - 8s 112ms/step - loss: 9.7111e-04\n",
      "Epoch 10/80\n",
      "72/72 [==============================] - 8s 114ms/step - loss: 8.5497e-04\n",
      "Epoch 11/80\n",
      "72/72 [==============================] - 8s 115ms/step - loss: 8.3531e-04\n",
      "Epoch 12/80\n",
      "72/72 [==============================] - 8s 117ms/step - loss: 8.5312e-04\n",
      "Epoch 13/80\n",
      "72/72 [==============================] - 8s 117ms/step - loss: 9.6467e-04\n",
      "Epoch 14/80\n",
      "72/72 [==============================] - 8s 113ms/step - loss: 9.3798e-04\n",
      "Epoch 15/80\n",
      "72/72 [==============================] - 8s 113ms/step - loss: 0.0014\n"
     ]
    },
    {
     "data": {
      "text/plain": [
       "<keras.callbacks.History at 0x1e2b7b04d60>"
      ]
     },
     "execution_count": 30,
     "metadata": {},
     "output_type": "execute_result"
    }
   ],
   "source": [
    "price_model_3 = Sequential()\n",
    "price_model_3.add(LSTM(units=prediction_days+10, return_sequences=True,input_shape=(x_train.shape[1], 1)))\n",
    "price_model_3.add(Dropout(0.1))\n",
    "price_model_3.add(LSTM(units=prediction_days+20, return_sequences=True))\n",
    "price_model_3.add(Dropout(0.1))\n",
    "price_model_3.add(LSTM(units=prediction_days+20, return_sequences=True))\n",
    "price_model_3.add(Dropout(0.1))\n",
    "price_model_3.add(LSTM(units=prediction_days+10))\n",
    "price_model_3.add(Dropout(0.1))\n",
    "price_model_3.add(Dense(units=1))\n",
    "opt = Adam(learning_rate=0.008)\n",
    "price_model_3.compile(optimizer=opt, loss='mean_squared_error')\n",
    "price_model_3.fit(x_train, y_train, epochs=80, batch_size=32, callbacks = EarlyStopping(monitor='loss',patience=8, restore_best_weights=True))"
   ]
  },
  {
   "cell_type": "code",
   "execution_count": 65,
   "id": "e4c92914",
   "metadata": {},
   "outputs": [
    {
     "name": "stdout",
     "output_type": "stream",
     "text": [
      "72/72 [==============================] - 2s 22ms/step\n",
      "72/72 [==============================] - 2s 25ms/step\n",
      "72/72 [==============================] - 3s 37ms/step\n",
      "Epoch 1/50\n",
      "72/72 [==============================] - 0s 741us/step - loss: 0.0537\n",
      "Epoch 2/50\n",
      "72/72 [==============================] - 0s 757us/step - loss: 0.0126\n",
      "Epoch 3/50\n",
      "72/72 [==============================] - 0s 805us/step - loss: 0.0041\n",
      "Epoch 4/50\n",
      "72/72 [==============================] - 0s 857us/step - loss: 0.0012\n",
      "Epoch 5/50\n",
      "72/72 [==============================] - 0s 801us/step - loss: 6.1602e-04\n",
      "Epoch 6/50\n",
      "72/72 [==============================] - 0s 689us/step - loss: 5.4390e-04\n",
      "Epoch 7/50\n",
      "72/72 [==============================] - 0s 749us/step - loss: 5.3924e-04\n",
      "Epoch 8/50\n",
      "72/72 [==============================] - 0s 748us/step - loss: 5.3699e-04\n",
      "Epoch 9/50\n",
      "72/72 [==============================] - 0s 738us/step - loss: 5.3866e-04\n",
      "Epoch 10/50\n",
      "72/72 [==============================] - 0s 781us/step - loss: 5.3646e-04\n",
      "Epoch 11/50\n",
      "72/72 [==============================] - 0s 749us/step - loss: 5.3688e-04\n",
      "Epoch 12/50\n",
      "72/72 [==============================] - 0s 733us/step - loss: 5.3355e-04\n",
      "Epoch 13/50\n",
      "72/72 [==============================] - 0s 748us/step - loss: 5.3511e-04\n",
      "Epoch 14/50\n",
      "72/72 [==============================] - 0s 740us/step - loss: 5.3302e-04\n",
      "Epoch 15/50\n",
      "72/72 [==============================] - 0s 730us/step - loss: 5.3142e-04\n",
      "Epoch 16/50\n",
      "72/72 [==============================] - 0s 746us/step - loss: 5.3394e-04\n",
      "Epoch 17/50\n",
      "72/72 [==============================] - 0s 790us/step - loss: 5.3075e-04\n",
      "Epoch 18/50\n",
      "72/72 [==============================] - 0s 778us/step - loss: 5.3084e-04\n",
      "Epoch 19/50\n",
      "72/72 [==============================] - 0s 737us/step - loss: 5.3011e-04\n",
      "Epoch 20/50\n",
      "72/72 [==============================] - 0s 806us/step - loss: 5.3021e-04\n",
      "Epoch 21/50\n",
      "72/72 [==============================] - 0s 734us/step - loss: 5.3169e-04\n",
      "Epoch 22/50\n",
      "72/72 [==============================] - 0s 794us/step - loss: 5.2753e-04\n",
      "Epoch 23/50\n",
      "72/72 [==============================] - 0s 816us/step - loss: 5.2607e-04\n",
      "Epoch 24/50\n",
      "72/72 [==============================] - 0s 812us/step - loss: 5.2889e-04\n",
      "Epoch 25/50\n",
      "72/72 [==============================] - 0s 790us/step - loss: 5.2239e-04\n",
      "Epoch 26/50\n",
      "72/72 [==============================] - 0s 858us/step - loss: 5.2025e-04\n",
      "Epoch 27/50\n",
      "72/72 [==============================] - 0s 885us/step - loss: 5.2194e-04\n",
      "Epoch 28/50\n",
      "72/72 [==============================] - 0s 889us/step - loss: 5.1925e-04\n",
      "Epoch 29/50\n",
      "72/72 [==============================] - 0s 779us/step - loss: 5.3102e-04\n",
      "Epoch 30/50\n",
      "72/72 [==============================] - 0s 768us/step - loss: 5.2117e-04\n",
      "Epoch 31/50\n",
      "72/72 [==============================] - 0s 787us/step - loss: 5.1411e-04\n",
      "Epoch 32/50\n",
      "72/72 [==============================] - 0s 797us/step - loss: 5.2097e-04\n",
      "Epoch 33/50\n",
      "72/72 [==============================] - 0s 773us/step - loss: 5.1502e-04\n",
      "Epoch 34/50\n",
      "72/72 [==============================] - 0s 778us/step - loss: 5.1316e-04\n",
      "Epoch 35/50\n",
      "72/72 [==============================] - 0s 788us/step - loss: 5.1096e-04\n",
      "Epoch 36/50\n",
      "72/72 [==============================] - 0s 864us/step - loss: 5.0925e-04\n",
      "Epoch 37/50\n",
      "72/72 [==============================] - 0s 833us/step - loss: 5.0964e-04\n",
      "Epoch 38/50\n",
      "72/72 [==============================] - 0s 854us/step - loss: 5.0383e-04\n",
      "Epoch 39/50\n",
      "72/72 [==============================] - 0s 835us/step - loss: 5.0907e-04\n",
      "Epoch 40/50\n",
      "72/72 [==============================] - 0s 799us/step - loss: 5.0225e-04\n",
      "Epoch 41/50\n",
      "72/72 [==============================] - 0s 746us/step - loss: 5.0846e-04\n",
      "Epoch 42/50\n",
      "72/72 [==============================] - 0s 781us/step - loss: 5.0589e-04\n",
      "Epoch 43/50\n",
      "72/72 [==============================] - 0s 763us/step - loss: 5.0289e-04\n",
      "Epoch 44/50\n",
      "72/72 [==============================] - 0s 723us/step - loss: 4.9840e-04\n",
      "Epoch 45/50\n",
      "72/72 [==============================] - 0s 773us/step - loss: 4.9562e-04\n",
      "Epoch 46/50\n",
      "72/72 [==============================] - 0s 781us/step - loss: 4.9256e-04\n",
      "Epoch 47/50\n",
      "72/72 [==============================] - 0s 811us/step - loss: 5.0096e-04\n",
      "Epoch 48/50\n",
      "72/72 [==============================] - 0s 846us/step - loss: 4.9612e-04\n",
      "Epoch 49/50\n",
      "72/72 [==============================] - 0s 854us/step - loss: 4.9798e-04\n",
      "Epoch 50/50\n",
      "72/72 [==============================] - 0s 822us/step - loss: 4.9158e-04\n"
     ]
    },
    {
     "data": {
      "text/plain": [
       "<keras.callbacks.History at 0x1e2c79af7c0>"
      ]
     },
     "execution_count": 65,
     "metadata": {},
     "output_type": "execute_result"
    }
   ],
   "source": [
    "#Create Ensemble Model \n",
    "train_pred_1 = price_model.predict(x_train)\n",
    "train_pred_2 = price_model_2.predict(x_train)\n",
    "train_pred_3 = price_model_3.predict(x_train)\n",
    "train_pred = np.concatenate((train_pred_1, train_pred_2, train_pred_3), axis=1)\n",
    "Ensemble = Sequential()\n",
    "Ensemble.add(Dense(units=3, input_shape=(train_pred.shape[1],)))\n",
    "Ensemble.add(Dense(units=1))\n",
    "Ensemble.compile(optimizer='Adam', loss='mean_squared_error')\n",
    "Ensemble.fit(train_pred, y_train, epochs=50, batch_size=32, callbacks=EarlyStopping(monitor='loss', patience=10, restore_best_weights=True))\n"
   ]
  },
  {
   "cell_type": "code",
   "execution_count": 66,
   "id": "87ce06e1",
   "metadata": {},
   "outputs": [
    {
     "name": "stdout",
     "output_type": "stream",
     "text": [
      "72/72 [==============================] - 0s 592us/step\n"
     ]
    },
    {
     "data": {
      "text/plain": [
       "(2280, 1)"
      ]
     },
     "execution_count": 66,
     "metadata": {},
     "output_type": "execute_result"
    }
   ],
   "source": [
    "pred = Ensemble.predict(train_pred)\n",
    "pred.shape"
   ]
  },
  {
   "cell_type": "code",
   "execution_count": 64,
   "id": "7bc71e20",
   "metadata": {},
   "outputs": [
    {
     "data": {
      "text/plain": [
       "(2280,)"
      ]
     },
     "execution_count": 64,
     "metadata": {},
     "output_type": "execute_result"
    }
   ],
   "source": [
    "y_train.shape"
   ]
  },
  {
   "cell_type": "code",
   "execution_count": 43,
   "id": "dfcf93d5",
   "metadata": {},
   "outputs": [],
   "source": [
    "test_start = dt.datetime(2021\n",
    "                         ,1,1)\n",
    "test_end = dt.datetime.now()"
   ]
  },
  {
   "cell_type": "code",
   "execution_count": 44,
   "id": "dac4bc41",
   "metadata": {},
   "outputs": [],
   "source": [
    "test_data = web.DataReader(f'{crypto_currency}-{against_currency}', 'yahoo', test_start, test_end)\n",
    "total_dataset = pd.concat((data, test_data), axis=0)\n",
    "actual_prices = test_data['Close'].values \n",
    "total_data_prices = total_dataset['Close'].values"
   ]
  },
  {
   "cell_type": "code",
   "execution_count": 34,
   "id": "ed8f4358",
   "metadata": {},
   "outputs": [
    {
     "data": {
      "text/plain": [
       "array([29001.72070312, 29374.15234375, 32127.26757812, 32782.0234375 ,\n",
       "       31971.9140625 , 33992.4296875 , 36824.36328125, 39371.04296875,\n",
       "       40797.609375  , 40254.546875  , 38356.44140625, 35566.65625   ,\n",
       "       33922.9609375 , 37316.359375  , 39187.328125  , 36825.3671875 ,\n",
       "       36178.140625  , 35791.27734375, 36630.07421875, 36069.8046875 ,\n",
       "       35547.75      , 30825.69921875, 33005.76171875, 32067.64257812,\n",
       "       32289.37890625, 32366.39257812, 32569.84960938, 30432.546875  ,\n",
       "       33466.09765625, 34316.38671875, 34269.5234375 , 33114.359375  ,\n",
       "       33537.17578125, 35510.2890625 , 37472.08984375, 36926.06640625,\n",
       "       38144.30859375, 39266.01171875, 38903.44140625, 46196.46484375,\n",
       "       46481.10546875, 44918.18359375, 47909.33203125, 47504.8515625 ,\n",
       "       47105.515625  , 48717.2890625 , 47945.05859375, 49199.87109375,\n",
       "       52149.0078125 , 51679.796875  , 55888.1328125 , 56099.51953125,\n",
       "       57539.9453125 , 54207.3203125 , 48824.42578125, 49705.33203125,\n",
       "       47093.8515625 , 46339.76171875, 46188.453125  , 45137.76953125,\n",
       "       49631.2421875 , 48378.98828125, 50538.2421875 , 48561.16796875,\n",
       "       48927.3046875 , 48912.3828125 , 51206.69140625, 52246.5234375 ,\n",
       "       54824.1171875 , 56008.55078125, 57805.12109375, 57332.08984375,\n",
       "       61243.0859375 , 59302.31640625, 55907.19921875, 56804.90234375,\n",
       "       58870.89453125, 57858.921875  , 58346.65234375, 58313.64453125,\n",
       "       57523.421875  , 54529.14453125, 54738.9453125 , 52774.265625  ,\n",
       "       51704.16015625, 55137.3125    , 55973.51171875, 55950.74609375,\n",
       "       57750.19921875, 58917.69140625, 58918.83203125, 59095.80859375,\n",
       "       59384.3125    , 57603.890625  , 58758.5546875 , 59057.87890625,\n",
       "       58192.359375  , 56048.9375    , 58323.953125  , 58245.00390625,\n",
       "       59793.234375  , 60204.96484375, 59893.453125  , 63503.45703125,\n",
       "       63109.6953125 , 63314.01171875, 61572.7890625 , 60683.8203125 ,\n",
       "       56216.18359375, 55724.265625  , 56473.03125   , 53906.08984375,\n",
       "       51762.2734375 , 51093.65234375, 50050.8671875 , 49004.25390625,\n",
       "       54021.75390625, 55033.1171875 , 54824.703125  , 53555.109375  ,\n",
       "       57750.17578125, 57828.05078125, 56631.078125  , 57200.29296875,\n",
       "       53333.5390625 , 57424.0078125 , 56396.515625  , 57356.40234375,\n",
       "       58803.77734375, 58232.31640625, 55859.796875  , 56704.57421875,\n",
       "       49150.53515625, 49716.19140625, 49880.53515625, 46760.1875    ,\n",
       "       46456.05859375, 43537.51171875, 42909.40234375, 37002.44140625,\n",
       "       40782.73828125, 37304.69140625, 37536.6328125 , 34770.58203125,\n",
       "       38705.98046875, 38402.22265625, 39294.19921875, 38436.96875   ,\n",
       "       35697.60546875, 34616.06640625, 35678.12890625, 37332.85546875,\n",
       "       36684.92578125, 37575.1796875 , 39208.765625  , 36894.40625   ,\n",
       "       35551.95703125, 35862.37890625, 33560.70703125, 33472.6328125 ,\n",
       "       37345.12109375, 36702.59765625, 37334.3984375 , 35552.515625  ,\n",
       "       39097.859375  , 40218.4765625 , 40406.26953125, 38347.0625    ,\n",
       "       38053.50390625, 35787.24609375, 35615.87109375, 35698.296875  ,\n",
       "       31676.69335938, 32505.66015625, 33723.02734375, 34662.4375    ,\n",
       "       31637.77929688, 32186.27734375, 34649.64453125, 34434.3359375 ,\n",
       "       35867.77734375, 35040.8359375 , 33572.1171875 , 33897.046875  ,\n",
       "       34668.546875  , 35287.78125   , 33746.00390625, 34235.1953125 ,\n",
       "       33855.328125  , 32877.37109375, 33798.01171875, 33520.51953125,\n",
       "       34240.1875    , 33155.84765625, 32702.02539062, 32822.34765625,\n",
       "       31780.73046875, 31421.5390625 , 31533.06835938, 31796.81054688,\n",
       "       30817.83203125, 29807.34765625, 32110.69335938, 32313.10546875,\n",
       "       33581.55078125, 34292.4453125 , 35350.1875    , 37337.53515625,\n",
       "       39406.94140625, 39995.90625   , 40008.421875  , 42235.546875  ,\n",
       "       41626.1953125 , 39974.89453125, 39201.9453125 , 38152.98046875,\n",
       "       39747.50390625, 40869.5546875 , 42816.5       , 44555.80078125,\n",
       "       43798.1171875 , 46365.40234375, 45585.03125   , 45593.63671875,\n",
       "       44428.2890625 , 47793.3203125 , 47096.9453125 , 47047.00390625,\n",
       "       46004.484375  , 44695.359375  , 44801.1875    , 46717.578125  ,\n",
       "       49339.17578125, 48905.4921875 , 49321.65234375, 49546.1484375 ,\n",
       "       47706.1171875 , 48960.7890625 , 46942.21875   , 49058.66796875,\n",
       "       48902.40234375, 48829.83203125, 47054.984375  , 47166.6875    ,\n",
       "       48847.02734375, 49327.72265625, 50025.375     , 49944.625     ,\n",
       "       51753.41015625, 52633.53515625, 46811.12890625, 46091.390625  ,\n",
       "       46391.421875  , 44883.91015625, 45201.45703125, 46063.26953125,\n",
       "       44963.07421875, 47092.4921875 , 48176.34765625, 47783.359375  ,\n",
       "       47267.51953125, 48278.36328125, 47260.21875   , 42843.80078125,\n",
       "       40693.67578125, 43574.5078125 , 44895.09765625, 42839.75      ,\n",
       "       42716.59375   , 43208.5390625 , 42235.73046875, 41034.54296875,\n",
       "       41564.36328125, 43790.89453125, 48116.94140625, 47711.48828125,\n",
       "       48199.953125  , 49112.90234375, 51514.8125    , 55361.44921875,\n",
       "       53805.984375  , 53967.84765625, 54968.22265625, 54771.578125  ,\n",
       "       57484.7890625 , 56041.05859375, 57401.09765625, 57321.5234375 ,\n",
       "       61593.94921875, 60892.1796875 , 61553.6171875 , 62026.078125  ,\n",
       "       64261.9921875 , 65992.8359375 , 62210.171875  , 60692.265625  ,\n",
       "       61393.6171875 , 60930.8359375 , 63039.82421875, 60363.79296875,\n",
       "       58482.38671875, 60622.13671875, 62227.96484375, 61888.83203125,\n",
       "       61318.95703125, 61004.40625   , 63226.40234375, 62970.046875  ,\n",
       "       61452.23046875, 61125.67578125, 61527.48046875, 63326.98828125,\n",
       "       67566.828125  , 66971.828125  , 64995.23046875, 64949.9609375 ,\n",
       "       64155.94140625, 64469.52734375, 65466.83984375, 63557.87109375,\n",
       "       60161.24609375, 60368.01171875, 56942.13671875, 58119.578125  ,\n",
       "       59697.1953125 , 58730.4765625 , 56289.2890625 , 57569.07421875,\n",
       "       56280.42578125, 57274.6796875 , 53569.765625  , 54815.078125  ,\n",
       "       57248.45703125, 57806.56640625, 57005.42578125, 57229.828125  ,\n",
       "       56477.81640625, 53598.24609375, 49200.703125  , 49368.84765625,\n",
       "       50582.625     , 50700.0859375 , 50504.796875  , 47672.12109375,\n",
       "       47243.3046875 , 49362.5078125 , 50098.3359375 , 46737.48046875,\n",
       "       46612.6328125 , 48896.72265625, 47665.42578125, 46202.14453125,\n",
       "       46848.77734375, 46707.015625  , 46880.27734375, 48936.61328125,\n",
       "       48628.51171875, 50784.5390625 , 50822.1953125 , 50429.859375  ,\n",
       "       50809.515625  , 50640.41796875, 47588.85546875, 46444.7109375 ,\n",
       "       47178.125     , 46306.4453125 , 47686.8125    , 47345.21875   ,\n",
       "       46458.1171875 , 45897.57421875, 43569.00390625, 43160.9296875 ,\n",
       "       41557.90234375, 41733.94140625, 41911.6015625 , 41821.26171875,\n",
       "       42735.85546875, 43949.1015625 , 42591.5703125 , 43099.69921875,\n",
       "       43177.3984375 , 43113.87890625, 42250.55078125, 42375.6328125 ,\n",
       "       41744.328125  , 40680.41796875, 36457.31640625, 35030.25      ,\n",
       "       36276.8046875 , 36654.328125  , 36954.00390625, 36852.12109375,\n",
       "       37138.234375  , 37784.33203125, 38138.1796875 , 37917.6015625 ,\n",
       "       38483.125     , 38743.2734375 , 36952.984375  , 37154.6015625 ,\n",
       "       41500.875     , 41441.1640625 , 42412.43359375, 43840.28515625,\n",
       "       44118.4453125 , 44338.796875  , 43565.11328125, 42407.9375    ,\n",
       "       42244.46875   , 42197.515625  , 42586.91796875, 44575.203125  ,\n",
       "       43961.859375  , 40538.01171875, 40030.9765625 , 40122.15625   ,\n",
       "       38431.37890625, 37075.28125   , 38286.02734375, 37296.5703125 ,\n",
       "       38332.609375  , 39214.21875   , 39105.1484375 , 37709.78515625,\n",
       "       43193.234375  , 44354.63671875, 43924.1171875 , 42451.7890625 ,\n",
       "       39137.60546875, 39400.5859375 , 38419.984375  , 38062.0390625 ,\n",
       "       38737.26953125, 41982.92578125, 39437.4609375 , 38794.97265625,\n",
       "       38904.01171875, 37849.6640625 , 39666.75390625, 39338.78515625,\n",
       "       41143.9296875 , 40951.37890625, 41801.15625   , 42190.65234375,\n",
       "       41247.82421875, 41077.99609375, 42358.80859375, 42892.95703125,\n",
       "       43960.93359375, 44348.73046875, 44500.828125  , 46820.4921875 ,\n",
       "       47128.00390625, 47465.73046875, 47062.6640625 , 45538.67578125,\n",
       "       46281.64453125, 45868.94921875, 46453.56640625, 46622.67578125,\n",
       "       45555.9921875 , 43206.73828125, 43503.84765625, 42287.6640625 ,\n",
       "       42782.13671875, 42207.671875  , 39521.90234375, 40127.18359375,\n",
       "       41166.73046875, 39935.515625  , 40553.46484375, 40424.484375  ,\n",
       "       39716.953125  , 40826.21484375, 41502.75      , 41374.37890625,\n",
       "       40527.36328125, 39740.3203125 , 39486.73046875, 39469.29296875,\n",
       "       40458.30859375, 38117.4609375 , 39241.12109375, 39773.828125  ,\n",
       "       38609.82421875, 37714.875     , 38469.09375   , 38529.328125  ,\n",
       "       37750.453125  , 39698.37109375, 36575.140625  , 36040.921875  ,\n",
       "       35501.953125  , 34059.265625  , 30296.953125  , 31022.90625   ,\n",
       "       28936.35546875, 29047.75195312, 29283.10351562, 30101.265625  ,\n",
       "       31305.11328125, 29862.91796875, 30425.85742188, 28720.27148438,\n",
       "       30314.33398438, 29200.74023438, 29432.2265625 , 30323.72265625,\n",
       "       29098.91015625, 29655.5859375 , 29562.36132812, 29267.22460938,\n",
       "       28627.57421875, 28814.90039062, 29445.95703125, 31726.390625  ,\n",
       "       31792.31054688, 29799.08007812, 30467.48828125, 29704.390625  ,\n",
       "       29832.9140625 , 29906.66210938, 31370.671875  , 31155.47851562,\n",
       "       30214.35546875, 30111.99804688, 29083.8046875 , 28360.81054688,\n",
       "       26762.6484375 , 22487.38867188, 22206.79296875, 22572.83984375,\n",
       "       20384.296875  ])"
      ]
     },
     "execution_count": 34,
     "metadata": {},
     "output_type": "execute_result"
    }
   ],
   "source": [
    "actual_prices"
   ]
  },
  {
   "cell_type": "code",
   "execution_count": 35,
   "id": "a4bc5905",
   "metadata": {},
   "outputs": [],
   "source": [
    "baselines_test = []\n",
    "for i in range(len(total_dataset)-prediction_days): \n",
    "    baselines_test.append(baseline(total_dataset, i, i+prediction_days))\n",
    "baselines_test = np.array(baselines_test)"
   ]
  },
  {
   "cell_type": "code",
   "execution_count": 36,
   "id": "b461a8fe",
   "metadata": {},
   "outputs": [],
   "source": [
    "model_inputs = total_dataset.iloc[len(total_dataset)-len(test_data)-prediction_days:, 3].values\n",
    "model_inputs = model_inputs.reshape(-1, 1)\n",
    "model_inputs = scaler.fit_transform(model_inputs)"
   ]
  },
  {
   "cell_type": "code",
   "execution_count": 37,
   "id": "37689061",
   "metadata": {},
   "outputs": [],
   "source": [
    "baselines_test = baselines_test.reshape(-1, 1)\n",
    "scaled_baselines = scaler_baselines.fit_transform(baselines_test) "
   ]
  },
  {
   "cell_type": "code",
   "execution_count": 38,
   "id": "c8139bf4",
   "metadata": {},
   "outputs": [
    {
     "data": {
      "text/plain": [
       "array([[4.43567244e-04],\n",
       "       [4.63245868e-04],\n",
       "       [4.92840389e-04],\n",
       "       ...,\n",
       "       [4.69836823e-01],\n",
       "       [4.62607277e-01],\n",
       "       [4.55020281e-01]])"
      ]
     },
     "execution_count": 38,
     "metadata": {},
     "output_type": "execute_result"
    }
   ],
   "source": [
    "scaled_baselines"
   ]
  },
  {
   "cell_type": "code",
   "execution_count": 39,
   "id": "d2d00c5b",
   "metadata": {},
   "outputs": [],
   "source": [
    "x_test = []\n",
    "arr_index_count = 0\n",
    "for x in range(prediction_days, len(model_inputs)): \n",
    "    x_test.append(model_inputs[x-prediction_days:x, 0])\n",
    "    x_test[arr_index_count] = np.append(x_test[arr_index_count], scaled_baselines[x, 0])\n",
    "    arr_index_count = arr_index_count + 1\n",
    "    \n",
    "x_test = np.array(x_test)\n",
    "x_test = np.reshape(x_test, (x_test.shape[0], x_test.shape[1], 1))"
   ]
  },
  {
   "cell_type": "code",
   "execution_count": 40,
   "id": "d7252983",
   "metadata": {},
   "outputs": [
    {
     "data": {
      "text/plain": [
       "(533, 81, 1)"
      ]
     },
     "execution_count": 40,
     "metadata": {},
     "output_type": "execute_result"
    }
   ],
   "source": [
    "x_test.shape"
   ]
  },
  {
   "cell_type": "code",
   "execution_count": 68,
   "id": "c4186f70",
   "metadata": {},
   "outputs": [
    {
     "name": "stdout",
     "output_type": "stream",
     "text": [
      "17/17 [==============================] - 0s 23ms/step\n",
      "17/17 [==============================] - 0s 26ms/step\n",
      "17/17 [==============================] - 1s 38ms/step\n",
      "17/17 [==============================] - 0s 625us/step\n",
      "(533, 3)\n"
     ]
    }
   ],
   "source": [
    "prediction_prices_1 = price_model.predict(x_test)\n",
    "prediction_prices_2 = price_model_2.predict(x_test)\n",
    "prediction_prices_3 = price_model_3.predict(x_test)\n",
    "prediction_prices = np.concatenate((prediction_prices_1, prediction_prices_2, prediction_prices_3), axis=1)\n",
    "prediction = Ensemble.predict(prediction_prices)\n",
    "print(prediction_prices.shape)\n",
    "prediction = scaler.inverse_transform(prediction)"
   ]
  },
  {
   "cell_type": "code",
   "execution_count": 69,
   "id": "febe664c",
   "metadata": {},
   "outputs": [
    {
     "data": {
      "image/png": "[encoded data removed]",
      "text/plain": [
       "<Figure size 432x288 with 1 Axes>"
      ]
     },
     "metadata": {
      "needs_background": "light"
     },
     "output_type": "display_data"
    }
   ],
   "source": [
    "plt.plot(actual_prices, color='blue', label='Actual Prices')\n",
    "plt.plot(prediction, color='green', label='Predicted Prices')\n",
    "plt.title(f'{crypto_currency} price prediction')\n",
    "plt.xlabel('Time')\n",
    "plt.ylabel('Price')\n",
    "plt.legend(loc='upper left')\n",
    "plt.show()"
   ]
  },
  {
   "cell_type": "code",
   "execution_count": 30,
   "id": "da6a7eec",
   "metadata": {},
   "outputs": [
    {
     "data": {
      "text/plain": [
       "(531, 81, 1)"
      ]
     },
     "execution_count": 30,
     "metadata": {},
     "output_type": "execute_result"
    }
   ],
   "source": [
    "prediction_prices.shape"
   ]
  },
  {
   "cell_type": "code",
   "execution_count": null,
   "id": "67fe4866",
   "metadata": {},
   "outputs": [],
   "source": []
  }
 ],
 "metadata": {
  "kernelspec": {
   "display_name": "Python 3 (ipykernel)",
   "language": "python",
   "name": "python3"
  },
  "language_info": {
   "codemirror_mode": {
    "name": "ipython",
    "version": 3
   },
   "file_extension": ".py",
   "mimetype": "text/x-python",
   "name": "python",
   "nbconvert_exporter": "python",
   "pygments_lexer": "ipython3",
   "version": "3.9.12"
  }
 },
 "nbformat": 4,
 "nbformat_minor": 5
}
