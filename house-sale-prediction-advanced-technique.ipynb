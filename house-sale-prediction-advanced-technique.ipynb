{
 "cells": [
  {
   "cell_type": "code",
   "execution_count": 1,
   "id": "b66efe7d",
   "metadata": {
    "_cell_guid": "76065d97-1224-4c50-8ea3-994e849b0858",
    "_uuid": "33edd9fd-b85b-4d03-89b8-385a6795d9e9",
    "collapsed": false,
    "execution": {
     "iopub.execute_input": "2022-01-28T03:02:04.693530Z",
     "iopub.status.busy": "2022-01-28T03:02:04.692302Z",
     "iopub.status.idle": "2022-01-28T03:02:04.785731Z",
     "shell.execute_reply": "2022-01-28T03:02:04.785050Z",
     "shell.execute_reply.started": "2022-01-28T03:01:27.631100Z"
    },
    "jupyter": {
     "outputs_hidden": false
    },
    "papermill": {
     "duration": 0.1331,
     "end_time": "2022-01-28T03:02:04.785923",
     "exception": false,
     "start_time": "2022-01-28T03:02:04.652823",
     "status": "completed"
    },
    "tags": []
   },
   "outputs": [
    {
     "name": "stdout",
     "output_type": "stream",
     "text": [
      "/kaggle/input/house-prices/sample_submission.csv\n",
      "/kaggle/input/house-prices/data_description.txt\n",
      "/kaggle/input/house-prices/train.csv\n",
      "/kaggle/input/house-prices/test.csv\n"
     ]
    }
   ],
   "source": [
    "# This Python 3 environment comes with many helpful analytics libraries installed\n",
    "# It is defined by the kaggle/python Docker image: https://github.com/kaggle/docker-python\n",
    "# For example, here's several helpful packages to load\n",
    "\n",
    "import numpy as np # linear algebra\n",
    "import pandas as pd # data processing, CSV file I/O (e.g. pd.read_csv)\n",
    "\n",
    "# Input data files are available in the read-only \"../input/\" directory\n",
    "# For example, running this (by clicking run or pressing Shift+Enter) will list all files under the input directory\n",
    "\n",
    "import os\n",
    "for dirname, _, filenames in os.walk('/kaggle/input'):\n",
    "    for filename in filenames:\n",
    "        print(os.path.join(dirname, filename))\n",
    "\n",
    "# You can write up to 20GB to the current directory (/kaggle/working/) that gets preserved as output when you create a version using \"Save & Run All\" \n",
    "# You can also write temporary files to /kaggle/temp/, but they won't be saved outside of the current session\n",
    "\n",
    "train = pd.read_csv('../input/house-prices/train.csv') \n",
    "test = pd.read_csv('../input/house-prices/test.csv')\n",
    "\n",
    "#Drop 'Street' column"
   ]
  },
  {
   "cell_type": "code",
   "execution_count": 2,
   "id": "8b11e131",
   "metadata": {
    "execution": {
     "iopub.execute_input": "2022-01-28T03:02:04.873761Z",
     "iopub.status.busy": "2022-01-28T03:02:04.872936Z",
     "iopub.status.idle": "2022-01-28T03:02:04.888888Z",
     "shell.execute_reply": "2022-01-28T03:02:04.889393Z",
     "shell.execute_reply.started": "2022-01-28T03:01:27.695116Z"
    },
    "papermill": {
     "duration": 0.066243,
     "end_time": "2022-01-28T03:02:04.889578",
     "exception": false,
     "start_time": "2022-01-28T03:02:04.823335",
     "status": "completed"
    },
    "tags": []
   },
   "outputs": [
    {
     "name": "stdout",
     "output_type": "stream",
     "text": [
      "0       10.0\n",
      "1        9.0\n",
      "2       10.0\n",
      "3        9.0\n",
      "4       10.0\n",
      "        ... \n",
      "1455     2.0\n",
      "1456     9.0\n",
      "1457    10.0\n",
      "1458    10.0\n",
      "1459     7.0\n",
      "Name: BsmtFinType1, Length: 1460, dtype: float64\n"
     ]
    }
   ],
   "source": [
    "#Calculate the expected number of 'good quality' basement bedrooms\n",
    "\n",
    "#1. Classify 'Basement Quality' in indexes\n",
    "\n",
    "def ClassifyBasementQuality() : \n",
    "    \n",
    "    quality_mapping = {\"GLQ\" : 10, \"ALQ\" : 9, \"BLQ\" : 7, \"Rec\" : 6, \"LwQ\" : 4, \"Unf\": 2, \"NA\": 1} \n",
    "    \n",
    "    train['BsmtFinType1'] = train['BsmtFinType1'].map(quality_mapping) \n",
    "    train['BsmtFinType2'] = train['BsmtFinType2'].map(quality_mapping)\n",
    "    \n",
    "    test['BsmtFinType1'] = test['BsmtFinType1'].map(quality_mapping) \n",
    "    test['BsmtFinType2'] = test['BsmtFinType2'].map(quality_mapping)\n",
    "    \n",
    "    \n",
    "ClassifyBasementQuality()\n",
    "\n",
    "df_basement = train['BsmtFinType1']\n",
    "\n",
    "print(df_basement)"
   ]
  },
  {
   "cell_type": "code",
   "execution_count": 3,
   "id": "8d071e35",
   "metadata": {
    "execution": {
     "iopub.execute_input": "2022-01-28T03:02:04.971417Z",
     "iopub.status.busy": "2022-01-28T03:02:04.970683Z",
     "iopub.status.idle": "2022-01-28T03:02:05.895270Z",
     "shell.execute_reply": "2022-01-28T03:02:05.894637Z",
     "shell.execute_reply.started": "2022-01-28T03:01:27.718060Z"
    },
    "papermill": {
     "duration": 0.969139,
     "end_time": "2022-01-28T03:02:05.895437",
     "exception": false,
     "start_time": "2022-01-28T03:02:04.926298",
     "status": "completed"
    },
    "tags": []
   },
   "outputs": [],
   "source": [
    "#Quality-Quantity Analysis - Higher Quality compensates for lower Quantity, Higher Quantity compensates for lower Quality in terms of price\n",
    "#1. Quality Indexed : Ex : '9', Gd : '7', TA : '5', Fa : '3', Po : '2' \n",
    "quality_mapping = {\"Ex\" : 9, \"Gd\" : 7, \"TA\" : 5, \"Fa\" : 3, \"Po\" : 2, \"NA\" : 0}\n",
    "  \n",
    "for column in train[['HeatingQC', 'KitchenQual', 'FireplaceQu', 'GarageQual', 'PoolQC']] : \n",
    "    train[column] = train[column].map(quality_mapping)\n",
    "    test[column] = test[column].map(quality_mapping)\n",
    "    \n",
    "def kitchen_quality_quantity() : \n",
    "    for i in range(len(train.index)) : \n",
    "        #Give the weight \n",
    "        train.loc[i, 'KitchenFavorIndex'] = 30 * train.loc[i, 'KitchenQual'] + train.loc[i, 'KitchenAbvGr']\n",
    "        \n",
    "    for i in range(len(test.index)) : \n",
    "        #Give the weight\n",
    "        test.loc[i, 'KitchenFavorIndex'] = 30 * test.loc[i, 'KitchenQual'] + test.loc[i, 'KitchenAbvGr']\n",
    "    \n",
    "kitchen_quality_quantity() "
   ]
  },
  {
   "cell_type": "code",
   "execution_count": 4,
   "id": "18fe5c0b",
   "metadata": {
    "execution": {
     "iopub.execute_input": "2022-01-28T03:02:05.975789Z",
     "iopub.status.busy": "2022-01-28T03:02:05.975022Z",
     "iopub.status.idle": "2022-01-28T03:02:05.998921Z",
     "shell.execute_reply": "2022-01-28T03:02:05.999640Z",
     "shell.execute_reply.started": "2022-01-28T03:01:28.662182Z"
    },
    "papermill": {
     "duration": 0.068376,
     "end_time": "2022-01-28T03:02:05.999841",
     "exception": false,
     "start_time": "2022-01-28T03:02:05.931465",
     "status": "completed"
    },
    "tags": []
   },
   "outputs": [
    {
     "name": "stdout",
     "output_type": "stream",
     "text": [
      "        Id  MSSubClass MSZoning  LotFrontage  LotArea Alley LotShape  \\\n",
      "0        1          60       RL         65.0     8450   NaN      Reg   \n",
      "1        2          20       RL         80.0     9600   NaN      Reg   \n",
      "2        3          60       RL         68.0    11250   NaN      IR1   \n",
      "3        4          70       RL         60.0     9550   NaN      IR1   \n",
      "4        5          60       RL         84.0    14260   NaN      IR1   \n",
      "...    ...         ...      ...          ...      ...   ...      ...   \n",
      "1455  1456          60       RL         62.0     7917   NaN      Reg   \n",
      "1456  1457          20       RL         85.0    13175   NaN      Reg   \n",
      "1457  1458          70       RL         66.0     9042   NaN      Reg   \n",
      "1458  1459          20       RL         68.0     9717   NaN      Reg   \n",
      "1459  1460          20       RL         75.0     9937   NaN      Reg   \n",
      "\n",
      "     LandContour Utilities LotConfig  ... PoolQC  Fence MiscFeature MiscVal  \\\n",
      "0            Lvl    AllPub    Inside  ...    NaN    NaN         NaN       0   \n",
      "1            Lvl    AllPub       FR2  ...    NaN    NaN         NaN       0   \n",
      "2            Lvl    AllPub    Inside  ...    NaN    NaN         NaN       0   \n",
      "3            Lvl    AllPub    Corner  ...    NaN    NaN         NaN       0   \n",
      "4            Lvl    AllPub       FR2  ...    NaN    NaN         NaN       0   \n",
      "...          ...       ...       ...  ...    ...    ...         ...     ...   \n",
      "1455         Lvl    AllPub    Inside  ...    NaN    NaN         NaN       0   \n",
      "1456         Lvl    AllPub    Inside  ...    NaN  MnPrv         NaN       0   \n",
      "1457         Lvl    AllPub    Inside  ...    NaN  GdPrv        Shed    2500   \n",
      "1458         Lvl    AllPub    Inside  ...    NaN    NaN         NaN       0   \n",
      "1459         Lvl    AllPub    Inside  ...    NaN    NaN         NaN       0   \n",
      "\n",
      "     MoSold YrSold  SaleType  SaleCondition  SalePrice  KitchenFavorIndex  \n",
      "0         2   2008        WD         Normal     208500              211.0  \n",
      "1         5   2007        WD         Normal     181500              151.0  \n",
      "2         9   2008        WD         Normal     223500              211.0  \n",
      "3         2   2006        WD        Abnorml     140000              211.0  \n",
      "4        12   2008        WD         Normal     250000              211.0  \n",
      "...     ...    ...       ...            ...        ...                ...  \n",
      "1455      8   2007        WD         Normal     175000              151.0  \n",
      "1456      2   2010        WD         Normal     210000              151.0  \n",
      "1457      5   2010        WD         Normal     266500              211.0  \n",
      "1458      4   2010        WD         Normal     142125              211.0  \n",
      "1459      6   2008        WD         Normal     147500              151.0  \n",
      "\n",
      "[1460 rows x 81 columns]\n"
     ]
    }
   ],
   "source": [
    "#Drop features \n",
    "features_drop = ['Street']\n",
    "\n",
    "train = train.drop(features_drop, axis=1)\n",
    "test = test.drop(features_drop, axis=1)\n",
    "\n",
    "print(train)"
   ]
  },
  {
   "cell_type": "code",
   "execution_count": 5,
   "id": "99c4a26a",
   "metadata": {
    "execution": {
     "iopub.execute_input": "2022-01-28T03:02:06.079533Z",
     "iopub.status.busy": "2022-01-28T03:02:06.078766Z",
     "iopub.status.idle": "2022-01-28T03:02:06.082631Z",
     "shell.execute_reply": "2022-01-28T03:02:06.083312Z",
     "shell.execute_reply.started": "2022-01-28T03:01:28.690046Z"
    },
    "papermill": {
     "duration": 0.047822,
     "end_time": "2022-01-28T03:02:06.083500",
     "exception": false,
     "start_time": "2022-01-28T03:02:06.035678",
     "status": "completed"
    },
    "tags": []
   },
   "outputs": [],
   "source": [
    "import matplotlib.pyplot as plt"
   ]
  },
  {
   "cell_type": "code",
   "execution_count": 6,
   "id": "274cf0a5",
   "metadata": {
    "execution": {
     "iopub.execute_input": "2022-01-28T03:02:06.162122Z",
     "iopub.status.busy": "2022-01-28T03:02:06.161412Z",
     "iopub.status.idle": "2022-01-28T03:02:06.456953Z",
     "shell.execute_reply": "2022-01-28T03:02:06.456429Z",
     "shell.execute_reply.started": "2022-01-28T03:01:28.696822Z"
    },
    "papermill": {
     "duration": 0.334317,
     "end_time": "2022-01-28T03:02:06.457143",
     "exception": false,
     "start_time": "2022-01-28T03:02:06.122826",
     "status": "completed"
    },
    "tags": []
   },
   "outputs": [
    {
     "data": {
      "image/png": "[encoded data removed]",
      "text/plain": [
       "<Figure size 432x288 with 1 Axes>"
      ]
     },
     "metadata": {
      "needs_background": "light"
     },
     "output_type": "display_data"
    }
   ],
   "source": [
    "plt.plot(train['YrSold'], train['SalePrice'], color='blue')\n",
    "plt.xlabel(\"Year\")\n",
    "plt.ylabel(\"SalePrice\")\n",
    "\n",
    "plt.show()"
   ]
  },
  {
   "cell_type": "code",
   "execution_count": 7,
   "id": "96d1c40e",
   "metadata": {
    "execution": {
     "iopub.execute_input": "2022-01-28T03:02:06.545016Z",
     "iopub.status.busy": "2022-01-28T03:02:06.544260Z",
     "iopub.status.idle": "2022-01-28T03:02:06.554772Z",
     "shell.execute_reply": "2022-01-28T03:02:06.554162Z",
     "shell.execute_reply.started": "2022-01-28T03:01:28.951143Z"
    },
    "papermill": {
     "duration": 0.057306,
     "end_time": "2022-01-28T03:02:06.554923",
     "exception": false,
     "start_time": "2022-01-28T03:02:06.497617",
     "status": "completed"
    },
    "tags": []
   },
   "outputs": [
    {
     "data": {
      "text/plain": [
       "0       181165.210165\n",
       "1       181165.210165\n",
       "2       181165.210165\n",
       "3       181165.210165\n",
       "4       181165.210165\n",
       "            ...      \n",
       "1455    181165.210165\n",
       "1456    181165.210165\n",
       "1457    181165.210165\n",
       "1458    181165.210165\n",
       "1459    181165.210165\n",
       "Name: SalePrice, Length: 1460, dtype: float64"
      ]
     },
     "execution_count": 7,
     "metadata": {},
     "output_type": "execute_result"
    }
   ],
   "source": [
    "#feature Engineering/Cor between Heating and SalePrice\n",
    "\n",
    "train.groupby(train[\"Heating\"] == 'Wall')[\"SalePrice\"].transform(\"mean\")   "
   ]
  },
  {
   "cell_type": "code",
   "execution_count": 8,
   "id": "3c9e6db9",
   "metadata": {
    "execution": {
     "iopub.execute_input": "2022-01-28T03:02:06.635846Z",
     "iopub.status.busy": "2022-01-28T03:02:06.635151Z",
     "iopub.status.idle": "2022-01-28T03:02:06.660469Z",
     "shell.execute_reply": "2022-01-28T03:02:06.660970Z",
     "shell.execute_reply.started": "2022-01-28T03:01:28.963993Z"
    },
    "papermill": {
     "duration": 0.068581,
     "end_time": "2022-01-28T03:02:06.661177",
     "exception": false,
     "start_time": "2022-01-28T03:02:06.592596",
     "status": "completed"
    },
    "tags": []
   },
   "outputs": [],
   "source": [
    "df = pd.read_csv('../input/house-prices/train.csv')"
   ]
  },
  {
   "cell_type": "code",
   "execution_count": 9,
   "id": "2ea9d0f4",
   "metadata": {
    "execution": {
     "iopub.execute_input": "2022-01-28T03:02:06.738433Z",
     "iopub.status.busy": "2022-01-28T03:02:06.737725Z",
     "iopub.status.idle": "2022-01-28T03:02:06.756374Z",
     "shell.execute_reply": "2022-01-28T03:02:06.755684Z",
     "shell.execute_reply.started": "2022-01-28T03:01:29.005471Z"
    },
    "papermill": {
     "duration": 0.058231,
     "end_time": "2022-01-28T03:02:06.756513",
     "exception": false,
     "start_time": "2022-01-28T03:02:06.698282",
     "status": "completed"
    },
    "tags": []
   },
   "outputs": [
    {
     "data": {
      "text/plain": [
       "MSSubClass      -0.084284\n",
       "LotFrontage      0.351799\n",
       "LotArea          0.263843\n",
       "OverallQual      0.790982\n",
       "OverallCond     -0.077856\n",
       "YearBuilt        0.522897\n",
       "YearRemodAdd     0.507101\n",
       "MasVnrArea       0.477493\n",
       "BsmtFinSF1       0.386420\n",
       "BsmtFinSF2      -0.011378\n",
       "BsmtUnfSF        0.214479\n",
       "TotalBsmtSF      0.613581\n",
       "1stFlrSF         0.605852\n",
       "2ndFlrSF         0.319334\n",
       "LowQualFinSF    -0.025606\n",
       "GrLivArea        0.708624\n",
       "BsmtFullBath     0.227122\n",
       "BsmtHalfBath    -0.016844\n",
       "FullBath         0.560664\n",
       "HalfBath         0.284108\n",
       "BedroomAbvGr     0.168213\n",
       "KitchenAbvGr    -0.135907\n",
       "TotRmsAbvGrd     0.533723\n",
       "Fireplaces       0.466929\n",
       "GarageYrBlt      0.486362\n",
       "GarageCars       0.640409\n",
       "GarageArea       0.623431\n",
       "WoodDeckSF       0.324413\n",
       "OpenPorchSF      0.315856\n",
       "EnclosedPorch   -0.128578\n",
       "3SsnPorch        0.044584\n",
       "ScreenPorch      0.111447\n",
       "PoolArea         0.092404\n",
       "MiscVal         -0.021190\n",
       "MoSold           0.046432\n",
       "YrSold          -0.028923\n",
       "SalePrice        1.000000\n",
       "Name: SalePrice, dtype: float64"
      ]
     },
     "execution_count": 9,
     "metadata": {},
     "output_type": "execute_result"
    }
   ],
   "source": [
    "df[df.columns[1:]].corr()['SalePrice'][:]"
   ]
  },
  {
   "cell_type": "code",
   "execution_count": 10,
   "id": "158d2fb8",
   "metadata": {
    "execution": {
     "iopub.execute_input": "2022-01-28T03:02:06.844634Z",
     "iopub.status.busy": "2022-01-28T03:02:06.843897Z",
     "iopub.status.idle": "2022-01-28T03:02:06.847742Z",
     "shell.execute_reply": "2022-01-28T03:02:06.847200Z",
     "shell.execute_reply.started": "2022-01-28T03:01:29.025072Z"
    },
    "papermill": {
     "duration": 0.052017,
     "end_time": "2022-01-28T03:02:06.847882",
     "exception": false,
     "start_time": "2022-01-28T03:02:06.795865",
     "status": "completed"
    },
    "tags": []
   },
   "outputs": [
    {
     "data": {
      "text/plain": [
       "0       0.0\n",
       "1       0.0\n",
       "2       0.0\n",
       "3       0.0\n",
       "4       0.0\n",
       "       ... \n",
       "1455    0.0\n",
       "1456    0.0\n",
       "1457    0.0\n",
       "1458    0.0\n",
       "1459    0.0\n",
       "Name: PoolQC, Length: 1460, dtype: float64"
      ]
     },
     "execution_count": 10,
     "metadata": {},
     "output_type": "execute_result"
    }
   ],
   "source": [
    "#Quality - Quantity Analysis \n",
    "train['PoolQC'].head(30)\n",
    "\n",
    "train['PoolQC'].fillna(0)"
   ]
  },
  {
   "cell_type": "code",
   "execution_count": 11,
   "id": "8e9538fc",
   "metadata": {
    "execution": {
     "iopub.execute_input": "2022-01-28T03:02:06.930794Z",
     "iopub.status.busy": "2022-01-28T03:02:06.929631Z",
     "iopub.status.idle": "2022-01-28T03:02:06.946373Z",
     "shell.execute_reply": "2022-01-28T03:02:06.946882Z",
     "shell.execute_reply.started": "2022-01-28T03:01:29.038445Z"
    },
    "papermill": {
     "duration": 0.061108,
     "end_time": "2022-01-28T03:02:06.947090",
     "exception": false,
     "start_time": "2022-01-28T03:02:06.885982",
     "status": "completed"
    },
    "tags": []
   },
   "outputs": [
    {
     "data": {
      "text/plain": [
       "MSSubClass          -0.084284\n",
       "LotFrontage          0.351799\n",
       "LotArea              0.263843\n",
       "OverallQual          0.790982\n",
       "OverallCond         -0.077856\n",
       "YearBuilt            0.522897\n",
       "YearRemodAdd         0.507101\n",
       "MasVnrArea           0.477493\n",
       "BsmtFinType1         0.251502\n",
       "BsmtFinSF1           0.386420\n",
       "BsmtFinType2        -0.042743\n",
       "BsmtFinSF2          -0.011378\n",
       "BsmtUnfSF            0.214479\n",
       "TotalBsmtSF          0.613581\n",
       "HeatingQC            0.427688\n",
       "1stFlrSF             0.605852\n",
       "2ndFlrSF             0.319334\n",
       "LowQualFinSF        -0.025606\n",
       "GrLivArea            0.708624\n",
       "BsmtFullBath         0.227122\n",
       "BsmtHalfBath        -0.016844\n",
       "FullBath             0.560664\n",
       "HalfBath             0.284108\n",
       "BedroomAbvGr         0.168213\n",
       "KitchenAbvGr        -0.135907\n",
       "KitchenQual          0.659600\n",
       "TotRmsAbvGrd         0.533723\n",
       "Fireplaces           0.466929\n",
       "FireplaceQu          0.294107\n",
       "GarageYrBlt          0.486362\n",
       "GarageCars           0.640409\n",
       "GarageArea           0.623431\n",
       "GarageQual           0.156807\n",
       "WoodDeckSF           0.324413\n",
       "OpenPorchSF          0.315856\n",
       "EnclosedPorch       -0.128578\n",
       "3SsnPorch            0.044584\n",
       "ScreenPorch          0.111447\n",
       "PoolArea             0.092404\n",
       "PoolQC               0.447936\n",
       "MiscVal             -0.021190\n",
       "MoSold               0.046432\n",
       "YrSold              -0.028923\n",
       "SalePrice            1.000000\n",
       "KitchenFavorIndex    0.659467\n",
       "Name: SalePrice, dtype: float64"
      ]
     },
     "execution_count": 11,
     "metadata": {},
     "output_type": "execute_result"
    }
   ],
   "source": [
    "\n",
    "\n",
    "train[train.columns[1:]].corr()['SalePrice'][:]"
   ]
  },
  {
   "cell_type": "code",
   "execution_count": 12,
   "id": "9d496428",
   "metadata": {
    "execution": {
     "iopub.execute_input": "2022-01-28T03:02:07.026813Z",
     "iopub.status.busy": "2022-01-28T03:02:07.025883Z",
     "iopub.status.idle": "2022-01-28T03:02:07.028959Z",
     "shell.execute_reply": "2022-01-28T03:02:07.029424Z",
     "shell.execute_reply.started": "2022-01-28T03:01:29.061800Z"
    },
    "papermill": {
     "duration": 0.044233,
     "end_time": "2022-01-28T03:02:07.029592",
     "exception": false,
     "start_time": "2022-01-28T03:02:06.985359",
     "status": "completed"
    },
    "tags": []
   },
   "outputs": [],
   "source": [
    "#GarageCars * GarageARea / GarageYrBuilt, Fireplaces * FireplaceQu, Outdoor Activities"
   ]
  },
  {
   "cell_type": "code",
   "execution_count": 13,
   "id": "1b5c9ba7",
   "metadata": {
    "execution": {
     "iopub.execute_input": "2022-01-28T03:02:07.109706Z",
     "iopub.status.busy": "2022-01-28T03:02:07.108704Z",
     "iopub.status.idle": "2022-01-28T03:02:07.115667Z",
     "shell.execute_reply": "2022-01-28T03:02:07.116149Z",
     "shell.execute_reply.started": "2022-01-28T03:01:29.068579Z"
    },
    "papermill": {
     "duration": 0.048552,
     "end_time": "2022-01-28T03:02:07.116329",
     "exception": false,
     "start_time": "2022-01-28T03:02:07.067777",
     "status": "completed"
    },
    "tags": []
   },
   "outputs": [],
   "source": [
    "train = train.drop('BedroomAbvGr', axis=1)\n",
    "test = test.drop('BedroomAbvGr', axis=1)"
   ]
  },
  {
   "cell_type": "code",
   "execution_count": 14,
   "id": "7e3186f4",
   "metadata": {
    "execution": {
     "iopub.execute_input": "2022-01-28T03:02:07.197701Z",
     "iopub.status.busy": "2022-01-28T03:02:07.196679Z",
     "iopub.status.idle": "2022-01-28T03:02:07.215079Z",
     "shell.execute_reply": "2022-01-28T03:02:07.215618Z",
     "shell.execute_reply.started": "2022-01-28T03:01:29.088640Z"
    },
    "papermill": {
     "duration": 0.060402,
     "end_time": "2022-01-28T03:02:07.215806",
     "exception": false,
     "start_time": "2022-01-28T03:02:07.155404",
     "status": "completed"
    },
    "tags": []
   },
   "outputs": [
    {
     "data": {
      "text/plain": [
       "MSSubClass          -0.084284\n",
       "LotFrontage          0.351799\n",
       "LotArea              0.263843\n",
       "OverallQual          0.790982\n",
       "OverallCond         -0.077856\n",
       "YearBuilt            0.522897\n",
       "YearRemodAdd         0.507101\n",
       "MasVnrArea           0.477493\n",
       "BsmtFinType1         0.251502\n",
       "BsmtFinSF1           0.386420\n",
       "BsmtFinType2        -0.042743\n",
       "BsmtFinSF2          -0.011378\n",
       "BsmtUnfSF            0.214479\n",
       "TotalBsmtSF          0.613581\n",
       "HeatingQC            0.427688\n",
       "1stFlrSF             0.605852\n",
       "2ndFlrSF             0.319334\n",
       "LowQualFinSF        -0.025606\n",
       "GrLivArea            0.708624\n",
       "BsmtFullBath         0.227122\n",
       "BsmtHalfBath        -0.016844\n",
       "FullBath             0.560664\n",
       "HalfBath             0.284108\n",
       "KitchenAbvGr        -0.135907\n",
       "KitchenQual          0.659600\n",
       "TotRmsAbvGrd         0.533723\n",
       "Fireplaces           0.466929\n",
       "FireplaceQu          0.294107\n",
       "GarageYrBlt          0.486362\n",
       "GarageCars           0.640409\n",
       "GarageArea           0.623431\n",
       "GarageQual           0.156807\n",
       "WoodDeckSF           0.324413\n",
       "OpenPorchSF          0.315856\n",
       "EnclosedPorch       -0.128578\n",
       "3SsnPorch            0.044584\n",
       "ScreenPorch          0.111447\n",
       "PoolArea             0.092404\n",
       "PoolQC               0.447936\n",
       "MiscVal             -0.021190\n",
       "MoSold               0.046432\n",
       "YrSold              -0.028923\n",
       "SalePrice            1.000000\n",
       "KitchenFavorIndex    0.659467\n",
       "Name: SalePrice, dtype: float64"
      ]
     },
     "execution_count": 14,
     "metadata": {},
     "output_type": "execute_result"
    }
   ],
   "source": [
    "train[train.columns[1:]].corr()['SalePrice'][:]"
   ]
  },
  {
   "cell_type": "code",
   "execution_count": 15,
   "id": "00b6d432",
   "metadata": {
    "execution": {
     "iopub.execute_input": "2022-01-28T03:02:07.423465Z",
     "iopub.status.busy": "2022-01-28T03:02:07.418059Z",
     "iopub.status.idle": "2022-01-28T03:02:07.489668Z",
     "shell.execute_reply": "2022-01-28T03:02:07.488923Z",
     "shell.execute_reply.started": "2022-01-28T03:01:29.111239Z"
    },
    "papermill": {
     "duration": 0.231549,
     "end_time": "2022-01-28T03:02:07.489815",
     "exception": false,
     "start_time": "2022-01-28T03:02:07.258266",
     "status": "completed"
    },
    "tags": []
   },
   "outputs": [],
   "source": [
    "for i in range(len(train.index)) :\n",
    "    train.at[i, 'TotalBath'] = train.at[i, 'FullBath'] + train.at[i, 'HalfBath']\n",
    "for i in range(len(test.index)) :\n",
    "    test.at[i, 'TotalBath'] = test.at[i, 'FullBath'] + test.at[i, 'HalfBath']\n",
    "    "
   ]
  },
  {
   "cell_type": "code",
   "execution_count": 16,
   "id": "7b5d6b84",
   "metadata": {
    "execution": {
     "iopub.execute_input": "2022-01-28T03:02:07.571634Z",
     "iopub.status.busy": "2022-01-28T03:02:07.570921Z",
     "iopub.status.idle": "2022-01-28T03:02:07.572680Z",
     "shell.execute_reply": "2022-01-28T03:02:07.573147Z",
     "shell.execute_reply.started": "2022-01-28T03:01:29.201784Z"
    },
    "papermill": {
     "duration": 0.04456,
     "end_time": "2022-01-28T03:02:07.573358",
     "exception": false,
     "start_time": "2022-01-28T03:02:07.528798",
     "status": "completed"
    },
    "tags": []
   },
   "outputs": [],
   "source": [
    "#I'll use random forest,so no feature scaling."
   ]
  },
  {
   "cell_type": "code",
   "execution_count": 17,
   "id": "c0b896bd",
   "metadata": {
    "execution": {
     "iopub.execute_input": "2022-01-28T03:02:07.657788Z",
     "iopub.status.busy": "2022-01-28T03:02:07.656809Z",
     "iopub.status.idle": "2022-01-28T03:02:07.663394Z",
     "shell.execute_reply": "2022-01-28T03:02:07.663908Z",
     "shell.execute_reply.started": "2022-01-28T03:01:29.207658Z"
    },
    "papermill": {
     "duration": 0.049588,
     "end_time": "2022-01-28T03:02:07.664101",
     "exception": false,
     "start_time": "2022-01-28T03:02:07.614513",
     "status": "completed"
    },
    "tags": []
   },
   "outputs": [
    {
     "data": {
      "text/plain": [
       "0    2\n",
       "1    2\n",
       "2    2\n",
       "3    3\n",
       "4    3\n",
       "Name: GarageCars, dtype: int64"
      ]
     },
     "execution_count": 17,
     "metadata": {},
     "output_type": "execute_result"
    }
   ],
   "source": [
    "train['GarageCars'].head()"
   ]
  },
  {
   "cell_type": "code",
   "execution_count": 18,
   "id": "c1485cc6",
   "metadata": {
    "execution": {
     "iopub.execute_input": "2022-01-28T03:02:07.750085Z",
     "iopub.status.busy": "2022-01-28T03:02:07.749423Z",
     "iopub.status.idle": "2022-01-28T03:02:07.756184Z",
     "shell.execute_reply": "2022-01-28T03:02:07.755504Z",
     "shell.execute_reply.started": "2022-01-28T03:01:29.225748Z"
    },
    "papermill": {
     "duration": 0.052625,
     "end_time": "2022-01-28T03:02:07.756335",
     "exception": false,
     "start_time": "2022-01-28T03:02:07.703710",
     "status": "completed"
    },
    "tags": []
   },
   "outputs": [
    {
     "data": {
      "text/plain": [
       "0    7\n",
       "1    5\n",
       "2    7\n",
       "3    7\n",
       "4    7\n",
       "Name: KitchenQual, dtype: int64"
      ]
     },
     "execution_count": 18,
     "metadata": {},
     "output_type": "execute_result"
    }
   ],
   "source": [
    "train['KitchenQual'].head()"
   ]
  },
  {
   "cell_type": "code",
   "execution_count": 19,
   "id": "893de8c3",
   "metadata": {
    "execution": {
     "iopub.execute_input": "2022-01-28T03:02:07.839936Z",
     "iopub.status.busy": "2022-01-28T03:02:07.839297Z",
     "iopub.status.idle": "2022-01-28T03:02:07.920209Z",
     "shell.execute_reply": "2022-01-28T03:02:07.920706Z",
     "shell.execute_reply.started": "2022-01-28T03:01:29.239002Z"
    },
    "papermill": {
     "duration": 0.123605,
     "end_time": "2022-01-28T03:02:07.920890",
     "exception": false,
     "start_time": "2022-01-28T03:02:07.797285",
     "status": "completed"
    },
    "tags": []
   },
   "outputs": [],
   "source": [
    "for i in range(len(train.index)) :\n",
    "    train.at[i, '1st2ndComposite'] = train.at[i, '1stFlrSF'] + train.at[i, '2ndFlrSF']\n",
    "for i in range(len(test.index)) :\n",
    "    test.at[i, '1st2ndComposite'] = test.at[i, '1stFlrSF'] + test.at[i, '2ndFlrSF']"
   ]
  },
  {
   "cell_type": "code",
   "execution_count": 20,
   "id": "8b0cba75",
   "metadata": {
    "execution": {
     "iopub.execute_input": "2022-01-28T03:02:08.002580Z",
     "iopub.status.busy": "2022-01-28T03:02:08.001805Z",
     "iopub.status.idle": "2022-01-28T03:02:08.135666Z",
     "shell.execute_reply": "2022-01-28T03:02:08.135048Z",
     "shell.execute_reply.started": "2022-01-28T03:01:29.330186Z"
    },
    "papermill": {
     "duration": 0.17571,
     "end_time": "2022-01-28T03:02:08.135813",
     "exception": false,
     "start_time": "2022-01-28T03:02:07.960103",
     "status": "completed"
    },
    "tags": []
   },
   "outputs": [],
   "source": [
    "for i in range(len(train.index)) :\n",
    "    train.at[i, 'GarageIndex'] = 5 * train.at[i,'GarageQual'] + 100 * train.at[i, 'GarageArea'] + 1000 * train.at[i, 'GarageCars'] - 10 * train.at[i, 'GarageYrBlt'] \n",
    "for i in range(len(test.index)) :\n",
    "    test.at[i, 'GarageIndex'] = 5 * test.at[i,'GarageQual'] + 100 * test.at[i, 'GarageArea'] + 1000 * test.at[i, 'GarageCars'] - 10 * test.at[i, 'GarageYrBlt'] "
   ]
  },
  {
   "cell_type": "code",
   "execution_count": 21,
   "id": "7cbbb5f7",
   "metadata": {
    "execution": {
     "iopub.execute_input": "2022-01-28T03:02:08.223352Z",
     "iopub.status.busy": "2022-01-28T03:02:08.219182Z",
     "iopub.status.idle": "2022-01-28T03:02:08.230189Z",
     "shell.execute_reply": "2022-01-28T03:02:08.229537Z",
     "shell.execute_reply.started": "2022-01-28T03:01:29.470929Z"
    },
    "papermill": {
     "duration": 0.053371,
     "end_time": "2022-01-28T03:02:08.230341",
     "exception": false,
     "start_time": "2022-01-28T03:02:08.176970",
     "status": "completed"
    },
    "tags": []
   },
   "outputs": [],
   "source": [
    "features_to_drop = ['MSSubClass', 'OverallCond', 'BsmtFinType1', 'BsmtFinSF1', 'BsmtFinType2', 'BsmtFinSF2', 'BsmtUnfSF', '1stFlrSF','2ndFlrSF', 'LowQualFinSF', 'BsmtFullBath', 'BsmtHalfBath','FullBath','HalfBath','KitchenAbvGr','FireplaceQu','Fireplaces','GarageQual','WoodDeckSF','OpenPorchSF','EnclosedPorch','3SsnPorch','ScreenPorch','PoolArea','MiscVal','MoSold','YrSold']\n",
    "train = train.drop(features_to_drop, axis=1)\n",
    "test = test.drop(features_to_drop, axis=1)"
   ]
  },
  {
   "cell_type": "code",
   "execution_count": 22,
   "id": "b9d99745",
   "metadata": {
    "execution": {
     "iopub.execute_input": "2022-01-28T03:02:08.316610Z",
     "iopub.status.busy": "2022-01-28T03:02:08.315178Z",
     "iopub.status.idle": "2022-01-28T03:02:08.319703Z",
     "shell.execute_reply": "2022-01-28T03:02:08.320235Z",
     "shell.execute_reply.started": "2022-01-28T03:01:29.483788Z"
    },
    "papermill": {
     "duration": 0.049983,
     "end_time": "2022-01-28T03:02:08.320413",
     "exception": false,
     "start_time": "2022-01-28T03:02:08.270430",
     "status": "completed"
    },
    "tags": []
   },
   "outputs": [],
   "source": [
    "features_drop_2 = ['LotFrontage','LotArea']\n",
    "\n",
    "train = train.drop(features_drop_2, axis=1)\n",
    "test = test.drop(features_drop_2, axis=1)"
   ]
  },
  {
   "cell_type": "code",
   "execution_count": 23,
   "id": "c8a1b7e7",
   "metadata": {
    "execution": {
     "iopub.execute_input": "2022-01-28T03:02:08.402105Z",
     "iopub.status.busy": "2022-01-28T03:02:08.401459Z",
     "iopub.status.idle": "2022-01-28T03:02:08.410754Z",
     "shell.execute_reply": "2022-01-28T03:02:08.411284Z",
     "shell.execute_reply.started": "2022-01-28T03:01:29.497564Z"
    },
    "papermill": {
     "duration": 0.051543,
     "end_time": "2022-01-28T03:02:08.411455",
     "exception": false,
     "start_time": "2022-01-28T03:02:08.359912",
     "status": "completed"
    },
    "tags": []
   },
   "outputs": [],
   "source": [
    "types_mapping = {'PConc' : 10, 'Wood' : 7, 'BrkTil' : 5, 'CBlock' : 5, 'Slab' : 5, 'Stone':5}\n",
    "feature = 'Foundation'\n",
    "train[feature] = df[feature]\n",
    "test[feature] = df[feature]\n",
    "train[feature] = train[feature].map(types_mapping).copy()\n",
    "test[feature] = test[feature].map(types_mapping).copy()"
   ]
  },
  {
   "cell_type": "code",
   "execution_count": 24,
   "id": "4f95ffac",
   "metadata": {
    "execution": {
     "iopub.execute_input": "2022-01-28T03:02:08.497485Z",
     "iopub.status.busy": "2022-01-28T03:02:08.496773Z",
     "iopub.status.idle": "2022-01-28T03:02:08.502921Z",
     "shell.execute_reply": "2022-01-28T03:02:08.502415Z",
     "shell.execute_reply.started": "2022-01-28T03:01:29.512700Z"
    },
    "papermill": {
     "duration": 0.051801,
     "end_time": "2022-01-28T03:02:08.503079",
     "exception": false,
     "start_time": "2022-01-28T03:02:08.451278",
     "status": "completed"
    },
    "tags": []
   },
   "outputs": [],
   "source": [
    "types_mapping = {'BuiltIn' : 10, 'Attchd' : 7, 'Basment' : 7, '2Types' : 7, 'Detchd' : 5, 'CarPort':5}\n",
    "feature = 'GarageType'\n",
    "train[feature] = df[feature]\n",
    "test[feature] = df[feature]\n",
    "train[feature] = train[feature].map(types_mapping).copy()\n",
    "test[feature] = test[feature].map(types_mapping).copy()"
   ]
  },
  {
   "cell_type": "code",
   "execution_count": 25,
   "id": "cde2ce0a",
   "metadata": {
    "execution": {
     "iopub.execute_input": "2022-01-28T03:02:08.592696Z",
     "iopub.status.busy": "2022-01-28T03:02:08.591099Z",
     "iopub.status.idle": "2022-01-28T03:02:08.597031Z",
     "shell.execute_reply": "2022-01-28T03:02:08.596412Z",
     "shell.execute_reply.started": "2022-01-28T03:01:29.527139Z"
    },
    "papermill": {
     "duration": 0.05488,
     "end_time": "2022-01-28T03:02:08.597198",
     "exception": false,
     "start_time": "2022-01-28T03:02:08.542318",
     "status": "completed"
    },
    "tags": []
   },
   "outputs": [],
   "source": [
    "types_mapping = {'Fin' : 3, 'RFn' : 2, 'Unf':1}\n",
    "feature = 'GarageFinish'\n",
    "train[feature] = df[feature]\n",
    "test[feature] = df[feature]\n",
    "train[feature] = train[feature].map(types_mapping).copy()\n",
    "test[feature] = test[feature].map(types_mapping).copy()"
   ]
  },
  {
   "cell_type": "markdown",
   "id": "0681acf6",
   "metadata": {
    "papermill": {
     "duration": 0.040066,
     "end_time": "2022-01-28T03:02:08.676910",
     "exception": false,
     "start_time": "2022-01-28T03:02:08.636844",
     "status": "completed"
    },
    "tags": []
   },
   "source": []
  },
  {
   "cell_type": "code",
   "execution_count": 26,
   "id": "3cefa4f8",
   "metadata": {
    "execution": {
     "iopub.execute_input": "2022-01-28T03:02:08.761018Z",
     "iopub.status.busy": "2022-01-28T03:02:08.760352Z",
     "iopub.status.idle": "2022-01-28T03:02:09.979797Z",
     "shell.execute_reply": "2022-01-28T03:02:09.979158Z",
     "shell.execute_reply.started": "2022-01-28T03:01:29.543415Z"
    },
    "papermill": {
     "duration": 1.263326,
     "end_time": "2022-01-28T03:02:09.979943",
     "exception": false,
     "start_time": "2022-01-28T03:02:08.716617",
     "status": "completed"
    },
    "tags": []
   },
   "outputs": [
    {
     "data": {
      "image/png": "[encoded data removed]",
      "text/plain": [
       "<Figure size 432x288 with 1 Axes>"
      ]
     },
     "metadata": {
      "needs_background": "light"
     },
     "output_type": "display_data"
    }
   ],
   "source": [
    "import seaborn as sns\n",
    "\n",
    "sboxplot = sns.boxplot(y=train['SalePrice'], x=train['GarageCond'], width = 1,\n",
    "                 palette=\"colorblind\")\n",
    "\n"
   ]
  },
  {
   "cell_type": "code",
   "execution_count": 27,
   "id": "1ff045ff",
   "metadata": {
    "execution": {
     "iopub.execute_input": "2022-01-28T03:02:10.068156Z",
     "iopub.status.busy": "2022-01-28T03:02:10.067065Z",
     "iopub.status.idle": "2022-01-28T03:02:10.072123Z",
     "shell.execute_reply": "2022-01-28T03:02:10.072657Z",
     "shell.execute_reply.started": "2022-01-28T03:01:29.814268Z"
    },
    "papermill": {
     "duration": 0.052455,
     "end_time": "2022-01-28T03:02:10.072847",
     "exception": false,
     "start_time": "2022-01-28T03:02:10.020392",
     "status": "completed"
    },
    "tags": []
   },
   "outputs": [],
   "source": [
    "train['ExterQual'] = train['ExterQual'].map(quality_mapping)\n",
    "test['ExterQual'] = test['ExterQual'].map(quality_mapping)"
   ]
  },
  {
   "cell_type": "code",
   "execution_count": 28,
   "id": "2c914f54",
   "metadata": {
    "execution": {
     "iopub.execute_input": "2022-01-28T03:02:10.160313Z",
     "iopub.status.busy": "2022-01-28T03:02:10.159093Z",
     "iopub.status.idle": "2022-01-28T03:02:10.166816Z",
     "shell.execute_reply": "2022-01-28T03:02:10.167392Z",
     "shell.execute_reply.started": "2022-01-28T03:01:29.824871Z"
    },
    "papermill": {
     "duration": 0.053371,
     "end_time": "2022-01-28T03:02:10.167577",
     "exception": false,
     "start_time": "2022-01-28T03:02:10.114206",
     "status": "completed"
    },
    "tags": []
   },
   "outputs": [],
   "source": [
    "train['BsmtQual'] = train['BsmtQual'].map(quality_mapping)\n",
    "test['BsmtQual'] = test['BsmtQual'].map(quality_mapping)"
   ]
  },
  {
   "cell_type": "code",
   "execution_count": 29,
   "id": "fa33f683",
   "metadata": {
    "execution": {
     "iopub.execute_input": "2022-01-28T03:02:10.258035Z",
     "iopub.status.busy": "2022-01-28T03:02:10.257300Z",
     "iopub.status.idle": "2022-01-28T03:02:10.264594Z",
     "shell.execute_reply": "2022-01-28T03:02:10.263987Z",
     "shell.execute_reply.started": "2022-01-28T03:01:29.840816Z"
    },
    "papermill": {
     "duration": 0.055405,
     "end_time": "2022-01-28T03:02:10.264737",
     "exception": false,
     "start_time": "2022-01-28T03:02:10.209332",
     "status": "completed"
    },
    "tags": []
   },
   "outputs": [],
   "source": [
    "features_dropping = ['MSZoning','Alley','LotShape','LandContour','Utilities','LotConfig','LandSlope','Neighborhood','Condition1','Condition2','BldgType','HouseStyle','RoofStyle','RoofMatl','Exterior1st','Exterior2nd','MasVnrType','ExterCond','BsmtCond','BsmtExposure','CentralAir','Electrical','Functional','GarageCond','PavedDrive','Fence','MiscFeature','SaleType','SaleCondition']\n",
    "\n",
    "train = train.drop(features_dropping, axis=1)\n",
    "test = test.drop(features_dropping, axis=1)"
   ]
  },
  {
   "cell_type": "code",
   "execution_count": 30,
   "id": "c5825d7e",
   "metadata": {
    "execution": {
     "iopub.execute_input": "2022-01-28T03:02:10.362233Z",
     "iopub.status.busy": "2022-01-28T03:02:10.361502Z",
     "iopub.status.idle": "2022-01-28T03:02:10.379237Z",
     "shell.execute_reply": "2022-01-28T03:02:10.378540Z",
     "shell.execute_reply.started": "2022-01-28T03:01:29.854758Z"
    },
    "papermill": {
     "duration": 0.07396,
     "end_time": "2022-01-28T03:02:10.379391",
     "exception": false,
     "start_time": "2022-01-28T03:02:10.305431",
     "status": "completed"
    },
    "tags": []
   },
   "outputs": [
    {
     "data": {
      "text/html": [
       "<div>\n",
       "<style scoped>\n",
       "    .dataframe tbody tr th:only-of-type {\n",
       "        vertical-align: middle;\n",
       "    }\n",
       "\n",
       "    .dataframe tbody tr th {\n",
       "        vertical-align: top;\n",
       "    }\n",
       "\n",
       "    .dataframe thead th {\n",
       "        text-align: right;\n",
       "    }\n",
       "</style>\n",
       "<table border=\"1\" class=\"dataframe\">\n",
       "  <thead>\n",
       "    <tr style=\"text-align: right;\">\n",
       "      <th></th>\n",
       "      <th>Id</th>\n",
       "      <th>OverallQual</th>\n",
       "      <th>YearBuilt</th>\n",
       "      <th>YearRemodAdd</th>\n",
       "      <th>MasVnrArea</th>\n",
       "      <th>ExterQual</th>\n",
       "      <th>Foundation</th>\n",
       "      <th>BsmtQual</th>\n",
       "      <th>TotalBsmtSF</th>\n",
       "      <th>Heating</th>\n",
       "      <th>...</th>\n",
       "      <th>GarageYrBlt</th>\n",
       "      <th>GarageFinish</th>\n",
       "      <th>GarageCars</th>\n",
       "      <th>GarageArea</th>\n",
       "      <th>PoolQC</th>\n",
       "      <th>SalePrice</th>\n",
       "      <th>KitchenFavorIndex</th>\n",
       "      <th>TotalBath</th>\n",
       "      <th>1st2ndComposite</th>\n",
       "      <th>GarageIndex</th>\n",
       "    </tr>\n",
       "  </thead>\n",
       "  <tbody>\n",
       "    <tr>\n",
       "      <th>0</th>\n",
       "      <td>1</td>\n",
       "      <td>7</td>\n",
       "      <td>2003</td>\n",
       "      <td>2003</td>\n",
       "      <td>196.0</td>\n",
       "      <td>7</td>\n",
       "      <td>10</td>\n",
       "      <td>7.0</td>\n",
       "      <td>856</td>\n",
       "      <td>GasA</td>\n",
       "      <td>...</td>\n",
       "      <td>2003.0</td>\n",
       "      <td>2.0</td>\n",
       "      <td>2</td>\n",
       "      <td>548</td>\n",
       "      <td>NaN</td>\n",
       "      <td>208500</td>\n",
       "      <td>211.0</td>\n",
       "      <td>3.0</td>\n",
       "      <td>1710.0</td>\n",
       "      <td>36795.0</td>\n",
       "    </tr>\n",
       "    <tr>\n",
       "      <th>1</th>\n",
       "      <td>2</td>\n",
       "      <td>6</td>\n",
       "      <td>1976</td>\n",
       "      <td>1976</td>\n",
       "      <td>0.0</td>\n",
       "      <td>5</td>\n",
       "      <td>5</td>\n",
       "      <td>7.0</td>\n",
       "      <td>1262</td>\n",
       "      <td>GasA</td>\n",
       "      <td>...</td>\n",
       "      <td>1976.0</td>\n",
       "      <td>2.0</td>\n",
       "      <td>2</td>\n",
       "      <td>460</td>\n",
       "      <td>NaN</td>\n",
       "      <td>181500</td>\n",
       "      <td>151.0</td>\n",
       "      <td>2.0</td>\n",
       "      <td>1262.0</td>\n",
       "      <td>28265.0</td>\n",
       "    </tr>\n",
       "    <tr>\n",
       "      <th>2</th>\n",
       "      <td>3</td>\n",
       "      <td>7</td>\n",
       "      <td>2001</td>\n",
       "      <td>2002</td>\n",
       "      <td>162.0</td>\n",
       "      <td>7</td>\n",
       "      <td>10</td>\n",
       "      <td>7.0</td>\n",
       "      <td>920</td>\n",
       "      <td>GasA</td>\n",
       "      <td>...</td>\n",
       "      <td>2001.0</td>\n",
       "      <td>2.0</td>\n",
       "      <td>2</td>\n",
       "      <td>608</td>\n",
       "      <td>NaN</td>\n",
       "      <td>223500</td>\n",
       "      <td>211.0</td>\n",
       "      <td>3.0</td>\n",
       "      <td>1786.0</td>\n",
       "      <td>42815.0</td>\n",
       "    </tr>\n",
       "    <tr>\n",
       "      <th>3</th>\n",
       "      <td>4</td>\n",
       "      <td>7</td>\n",
       "      <td>1915</td>\n",
       "      <td>1970</td>\n",
       "      <td>0.0</td>\n",
       "      <td>5</td>\n",
       "      <td>5</td>\n",
       "      <td>5.0</td>\n",
       "      <td>756</td>\n",
       "      <td>GasA</td>\n",
       "      <td>...</td>\n",
       "      <td>1998.0</td>\n",
       "      <td>1.0</td>\n",
       "      <td>3</td>\n",
       "      <td>642</td>\n",
       "      <td>NaN</td>\n",
       "      <td>140000</td>\n",
       "      <td>211.0</td>\n",
       "      <td>1.0</td>\n",
       "      <td>1717.0</td>\n",
       "      <td>47245.0</td>\n",
       "    </tr>\n",
       "    <tr>\n",
       "      <th>4</th>\n",
       "      <td>5</td>\n",
       "      <td>8</td>\n",
       "      <td>2000</td>\n",
       "      <td>2000</td>\n",
       "      <td>350.0</td>\n",
       "      <td>7</td>\n",
       "      <td>10</td>\n",
       "      <td>7.0</td>\n",
       "      <td>1145</td>\n",
       "      <td>GasA</td>\n",
       "      <td>...</td>\n",
       "      <td>2000.0</td>\n",
       "      <td>2.0</td>\n",
       "      <td>3</td>\n",
       "      <td>836</td>\n",
       "      <td>NaN</td>\n",
       "      <td>250000</td>\n",
       "      <td>211.0</td>\n",
       "      <td>3.0</td>\n",
       "      <td>2198.0</td>\n",
       "      <td>66625.0</td>\n",
       "    </tr>\n",
       "  </tbody>\n",
       "</table>\n",
       "<p>5 rows × 25 columns</p>\n",
       "</div>"
      ],
      "text/plain": [
       "   Id  OverallQual  YearBuilt  YearRemodAdd  MasVnrArea  ExterQual  \\\n",
       "0   1            7       2003          2003       196.0          7   \n",
       "1   2            6       1976          1976         0.0          5   \n",
       "2   3            7       2001          2002       162.0          7   \n",
       "3   4            7       1915          1970         0.0          5   \n",
       "4   5            8       2000          2000       350.0          7   \n",
       "\n",
       "   Foundation  BsmtQual  TotalBsmtSF Heating  ...  GarageYrBlt  GarageFinish  \\\n",
       "0          10       7.0          856    GasA  ...       2003.0           2.0   \n",
       "1           5       7.0         1262    GasA  ...       1976.0           2.0   \n",
       "2          10       7.0          920    GasA  ...       2001.0           2.0   \n",
       "3           5       5.0          756    GasA  ...       1998.0           1.0   \n",
       "4          10       7.0         1145    GasA  ...       2000.0           2.0   \n",
       "\n",
       "   GarageCars  GarageArea  PoolQC  SalePrice  KitchenFavorIndex  TotalBath  \\\n",
       "0           2         548     NaN     208500              211.0        3.0   \n",
       "1           2         460     NaN     181500              151.0        2.0   \n",
       "2           2         608     NaN     223500              211.0        3.0   \n",
       "3           3         642     NaN     140000              211.0        1.0   \n",
       "4           3         836     NaN     250000              211.0        3.0   \n",
       "\n",
       "   1st2ndComposite  GarageIndex  \n",
       "0           1710.0      36795.0  \n",
       "1           1262.0      28265.0  \n",
       "2           1786.0      42815.0  \n",
       "3           1717.0      47245.0  \n",
       "4           2198.0      66625.0  \n",
       "\n",
       "[5 rows x 25 columns]"
      ]
     },
     "execution_count": 30,
     "metadata": {},
     "output_type": "execute_result"
    }
   ],
   "source": [
    "train.head()"
   ]
  },
  {
   "cell_type": "code",
   "execution_count": 31,
   "id": "d0d5ab96",
   "metadata": {
    "execution": {
     "iopub.execute_input": "2022-01-28T03:02:10.469371Z",
     "iopub.status.busy": "2022-01-28T03:02:10.468692Z",
     "iopub.status.idle": "2022-01-28T03:02:10.471734Z",
     "shell.execute_reply": "2022-01-28T03:02:10.471226Z",
     "shell.execute_reply.started": "2022-01-28T03:01:29.886947Z"
    },
    "papermill": {
     "duration": 0.051908,
     "end_time": "2022-01-28T03:02:10.471877",
     "exception": false,
     "start_time": "2022-01-28T03:02:10.419969",
     "status": "completed"
    },
    "tags": []
   },
   "outputs": [],
   "source": [
    "train = train.drop(['Heating','PoolQC'],axis=1)\n",
    "test = test.drop(['Heating','PoolQC'],axis=1)"
   ]
  },
  {
   "cell_type": "code",
   "execution_count": 32,
   "id": "ca4585df",
   "metadata": {
    "execution": {
     "iopub.execute_input": "2022-01-28T03:02:10.561952Z",
     "iopub.status.busy": "2022-01-28T03:02:10.561271Z",
     "iopub.status.idle": "2022-01-28T03:02:10.567597Z",
     "shell.execute_reply": "2022-01-28T03:02:10.568125Z",
     "shell.execute_reply.started": "2022-01-28T03:01:29.896977Z"
    },
    "papermill": {
     "duration": 0.052534,
     "end_time": "2022-01-28T03:02:10.568299",
     "exception": false,
     "start_time": "2022-01-28T03:02:10.515765",
     "status": "completed"
    },
    "tags": []
   },
   "outputs": [],
   "source": [
    "\n",
    "train_data = train.drop(['Id','SalePrice'], axis=1)\n",
    "train_target = train['SalePrice']\n",
    "\n",
    "test_data = test.drop(['Id'],axis=1)\n",
    "\n",
    "\n",
    "\n"
   ]
  },
  {
   "cell_type": "code",
   "execution_count": 33,
   "id": "2caacd88",
   "metadata": {
    "execution": {
     "iopub.execute_input": "2022-01-28T03:02:10.658450Z",
     "iopub.status.busy": "2022-01-28T03:02:10.654661Z",
     "iopub.status.idle": "2022-01-28T03:02:10.661254Z",
     "shell.execute_reply": "2022-01-28T03:02:10.661736Z",
     "shell.execute_reply.started": "2022-01-28T03:01:29.917054Z"
    },
    "papermill": {
     "duration": 0.051831,
     "end_time": "2022-01-28T03:02:10.661914",
     "exception": false,
     "start_time": "2022-01-28T03:02:10.610083",
     "status": "completed"
    },
    "tags": []
   },
   "outputs": [
    {
     "data": {
      "text/plain": [
       "0    208500\n",
       "1    181500\n",
       "2    223500\n",
       "3    140000\n",
       "4    250000\n",
       "Name: SalePrice, dtype: int64"
      ]
     },
     "execution_count": 33,
     "metadata": {},
     "output_type": "execute_result"
    }
   ],
   "source": [
    "train_target.head()"
   ]
  },
  {
   "cell_type": "code",
   "execution_count": 34,
   "id": "cc721595",
   "metadata": {
    "execution": {
     "iopub.execute_input": "2022-01-28T03:02:10.771454Z",
     "iopub.status.busy": "2022-01-28T03:02:10.768311Z",
     "iopub.status.idle": "2022-01-28T03:02:10.774583Z",
     "shell.execute_reply": "2022-01-28T03:02:10.775096Z",
     "shell.execute_reply.started": "2022-01-28T03:01:29.930676Z"
    },
    "papermill": {
     "duration": 0.072063,
     "end_time": "2022-01-28T03:02:10.775280",
     "exception": false,
     "start_time": "2022-01-28T03:02:10.703217",
     "status": "completed"
    },
    "tags": []
   },
   "outputs": [
    {
     "data": {
      "text/html": [
       "<div>\n",
       "<style scoped>\n",
       "    .dataframe tbody tr th:only-of-type {\n",
       "        vertical-align: middle;\n",
       "    }\n",
       "\n",
       "    .dataframe tbody tr th {\n",
       "        vertical-align: top;\n",
       "    }\n",
       "\n",
       "    .dataframe thead th {\n",
       "        text-align: right;\n",
       "    }\n",
       "</style>\n",
       "<table border=\"1\" class=\"dataframe\">\n",
       "  <thead>\n",
       "    <tr style=\"text-align: right;\">\n",
       "      <th></th>\n",
       "      <th>OverallQual</th>\n",
       "      <th>YearBuilt</th>\n",
       "      <th>YearRemodAdd</th>\n",
       "      <th>MasVnrArea</th>\n",
       "      <th>ExterQual</th>\n",
       "      <th>Foundation</th>\n",
       "      <th>BsmtQual</th>\n",
       "      <th>TotalBsmtSF</th>\n",
       "      <th>HeatingQC</th>\n",
       "      <th>GrLivArea</th>\n",
       "      <th>...</th>\n",
       "      <th>TotRmsAbvGrd</th>\n",
       "      <th>GarageType</th>\n",
       "      <th>GarageYrBlt</th>\n",
       "      <th>GarageFinish</th>\n",
       "      <th>GarageCars</th>\n",
       "      <th>GarageArea</th>\n",
       "      <th>KitchenFavorIndex</th>\n",
       "      <th>TotalBath</th>\n",
       "      <th>1st2ndComposite</th>\n",
       "      <th>GarageIndex</th>\n",
       "    </tr>\n",
       "  </thead>\n",
       "  <tbody>\n",
       "    <tr>\n",
       "      <th>0</th>\n",
       "      <td>7</td>\n",
       "      <td>2003</td>\n",
       "      <td>2003</td>\n",
       "      <td>196.0</td>\n",
       "      <td>7</td>\n",
       "      <td>10</td>\n",
       "      <td>7.0</td>\n",
       "      <td>856</td>\n",
       "      <td>9</td>\n",
       "      <td>1710</td>\n",
       "      <td>...</td>\n",
       "      <td>8</td>\n",
       "      <td>7.0</td>\n",
       "      <td>2003.0</td>\n",
       "      <td>2.0</td>\n",
       "      <td>2</td>\n",
       "      <td>548</td>\n",
       "      <td>211.0</td>\n",
       "      <td>3.0</td>\n",
       "      <td>1710.0</td>\n",
       "      <td>36795.0</td>\n",
       "    </tr>\n",
       "    <tr>\n",
       "      <th>1</th>\n",
       "      <td>6</td>\n",
       "      <td>1976</td>\n",
       "      <td>1976</td>\n",
       "      <td>0.0</td>\n",
       "      <td>5</td>\n",
       "      <td>5</td>\n",
       "      <td>7.0</td>\n",
       "      <td>1262</td>\n",
       "      <td>9</td>\n",
       "      <td>1262</td>\n",
       "      <td>...</td>\n",
       "      <td>6</td>\n",
       "      <td>7.0</td>\n",
       "      <td>1976.0</td>\n",
       "      <td>2.0</td>\n",
       "      <td>2</td>\n",
       "      <td>460</td>\n",
       "      <td>151.0</td>\n",
       "      <td>2.0</td>\n",
       "      <td>1262.0</td>\n",
       "      <td>28265.0</td>\n",
       "    </tr>\n",
       "    <tr>\n",
       "      <th>2</th>\n",
       "      <td>7</td>\n",
       "      <td>2001</td>\n",
       "      <td>2002</td>\n",
       "      <td>162.0</td>\n",
       "      <td>7</td>\n",
       "      <td>10</td>\n",
       "      <td>7.0</td>\n",
       "      <td>920</td>\n",
       "      <td>9</td>\n",
       "      <td>1786</td>\n",
       "      <td>...</td>\n",
       "      <td>6</td>\n",
       "      <td>7.0</td>\n",
       "      <td>2001.0</td>\n",
       "      <td>2.0</td>\n",
       "      <td>2</td>\n",
       "      <td>608</td>\n",
       "      <td>211.0</td>\n",
       "      <td>3.0</td>\n",
       "      <td>1786.0</td>\n",
       "      <td>42815.0</td>\n",
       "    </tr>\n",
       "    <tr>\n",
       "      <th>3</th>\n",
       "      <td>7</td>\n",
       "      <td>1915</td>\n",
       "      <td>1970</td>\n",
       "      <td>0.0</td>\n",
       "      <td>5</td>\n",
       "      <td>5</td>\n",
       "      <td>5.0</td>\n",
       "      <td>756</td>\n",
       "      <td>7</td>\n",
       "      <td>1717</td>\n",
       "      <td>...</td>\n",
       "      <td>7</td>\n",
       "      <td>5.0</td>\n",
       "      <td>1998.0</td>\n",
       "      <td>1.0</td>\n",
       "      <td>3</td>\n",
       "      <td>642</td>\n",
       "      <td>211.0</td>\n",
       "      <td>1.0</td>\n",
       "      <td>1717.0</td>\n",
       "      <td>47245.0</td>\n",
       "    </tr>\n",
       "    <tr>\n",
       "      <th>4</th>\n",
       "      <td>8</td>\n",
       "      <td>2000</td>\n",
       "      <td>2000</td>\n",
       "      <td>350.0</td>\n",
       "      <td>7</td>\n",
       "      <td>10</td>\n",
       "      <td>7.0</td>\n",
       "      <td>1145</td>\n",
       "      <td>9</td>\n",
       "      <td>2198</td>\n",
       "      <td>...</td>\n",
       "      <td>9</td>\n",
       "      <td>7.0</td>\n",
       "      <td>2000.0</td>\n",
       "      <td>2.0</td>\n",
       "      <td>3</td>\n",
       "      <td>836</td>\n",
       "      <td>211.0</td>\n",
       "      <td>3.0</td>\n",
       "      <td>2198.0</td>\n",
       "      <td>66625.0</td>\n",
       "    </tr>\n",
       "  </tbody>\n",
       "</table>\n",
       "<p>5 rows × 21 columns</p>\n",
       "</div>"
      ],
      "text/plain": [
       "   OverallQual  YearBuilt  YearRemodAdd  MasVnrArea  ExterQual  Foundation  \\\n",
       "0            7       2003          2003       196.0          7          10   \n",
       "1            6       1976          1976         0.0          5           5   \n",
       "2            7       2001          2002       162.0          7          10   \n",
       "3            7       1915          1970         0.0          5           5   \n",
       "4            8       2000          2000       350.0          7          10   \n",
       "\n",
       "   BsmtQual  TotalBsmtSF  HeatingQC  GrLivArea  ...  TotRmsAbvGrd  GarageType  \\\n",
       "0       7.0          856          9       1710  ...             8         7.0   \n",
       "1       7.0         1262          9       1262  ...             6         7.0   \n",
       "2       7.0          920          9       1786  ...             6         7.0   \n",
       "3       5.0          756          7       1717  ...             7         5.0   \n",
       "4       7.0         1145          9       2198  ...             9         7.0   \n",
       "\n",
       "   GarageYrBlt  GarageFinish  GarageCars  GarageArea  KitchenFavorIndex  \\\n",
       "0       2003.0           2.0           2         548              211.0   \n",
       "1       1976.0           2.0           2         460              151.0   \n",
       "2       2001.0           2.0           2         608              211.0   \n",
       "3       1998.0           1.0           3         642              211.0   \n",
       "4       2000.0           2.0           3         836              211.0   \n",
       "\n",
       "   TotalBath  1st2ndComposite  GarageIndex  \n",
       "0        3.0           1710.0      36795.0  \n",
       "1        2.0           1262.0      28265.0  \n",
       "2        3.0           1786.0      42815.0  \n",
       "3        1.0           1717.0      47245.0  \n",
       "4        3.0           2198.0      66625.0  \n",
       "\n",
       "[5 rows x 21 columns]"
      ]
     },
     "execution_count": 34,
     "metadata": {},
     "output_type": "execute_result"
    }
   ],
   "source": [
    "train_data.head()"
   ]
  },
  {
   "cell_type": "code",
   "execution_count": 35,
   "id": "af0bdf87",
   "metadata": {
    "execution": {
     "iopub.execute_input": "2022-01-28T03:02:10.871571Z",
     "iopub.status.busy": "2022-01-28T03:02:10.870857Z",
     "iopub.status.idle": "2022-01-28T03:02:10.878408Z",
     "shell.execute_reply": "2022-01-28T03:02:10.878880Z",
     "shell.execute_reply.started": "2022-01-28T03:01:29.965266Z"
    },
    "papermill": {
     "duration": 0.060584,
     "end_time": "2022-01-28T03:02:10.879084",
     "exception": false,
     "start_time": "2022-01-28T03:02:10.818500",
     "status": "completed"
    },
    "tags": []
   },
   "outputs": [],
   "source": [
    "train_data.fillna(train.median(), inplace=True)"
   ]
  },
  {
   "cell_type": "code",
   "execution_count": 36,
   "id": "cbf9549d",
   "metadata": {
    "execution": {
     "iopub.execute_input": "2022-01-28T03:02:10.968032Z",
     "iopub.status.busy": "2022-01-28T03:02:10.967326Z",
     "iopub.status.idle": "2022-01-28T03:02:10.976273Z",
     "shell.execute_reply": "2022-01-28T03:02:10.975714Z",
     "shell.execute_reply.started": "2022-01-28T03:01:29.977489Z"
    },
    "papermill": {
     "duration": 0.054357,
     "end_time": "2022-01-28T03:02:10.976410",
     "exception": false,
     "start_time": "2022-01-28T03:02:10.922053",
     "status": "completed"
    },
    "tags": []
   },
   "outputs": [
    {
     "data": {
      "text/plain": [
       "OverallQual          0\n",
       "YearBuilt            0\n",
       "YearRemodAdd         0\n",
       "MasVnrArea           0\n",
       "ExterQual            0\n",
       "Foundation           0\n",
       "BsmtQual             0\n",
       "TotalBsmtSF          0\n",
       "HeatingQC            0\n",
       "GrLivArea            0\n",
       "KitchenQual          0\n",
       "TotRmsAbvGrd         0\n",
       "GarageType           0\n",
       "GarageYrBlt          0\n",
       "GarageFinish         0\n",
       "GarageCars           0\n",
       "GarageArea           0\n",
       "KitchenFavorIndex    0\n",
       "TotalBath            0\n",
       "1st2ndComposite      0\n",
       "GarageIndex          0\n",
       "dtype: int64"
      ]
     },
     "execution_count": 36,
     "metadata": {},
     "output_type": "execute_result"
    }
   ],
   "source": [
    "train_data.isna().sum()"
   ]
  },
  {
   "cell_type": "code",
   "execution_count": 37,
   "id": "b7cbc321",
   "metadata": {
    "execution": {
     "iopub.execute_input": "2022-01-28T03:02:11.069867Z",
     "iopub.status.busy": "2022-01-28T03:02:11.068748Z",
     "iopub.status.idle": "2022-01-28T03:02:11.077961Z",
     "shell.execute_reply": "2022-01-28T03:02:11.077292Z",
     "shell.execute_reply.started": "2022-01-28T03:01:29.993505Z"
    },
    "papermill": {
     "duration": 0.057287,
     "end_time": "2022-01-28T03:02:11.078117",
     "exception": false,
     "start_time": "2022-01-28T03:02:11.020830",
     "status": "completed"
    },
    "tags": []
   },
   "outputs": [],
   "source": [
    "test_data.fillna(test.median(), inplace=True)"
   ]
  },
  {
   "cell_type": "code",
   "execution_count": 38,
   "id": "1133d0a8",
   "metadata": {
    "execution": {
     "iopub.execute_input": "2022-01-28T03:02:11.172538Z",
     "iopub.status.busy": "2022-01-28T03:02:11.171665Z",
     "iopub.status.idle": "2022-01-28T03:02:11.174746Z",
     "shell.execute_reply": "2022-01-28T03:02:11.175391Z",
     "shell.execute_reply.started": "2022-01-28T03:01:30.012285Z"
    },
    "papermill": {
     "duration": 0.055145,
     "end_time": "2022-01-28T03:02:11.175579",
     "exception": false,
     "start_time": "2022-01-28T03:02:11.120434",
     "status": "completed"
    },
    "tags": []
   },
   "outputs": [
    {
     "data": {
      "text/plain": [
       "OverallQual          0\n",
       "YearBuilt            0\n",
       "YearRemodAdd         0\n",
       "MasVnrArea           0\n",
       "ExterQual            0\n",
       "Foundation           0\n",
       "BsmtQual             0\n",
       "TotalBsmtSF          0\n",
       "HeatingQC            0\n",
       "GrLivArea            0\n",
       "KitchenQual          0\n",
       "TotRmsAbvGrd         0\n",
       "GarageType           0\n",
       "GarageYrBlt          0\n",
       "GarageFinish         0\n",
       "GarageCars           0\n",
       "GarageArea           0\n",
       "KitchenFavorIndex    0\n",
       "TotalBath            0\n",
       "1st2ndComposite      0\n",
       "GarageIndex          0\n",
       "dtype: int64"
      ]
     },
     "execution_count": 38,
     "metadata": {},
     "output_type": "execute_result"
    }
   ],
   "source": [
    "train_data.isna().sum()"
   ]
  },
  {
   "cell_type": "code",
   "execution_count": 39,
   "id": "7b4af318",
   "metadata": {
    "execution": {
     "iopub.execute_input": "2022-01-28T03:02:11.301473Z",
     "iopub.status.busy": "2022-01-28T03:02:11.287349Z",
     "iopub.status.idle": "2022-01-28T03:02:11.304390Z",
     "shell.execute_reply": "2022-01-28T03:02:11.304850Z",
     "shell.execute_reply.started": "2022-01-28T03:01:30.028101Z"
    },
    "papermill": {
     "duration": 0.084673,
     "end_time": "2022-01-28T03:02:11.305040",
     "exception": false,
     "start_time": "2022-01-28T03:02:11.220367",
     "status": "completed"
    },
    "tags": []
   },
   "outputs": [
    {
     "data": {
      "text/html": [
       "<div>\n",
       "<style scoped>\n",
       "    .dataframe tbody tr th:only-of-type {\n",
       "        vertical-align: middle;\n",
       "    }\n",
       "\n",
       "    .dataframe tbody tr th {\n",
       "        vertical-align: top;\n",
       "    }\n",
       "\n",
       "    .dataframe thead th {\n",
       "        text-align: right;\n",
       "    }\n",
       "</style>\n",
       "<table border=\"1\" class=\"dataframe\">\n",
       "  <thead>\n",
       "    <tr style=\"text-align: right;\">\n",
       "      <th></th>\n",
       "      <th>Id</th>\n",
       "      <th>OverallQual</th>\n",
       "      <th>YearBuilt</th>\n",
       "      <th>YearRemodAdd</th>\n",
       "      <th>MasVnrArea</th>\n",
       "      <th>ExterQual</th>\n",
       "      <th>Foundation</th>\n",
       "      <th>BsmtQual</th>\n",
       "      <th>TotalBsmtSF</th>\n",
       "      <th>HeatingQC</th>\n",
       "      <th>...</th>\n",
       "      <th>GarageType</th>\n",
       "      <th>GarageYrBlt</th>\n",
       "      <th>GarageFinish</th>\n",
       "      <th>GarageCars</th>\n",
       "      <th>GarageArea</th>\n",
       "      <th>SalePrice</th>\n",
       "      <th>KitchenFavorIndex</th>\n",
       "      <th>TotalBath</th>\n",
       "      <th>1st2ndComposite</th>\n",
       "      <th>GarageIndex</th>\n",
       "    </tr>\n",
       "  </thead>\n",
       "  <tbody>\n",
       "    <tr>\n",
       "      <th>0</th>\n",
       "      <td>1</td>\n",
       "      <td>7</td>\n",
       "      <td>2003</td>\n",
       "      <td>2003</td>\n",
       "      <td>196.0</td>\n",
       "      <td>7</td>\n",
       "      <td>10</td>\n",
       "      <td>7.0</td>\n",
       "      <td>856</td>\n",
       "      <td>9</td>\n",
       "      <td>...</td>\n",
       "      <td>7.0</td>\n",
       "      <td>2003.0</td>\n",
       "      <td>2.0</td>\n",
       "      <td>2</td>\n",
       "      <td>548</td>\n",
       "      <td>208500</td>\n",
       "      <td>211.0</td>\n",
       "      <td>3.0</td>\n",
       "      <td>1710.0</td>\n",
       "      <td>36795.0</td>\n",
       "    </tr>\n",
       "    <tr>\n",
       "      <th>1</th>\n",
       "      <td>2</td>\n",
       "      <td>6</td>\n",
       "      <td>1976</td>\n",
       "      <td>1976</td>\n",
       "      <td>0.0</td>\n",
       "      <td>5</td>\n",
       "      <td>5</td>\n",
       "      <td>7.0</td>\n",
       "      <td>1262</td>\n",
       "      <td>9</td>\n",
       "      <td>...</td>\n",
       "      <td>7.0</td>\n",
       "      <td>1976.0</td>\n",
       "      <td>2.0</td>\n",
       "      <td>2</td>\n",
       "      <td>460</td>\n",
       "      <td>181500</td>\n",
       "      <td>151.0</td>\n",
       "      <td>2.0</td>\n",
       "      <td>1262.0</td>\n",
       "      <td>28265.0</td>\n",
       "    </tr>\n",
       "    <tr>\n",
       "      <th>2</th>\n",
       "      <td>3</td>\n",
       "      <td>7</td>\n",
       "      <td>2001</td>\n",
       "      <td>2002</td>\n",
       "      <td>162.0</td>\n",
       "      <td>7</td>\n",
       "      <td>10</td>\n",
       "      <td>7.0</td>\n",
       "      <td>920</td>\n",
       "      <td>9</td>\n",
       "      <td>...</td>\n",
       "      <td>7.0</td>\n",
       "      <td>2001.0</td>\n",
       "      <td>2.0</td>\n",
       "      <td>2</td>\n",
       "      <td>608</td>\n",
       "      <td>223500</td>\n",
       "      <td>211.0</td>\n",
       "      <td>3.0</td>\n",
       "      <td>1786.0</td>\n",
       "      <td>42815.0</td>\n",
       "    </tr>\n",
       "    <tr>\n",
       "      <th>3</th>\n",
       "      <td>4</td>\n",
       "      <td>7</td>\n",
       "      <td>1915</td>\n",
       "      <td>1970</td>\n",
       "      <td>0.0</td>\n",
       "      <td>5</td>\n",
       "      <td>5</td>\n",
       "      <td>5.0</td>\n",
       "      <td>756</td>\n",
       "      <td>7</td>\n",
       "      <td>...</td>\n",
       "      <td>5.0</td>\n",
       "      <td>1998.0</td>\n",
       "      <td>1.0</td>\n",
       "      <td>3</td>\n",
       "      <td>642</td>\n",
       "      <td>140000</td>\n",
       "      <td>211.0</td>\n",
       "      <td>1.0</td>\n",
       "      <td>1717.0</td>\n",
       "      <td>47245.0</td>\n",
       "    </tr>\n",
       "    <tr>\n",
       "      <th>4</th>\n",
       "      <td>5</td>\n",
       "      <td>8</td>\n",
       "      <td>2000</td>\n",
       "      <td>2000</td>\n",
       "      <td>350.0</td>\n",
       "      <td>7</td>\n",
       "      <td>10</td>\n",
       "      <td>7.0</td>\n",
       "      <td>1145</td>\n",
       "      <td>9</td>\n",
       "      <td>...</td>\n",
       "      <td>7.0</td>\n",
       "      <td>2000.0</td>\n",
       "      <td>2.0</td>\n",
       "      <td>3</td>\n",
       "      <td>836</td>\n",
       "      <td>250000</td>\n",
       "      <td>211.0</td>\n",
       "      <td>3.0</td>\n",
       "      <td>2198.0</td>\n",
       "      <td>66625.0</td>\n",
       "    </tr>\n",
       "    <tr>\n",
       "      <th>...</th>\n",
       "      <td>...</td>\n",
       "      <td>...</td>\n",
       "      <td>...</td>\n",
       "      <td>...</td>\n",
       "      <td>...</td>\n",
       "      <td>...</td>\n",
       "      <td>...</td>\n",
       "      <td>...</td>\n",
       "      <td>...</td>\n",
       "      <td>...</td>\n",
       "      <td>...</td>\n",
       "      <td>...</td>\n",
       "      <td>...</td>\n",
       "      <td>...</td>\n",
       "      <td>...</td>\n",
       "      <td>...</td>\n",
       "      <td>...</td>\n",
       "      <td>...</td>\n",
       "      <td>...</td>\n",
       "      <td>...</td>\n",
       "      <td>...</td>\n",
       "    </tr>\n",
       "    <tr>\n",
       "      <th>1455</th>\n",
       "      <td>1456</td>\n",
       "      <td>6</td>\n",
       "      <td>1999</td>\n",
       "      <td>2000</td>\n",
       "      <td>0.0</td>\n",
       "      <td>5</td>\n",
       "      <td>10</td>\n",
       "      <td>7.0</td>\n",
       "      <td>953</td>\n",
       "      <td>9</td>\n",
       "      <td>...</td>\n",
       "      <td>7.0</td>\n",
       "      <td>1999.0</td>\n",
       "      <td>2.0</td>\n",
       "      <td>2</td>\n",
       "      <td>460</td>\n",
       "      <td>175000</td>\n",
       "      <td>151.0</td>\n",
       "      <td>3.0</td>\n",
       "      <td>1647.0</td>\n",
       "      <td>28035.0</td>\n",
       "    </tr>\n",
       "    <tr>\n",
       "      <th>1456</th>\n",
       "      <td>1457</td>\n",
       "      <td>6</td>\n",
       "      <td>1978</td>\n",
       "      <td>1988</td>\n",
       "      <td>119.0</td>\n",
       "      <td>5</td>\n",
       "      <td>5</td>\n",
       "      <td>7.0</td>\n",
       "      <td>1542</td>\n",
       "      <td>5</td>\n",
       "      <td>...</td>\n",
       "      <td>7.0</td>\n",
       "      <td>1978.0</td>\n",
       "      <td>1.0</td>\n",
       "      <td>2</td>\n",
       "      <td>500</td>\n",
       "      <td>210000</td>\n",
       "      <td>151.0</td>\n",
       "      <td>2.0</td>\n",
       "      <td>2073.0</td>\n",
       "      <td>32245.0</td>\n",
       "    </tr>\n",
       "    <tr>\n",
       "      <th>1457</th>\n",
       "      <td>1458</td>\n",
       "      <td>7</td>\n",
       "      <td>1941</td>\n",
       "      <td>2006</td>\n",
       "      <td>0.0</td>\n",
       "      <td>9</td>\n",
       "      <td>5</td>\n",
       "      <td>5.0</td>\n",
       "      <td>1152</td>\n",
       "      <td>9</td>\n",
       "      <td>...</td>\n",
       "      <td>7.0</td>\n",
       "      <td>1941.0</td>\n",
       "      <td>2.0</td>\n",
       "      <td>1</td>\n",
       "      <td>252</td>\n",
       "      <td>266500</td>\n",
       "      <td>211.0</td>\n",
       "      <td>2.0</td>\n",
       "      <td>2340.0</td>\n",
       "      <td>6815.0</td>\n",
       "    </tr>\n",
       "    <tr>\n",
       "      <th>1458</th>\n",
       "      <td>1459</td>\n",
       "      <td>5</td>\n",
       "      <td>1950</td>\n",
       "      <td>1996</td>\n",
       "      <td>0.0</td>\n",
       "      <td>5</td>\n",
       "      <td>5</td>\n",
       "      <td>5.0</td>\n",
       "      <td>1078</td>\n",
       "      <td>7</td>\n",
       "      <td>...</td>\n",
       "      <td>7.0</td>\n",
       "      <td>1950.0</td>\n",
       "      <td>1.0</td>\n",
       "      <td>1</td>\n",
       "      <td>240</td>\n",
       "      <td>142125</td>\n",
       "      <td>211.0</td>\n",
       "      <td>1.0</td>\n",
       "      <td>1078.0</td>\n",
       "      <td>5525.0</td>\n",
       "    </tr>\n",
       "    <tr>\n",
       "      <th>1459</th>\n",
       "      <td>1460</td>\n",
       "      <td>5</td>\n",
       "      <td>1965</td>\n",
       "      <td>1965</td>\n",
       "      <td>0.0</td>\n",
       "      <td>7</td>\n",
       "      <td>5</td>\n",
       "      <td>5.0</td>\n",
       "      <td>1256</td>\n",
       "      <td>7</td>\n",
       "      <td>...</td>\n",
       "      <td>7.0</td>\n",
       "      <td>1965.0</td>\n",
       "      <td>3.0</td>\n",
       "      <td>1</td>\n",
       "      <td>276</td>\n",
       "      <td>147500</td>\n",
       "      <td>151.0</td>\n",
       "      <td>2.0</td>\n",
       "      <td>1256.0</td>\n",
       "      <td>8975.0</td>\n",
       "    </tr>\n",
       "  </tbody>\n",
       "</table>\n",
       "<p>1460 rows × 23 columns</p>\n",
       "</div>"
      ],
      "text/plain": [
       "        Id  OverallQual  YearBuilt  YearRemodAdd  MasVnrArea  ExterQual  \\\n",
       "0        1            7       2003          2003       196.0          7   \n",
       "1        2            6       1976          1976         0.0          5   \n",
       "2        3            7       2001          2002       162.0          7   \n",
       "3        4            7       1915          1970         0.0          5   \n",
       "4        5            8       2000          2000       350.0          7   \n",
       "...    ...          ...        ...           ...         ...        ...   \n",
       "1455  1456            6       1999          2000         0.0          5   \n",
       "1456  1457            6       1978          1988       119.0          5   \n",
       "1457  1458            7       1941          2006         0.0          9   \n",
       "1458  1459            5       1950          1996         0.0          5   \n",
       "1459  1460            5       1965          1965         0.0          7   \n",
       "\n",
       "      Foundation  BsmtQual  TotalBsmtSF  HeatingQC  ...  GarageType  \\\n",
       "0             10       7.0          856          9  ...         7.0   \n",
       "1              5       7.0         1262          9  ...         7.0   \n",
       "2             10       7.0          920          9  ...         7.0   \n",
       "3              5       5.0          756          7  ...         5.0   \n",
       "4             10       7.0         1145          9  ...         7.0   \n",
       "...          ...       ...          ...        ...  ...         ...   \n",
       "1455          10       7.0          953          9  ...         7.0   \n",
       "1456           5       7.0         1542          5  ...         7.0   \n",
       "1457           5       5.0         1152          9  ...         7.0   \n",
       "1458           5       5.0         1078          7  ...         7.0   \n",
       "1459           5       5.0         1256          7  ...         7.0   \n",
       "\n",
       "      GarageYrBlt  GarageFinish  GarageCars  GarageArea  SalePrice  \\\n",
       "0          2003.0           2.0           2         548     208500   \n",
       "1          1976.0           2.0           2         460     181500   \n",
       "2          2001.0           2.0           2         608     223500   \n",
       "3          1998.0           1.0           3         642     140000   \n",
       "4          2000.0           2.0           3         836     250000   \n",
       "...           ...           ...         ...         ...        ...   \n",
       "1455       1999.0           2.0           2         460     175000   \n",
       "1456       1978.0           1.0           2         500     210000   \n",
       "1457       1941.0           2.0           1         252     266500   \n",
       "1458       1950.0           1.0           1         240     142125   \n",
       "1459       1965.0           3.0           1         276     147500   \n",
       "\n",
       "      KitchenFavorIndex  TotalBath  1st2ndComposite  GarageIndex  \n",
       "0                 211.0        3.0           1710.0      36795.0  \n",
       "1                 151.0        2.0           1262.0      28265.0  \n",
       "2                 211.0        3.0           1786.0      42815.0  \n",
       "3                 211.0        1.0           1717.0      47245.0  \n",
       "4                 211.0        3.0           2198.0      66625.0  \n",
       "...                 ...        ...              ...          ...  \n",
       "1455              151.0        3.0           1647.0      28035.0  \n",
       "1456              151.0        2.0           2073.0      32245.0  \n",
       "1457              211.0        2.0           2340.0       6815.0  \n",
       "1458              211.0        1.0           1078.0       5525.0  \n",
       "1459              151.0        2.0           1256.0       8975.0  \n",
       "\n",
       "[1460 rows x 23 columns]"
      ]
     },
     "execution_count": 39,
     "metadata": {},
     "output_type": "execute_result"
    }
   ],
   "source": [
    "train"
   ]
  },
  {
   "cell_type": "code",
   "execution_count": 40,
   "id": "75cbfcba",
   "metadata": {
    "execution": {
     "iopub.execute_input": "2022-01-28T03:02:11.398078Z",
     "iopub.status.busy": "2022-01-28T03:02:11.397410Z",
     "iopub.status.idle": "2022-01-28T03:02:11.405192Z",
     "shell.execute_reply": "2022-01-28T03:02:11.405751Z",
     "shell.execute_reply.started": "2022-01-28T03:01:30.070397Z"
    },
    "papermill": {
     "duration": 0.055605,
     "end_time": "2022-01-28T03:02:11.405932",
     "exception": false,
     "start_time": "2022-01-28T03:02:11.350327",
     "status": "completed"
    },
    "tags": []
   },
   "outputs": [
    {
     "data": {
      "text/plain": [
       "OverallQual          0\n",
       "YearBuilt            0\n",
       "YearRemodAdd         0\n",
       "MasVnrArea           0\n",
       "ExterQual            0\n",
       "Foundation           0\n",
       "BsmtQual             0\n",
       "TotalBsmtSF          0\n",
       "HeatingQC            0\n",
       "GrLivArea            0\n",
       "KitchenQual          0\n",
       "TotRmsAbvGrd         0\n",
       "GarageType           0\n",
       "GarageYrBlt          0\n",
       "GarageFinish         0\n",
       "GarageCars           0\n",
       "GarageArea           0\n",
       "KitchenFavorIndex    0\n",
       "TotalBath            0\n",
       "1st2ndComposite      0\n",
       "GarageIndex          0\n",
       "dtype: int64"
      ]
     },
     "execution_count": 40,
     "metadata": {},
     "output_type": "execute_result"
    }
   ],
   "source": [
    "train_data.isnull().sum()"
   ]
  },
  {
   "cell_type": "code",
   "execution_count": 41,
   "id": "71cba028",
   "metadata": {
    "execution": {
     "iopub.execute_input": "2022-01-28T03:02:11.508961Z",
     "iopub.status.busy": "2022-01-28T03:02:11.508261Z",
     "iopub.status.idle": "2022-01-28T03:02:11.516072Z",
     "shell.execute_reply": "2022-01-28T03:02:11.515462Z",
     "shell.execute_reply.started": "2022-01-28T03:01:30.087101Z"
    },
    "papermill": {
     "duration": 0.06251,
     "end_time": "2022-01-28T03:02:11.516226",
     "exception": false,
     "start_time": "2022-01-28T03:02:11.453716",
     "status": "completed"
    },
    "tags": []
   },
   "outputs": [
    {
     "data": {
      "text/plain": [
       "OverallQual          0\n",
       "YearBuilt            0\n",
       "YearRemodAdd         0\n",
       "MasVnrArea           0\n",
       "ExterQual            0\n",
       "Foundation           0\n",
       "BsmtQual             0\n",
       "TotalBsmtSF          0\n",
       "HeatingQC            0\n",
       "GrLivArea            0\n",
       "KitchenQual          0\n",
       "TotRmsAbvGrd         0\n",
       "GarageType           0\n",
       "GarageYrBlt          0\n",
       "GarageFinish         0\n",
       "GarageCars           0\n",
       "GarageArea           0\n",
       "KitchenFavorIndex    0\n",
       "TotalBath            0\n",
       "1st2ndComposite      0\n",
       "GarageIndex          0\n",
       "dtype: int64"
      ]
     },
     "execution_count": 41,
     "metadata": {},
     "output_type": "execute_result"
    }
   ],
   "source": [
    "test_data.isnull().sum()"
   ]
  },
  {
   "cell_type": "code",
   "execution_count": 42,
   "id": "e91cdf8d",
   "metadata": {
    "execution": {
     "iopub.execute_input": "2022-01-28T03:02:11.622500Z",
     "iopub.status.busy": "2022-01-28T03:02:11.621728Z",
     "iopub.status.idle": "2022-01-28T03:02:13.254961Z",
     "shell.execute_reply": "2022-01-28T03:02:13.254330Z",
     "shell.execute_reply.started": "2022-01-28T03:01:30.099026Z"
    },
    "papermill": {
     "duration": 1.69091,
     "end_time": "2022-01-28T03:02:13.255131",
     "exception": false,
     "start_time": "2022-01-28T03:02:11.564221",
     "status": "completed"
    },
    "tags": []
   },
   "outputs": [
    {
     "name": "stdout",
     "output_type": "stream",
     "text": [
      "Mean Absolute Error: 7339.406203604044\n",
      "Mean Squared Error: 150425417.0482602\n",
      "Root Mean Squared Error: 12264.803995509272\n",
      "R2: 0.9761486507732796\n"
     ]
    }
   ],
   "source": [
    "from sklearn.svm import SVC\n",
    "from sklearn.model_selection import KFold\n",
    "from sklearn.model_selection import cross_val_score\n",
    "from sklearn.ensemble import RandomForestRegressor\n",
    "from sklearn import metrics\n",
    "rf = RandomForestRegressor(n_estimators = 100, random_state = 50)\n",
    "rf.fit(train_data, train_target)\n",
    "train_pred = rf.predict(train_data)\n",
    "print('Mean Absolute Error:', metrics.mean_absolute_error(train_target, train_pred))\n",
    "print('Mean Squared Error:', metrics.mean_squared_error(train_target, train_pred))\n",
    "print('Root Mean Squared Error:', np.sqrt(metrics.mean_squared_error(train_target, train_pred)))\n",
    "print('R2:',metrics.r2_score(train_target, train_pred))\n",
    "\n",
    "prediction = rf.predict(test_data)\n",
    "\n",
    "submission = pd.DataFrame({\n",
    "    \"Id\" : test[\"Id\"],\n",
    "    \"SalePrice\" : prediction\n",
    "})\n",
    "\n",
    "submission.to_csv('submission.csv', index=False)\n"
   ]
  }
 ],
 "metadata": {
  "kernelspec": {
   "display_name": "Python 3",
   "language": "python",
   "name": "python3"
  },
  "language_info": {
   "codemirror_mode": {
    "name": "ipython",
    "version": 3
   },
   "file_extension": ".py",
   "mimetype": "text/x-python",
   "name": "python",
   "nbconvert_exporter": "python",
   "pygments_lexer": "ipython3",
   "version": "3.7.12"
  },
  "papermill": {
   "default_parameters": {},
   "duration": 20.079424,
   "end_time": "2022-01-28T03:02:14.010508",
   "environment_variables": {},
   "exception": null,
   "input_path": "__notebook__.ipynb",
   "output_path": "__notebook__.ipynb",
   "parameters": {},
   "start_time": "2022-01-28T03:01:53.931084",
   "version": "2.3.3"
  }
 },
 "nbformat": 4,
 "nbformat_minor": 5
}
