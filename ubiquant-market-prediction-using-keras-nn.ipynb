{
 "cells": [
  {
   "cell_type": "code",
   "execution_count": 1,
   "id": "e854f16a",
   "metadata": {
    "execution": {
     "iopub.execute_input": "2022-02-05T03:41:04.432598Z",
     "iopub.status.busy": "2022-02-05T03:41:04.430684Z",
     "iopub.status.idle": "2022-02-05T03:42:53.277947Z",
     "shell.execute_reply": "2022-02-05T03:42:53.279061Z",
     "shell.execute_reply.started": "2022-01-28T04:19:41.209543Z"
    },
    "papermill": {
     "duration": 108.868125,
     "end_time": "2022-02-05T03:42:53.279659",
     "exception": false,
     "start_time": "2022-02-05T03:41:04.411534",
     "status": "completed"
    },
    "tags": []
   },
   "outputs": [
    {
     "data": {
      "text/html": [
       "<style type='text/css'>\n",
       ".datatable table.frame { margin-bottom: 0; }\n",
       ".datatable table.frame thead { border-bottom: none; }\n",
       ".datatable table.frame tr.coltypes td {  color: #FFFFFF;  line-height: 6px;  padding: 0 0.5em;}\n",
       ".datatable .bool    { background: #DDDD99; }\n",
       ".datatable .object  { background: #565656; }\n",
       ".datatable .int     { background: #5D9E5D; }\n",
       ".datatable .float   { background: #4040CC; }\n",
       ".datatable .str     { background: #CC4040; }\n",
       ".datatable .time    { background: #40CC40; }\n",
       ".datatable .row_index {  background: var(--jp-border-color3);  border-right: 1px solid var(--jp-border-color0);  color: var(--jp-ui-font-color3);  font-size: 9px;}\n",
       ".datatable .frame tbody td { text-align: left; }\n",
       ".datatable .frame tr.coltypes .row_index {  background: var(--jp-border-color0);}\n",
       ".datatable th:nth-child(2) { padding-left: 12px; }\n",
       ".datatable .hellipsis {  color: var(--jp-cell-editor-border-color);}\n",
       ".datatable .vellipsis {  background: var(--jp-layout-color0);  color: var(--jp-cell-editor-border-color);}\n",
       ".datatable .na {  color: var(--jp-cell-editor-border-color);  font-size: 80%;}\n",
       ".datatable .sp {  opacity: 0.25;}\n",
       ".datatable .footer { font-size: 9px; }\n",
       ".datatable .frame_dimensions {  background: var(--jp-border-color3);  border-top: 1px solid var(--jp-border-color0);  color: var(--jp-ui-font-color3);  display: inline-block;  opacity: 0.6;  padding: 1px 10px 1px 5px;}\n",
       "</style>\n"
      ],
      "text/plain": [
       "<IPython.core.display.HTML object>"
      ]
     },
     "metadata": {},
     "output_type": "display_data"
    }
   ],
   "source": [
    "import pandas as pd\n",
    "import numpy as np\n",
    "import datatable as dt\n",
    "import gc\n",
    "\n",
    "IGNORE_COLS = ['row_id', 'f_30', 'f_63', 'f_74', 'f_84', 'f_120', 'f_124', 'f_170', 'f_291', 'f_0', \n",
    "               'f_1', 'f_4', 'f_6', 'f_7', 'f_10', 'f_11', 'f_12', 'f_13', 'f_14', 'f_18', 'f_19', \n",
    "               'f_20', 'f_22', 'f_24', 'f_27', 'f_28', 'f_30', 'f_32', 'f_34', 'f_35', 'f_37', 'f_39', \n",
    "               'f_40', 'f_46', 'f_48', 'f_49', 'f_50', 'f_51', 'f_53', 'f_56', 'f_57', 'f_60', 'f_61', \n",
    "               'f_62', 'f_63', 'f_66', 'f_67', 'f_70', 'f_73', 'f_74', 'f_75', 'f_81', 'f_84', 'f_86', \n",
    "               'f_89', 'f_95', 'f_97', 'f_99', 'f_101', 'f_102', 'f_107', 'f_108', 'f_110', 'f_111', \n",
    "               'f_115', 'f_117', 'f_120', 'f_122', 'f_123', 'f_124', 'f_126', 'f_127', 'f_128', 'f_129', \n",
    "               'f_130', 'f_131', 'f_138', 'f_140', 'f_141', 'f_142', 'f_143', 'f_148', 'f_149', 'f_151', \n",
    "               'f_152', 'f_154', 'f_156', 'f_157', 'f_159', 'f_161', 'f_164', 'f_166', 'f_170', 'f_171', \n",
    "               'f_175', 'f_176', 'f_178', 'f_180', 'f_182', 'f_183', 'f_186', 'f_189', 'f_191', 'f_195', \n",
    "               'f_196', 'f_198', 'f_199', 'f_200', 'f_201', 'f_202', 'f_204', 'f_205', 'f_208', 'f_211', \n",
    "               'f_213', 'f_215', 'f_217', 'f_218', 'f_220', 'f_221', 'f_222', 'f_223', 'f_227', 'f_228', \n",
    "               'f_229', 'f_235', 'f_236', 'f_240', 'f_241', 'f_242', 'f_244', 'f_248', 'f_253', 'f_254', \n",
    "               'f_258', 'f_261', 'f_262', 'f_267', 'f_269', 'f_272', 'f_275', 'f_276', 'f_278', 'f_279', \n",
    "               'f_282', 'f_283', 'f_284', 'f_285', 'f_288', 'f_289', 'f_291', 'f_292', 'f_293', 'f_294', \n",
    "               'f_296', 'f_298', 'f_299', 'f_262']\n",
    "\n",
    "basic_cols = ['time_id', 'investment_id', 'target']\n",
    "num_feat = 300\n",
    "features = [f'f_{i}' for i in range(num_feat)]\n",
    "cols = basic_cols + features\n",
    "selected_cols = []\n",
    "for c in cols:\n",
    "    if c in IGNORE_COLS:\n",
    "        continue\n",
    "    selected_cols.append(c)\n",
    "\n",
    "#train = pd.read_csv('../input/ubiquant-market-prediction/train.csv', skiprows=lines2skip)\n",
    "train = dt.fread('../input/ubiquant-market-prediction/train.csv').to_pandas()\n",
    "train = train[selected_cols]\n",
    "test = pd.read_csv('../input/ubiquant-market-prediction/example_test.csv')\n",
    "sub = pd.read_csv('../input/ubiquant-market-prediction/example_sample_submission.csv')"
   ]
  },
  {
   "cell_type": "code",
   "execution_count": 2,
   "id": "a128a2e5",
   "metadata": {
    "execution": {
     "iopub.execute_input": "2022-02-05T03:42:53.324555Z",
     "iopub.status.busy": "2022-02-05T03:42:53.323796Z",
     "iopub.status.idle": "2022-02-05T03:42:53.328636Z",
     "shell.execute_reply": "2022-02-05T03:42:53.329129Z",
     "shell.execute_reply.started": "2022-01-28T04:21:19.89026Z"
    },
    "papermill": {
     "duration": 0.028546,
     "end_time": "2022-02-05T03:42:53.329350",
     "exception": false,
     "start_time": "2022-02-05T03:42:53.300804",
     "status": "completed"
    },
    "tags": []
   },
   "outputs": [
    {
     "data": {
      "text/plain": [
       "time_id            int32\n",
       "investment_id      int32\n",
       "target           float64\n",
       "f_2              float64\n",
       "f_3              float64\n",
       "                  ...   \n",
       "f_286            float64\n",
       "f_287            float64\n",
       "f_290            float64\n",
       "f_295            float64\n",
       "f_297            float64\n",
       "Length: 155, dtype: object"
      ]
     },
     "execution_count": 2,
     "metadata": {},
     "output_type": "execute_result"
    }
   ],
   "source": [
    "train.dtypes"
   ]
  },
  {
   "cell_type": "code",
   "execution_count": 3,
   "id": "27f605c2",
   "metadata": {
    "execution": {
     "iopub.execute_input": "2022-02-05T03:42:53.358680Z",
     "iopub.status.busy": "2022-02-05T03:42:53.357921Z",
     "iopub.status.idle": "2022-02-05T03:42:53.399230Z",
     "shell.execute_reply": "2022-02-05T03:42:53.399753Z",
     "shell.execute_reply.started": "2022-01-28T04:19:31.287485Z"
    },
    "papermill": {
     "duration": 0.058023,
     "end_time": "2022-02-05T03:42:53.399977",
     "exception": false,
     "start_time": "2022-02-05T03:42:53.341954",
     "status": "completed"
    },
    "tags": []
   },
   "outputs": [
    {
     "data": {
      "text/html": [
       "<div>\n",
       "<style scoped>\n",
       "    .dataframe tbody tr th:only-of-type {\n",
       "        vertical-align: middle;\n",
       "    }\n",
       "\n",
       "    .dataframe tbody tr th {\n",
       "        vertical-align: top;\n",
       "    }\n",
       "\n",
       "    .dataframe thead th {\n",
       "        text-align: right;\n",
       "    }\n",
       "</style>\n",
       "<table border=\"1\" class=\"dataframe\">\n",
       "  <thead>\n",
       "    <tr style=\"text-align: right;\">\n",
       "      <th></th>\n",
       "      <th>time_id</th>\n",
       "      <th>investment_id</th>\n",
       "      <th>target</th>\n",
       "      <th>f_2</th>\n",
       "      <th>f_3</th>\n",
       "      <th>f_5</th>\n",
       "      <th>f_8</th>\n",
       "      <th>f_9</th>\n",
       "      <th>f_15</th>\n",
       "      <th>f_16</th>\n",
       "      <th>...</th>\n",
       "      <th>f_273</th>\n",
       "      <th>f_274</th>\n",
       "      <th>f_277</th>\n",
       "      <th>f_280</th>\n",
       "      <th>f_281</th>\n",
       "      <th>f_286</th>\n",
       "      <th>f_287</th>\n",
       "      <th>f_290</th>\n",
       "      <th>f_295</th>\n",
       "      <th>f_297</th>\n",
       "    </tr>\n",
       "  </thead>\n",
       "  <tbody>\n",
       "    <tr>\n",
       "      <th>0</th>\n",
       "      <td>0</td>\n",
       "      <td>1</td>\n",
       "      <td>-0.300875</td>\n",
       "      <td>-0.402206</td>\n",
       "      <td>0.378386</td>\n",
       "      <td>-0.413469</td>\n",
       "      <td>0.114809</td>\n",
       "      <td>-2.012777</td>\n",
       "      <td>-0.267310</td>\n",
       "      <td>-0.574423</td>\n",
       "      <td>...</td>\n",
       "      <td>1.281245</td>\n",
       "      <td>0.258715</td>\n",
       "      <td>-0.324677</td>\n",
       "      <td>-0.025610</td>\n",
       "      <td>-0.006259</td>\n",
       "      <td>0.301659</td>\n",
       "      <td>0.157470</td>\n",
       "      <td>0.366028</td>\n",
       "      <td>-0.086764</td>\n",
       "      <td>-1.044826</td>\n",
       "    </tr>\n",
       "    <tr>\n",
       "      <th>1</th>\n",
       "      <td>0</td>\n",
       "      <td>2</td>\n",
       "      <td>-0.231040</td>\n",
       "      <td>0.742368</td>\n",
       "      <td>-0.616673</td>\n",
       "      <td>1.771210</td>\n",
       "      <td>0.114809</td>\n",
       "      <td>-0.219201</td>\n",
       "      <td>-0.010217</td>\n",
       "      <td>-0.681523</td>\n",
       "      <td>...</td>\n",
       "      <td>-0.650803</td>\n",
       "      <td>0.851905</td>\n",
       "      <td>0.298990</td>\n",
       "      <td>0.532229</td>\n",
       "      <td>0.226693</td>\n",
       "      <td>-0.557502</td>\n",
       "      <td>-0.875265</td>\n",
       "      <td>-0.154193</td>\n",
       "      <td>-0.387617</td>\n",
       "      <td>-0.929529</td>\n",
       "    </tr>\n",
       "    <tr>\n",
       "      <th>2</th>\n",
       "      <td>0</td>\n",
       "      <td>6</td>\n",
       "      <td>0.568807</td>\n",
       "      <td>0.567806</td>\n",
       "      <td>-0.607963</td>\n",
       "      <td>-1.083155</td>\n",
       "      <td>0.114809</td>\n",
       "      <td>-1.035376</td>\n",
       "      <td>-0.451820</td>\n",
       "      <td>-0.467322</td>\n",
       "      <td>...</td>\n",
       "      <td>0.098910</td>\n",
       "      <td>-0.725177</td>\n",
       "      <td>0.260281</td>\n",
       "      <td>-0.315315</td>\n",
       "      <td>0.150139</td>\n",
       "      <td>-0.147156</td>\n",
       "      <td>-0.087518</td>\n",
       "      <td>-0.138020</td>\n",
       "      <td>-0.219097</td>\n",
       "      <td>-0.612428</td>\n",
       "    </tr>\n",
       "    <tr>\n",
       "      <th>3</th>\n",
       "      <td>0</td>\n",
       "      <td>7</td>\n",
       "      <td>-1.064780</td>\n",
       "      <td>1.874606</td>\n",
       "      <td>-0.606346</td>\n",
       "      <td>-0.815737</td>\n",
       "      <td>0.114809</td>\n",
       "      <td>-1.176410</td>\n",
       "      <td>-1.121598</td>\n",
       "      <td>-0.681523</td>\n",
       "      <td>...</td>\n",
       "      <td>-0.817650</td>\n",
       "      <td>-0.624180</td>\n",
       "      <td>-1.796107</td>\n",
       "      <td>-0.640443</td>\n",
       "      <td>2.324936</td>\n",
       "      <td>-0.557502</td>\n",
       "      <td>-0.986692</td>\n",
       "      <td>0.382201</td>\n",
       "      <td>-0.609113</td>\n",
       "      <td>-0.783423</td>\n",
       "    </tr>\n",
       "    <tr>\n",
       "      <th>4</th>\n",
       "      <td>0</td>\n",
       "      <td>8</td>\n",
       "      <td>-0.531940</td>\n",
       "      <td>2.330030</td>\n",
       "      <td>-0.583422</td>\n",
       "      <td>-0.742814</td>\n",
       "      <td>0.114809</td>\n",
       "      <td>-0.005858</td>\n",
       "      <td>-0.829021</td>\n",
       "      <td>-0.826026</td>\n",
       "      <td>...</td>\n",
       "      <td>-1.332959</td>\n",
       "      <td>-0.767390</td>\n",
       "      <td>-1.465071</td>\n",
       "      <td>-0.781270</td>\n",
       "      <td>-1.918721</td>\n",
       "      <td>-0.519032</td>\n",
       "      <td>-1.221407</td>\n",
       "      <td>-0.170365</td>\n",
       "      <td>-0.588445</td>\n",
       "      <td>0.753279</td>\n",
       "    </tr>\n",
       "  </tbody>\n",
       "</table>\n",
       "<p>5 rows × 155 columns</p>\n",
       "</div>"
      ],
      "text/plain": [
       "   time_id  investment_id    target       f_2       f_3       f_5       f_8  \\\n",
       "0        0              1 -0.300875 -0.402206  0.378386 -0.413469  0.114809   \n",
       "1        0              2 -0.231040  0.742368 -0.616673  1.771210  0.114809   \n",
       "2        0              6  0.568807  0.567806 -0.607963 -1.083155  0.114809   \n",
       "3        0              7 -1.064780  1.874606 -0.606346 -0.815737  0.114809   \n",
       "4        0              8 -0.531940  2.330030 -0.583422 -0.742814  0.114809   \n",
       "\n",
       "        f_9      f_15      f_16  ...     f_273     f_274     f_277     f_280  \\\n",
       "0 -2.012777 -0.267310 -0.574423  ...  1.281245  0.258715 -0.324677 -0.025610   \n",
       "1 -0.219201 -0.010217 -0.681523  ... -0.650803  0.851905  0.298990  0.532229   \n",
       "2 -1.035376 -0.451820 -0.467322  ...  0.098910 -0.725177  0.260281 -0.315315   \n",
       "3 -1.176410 -1.121598 -0.681523  ... -0.817650 -0.624180 -1.796107 -0.640443   \n",
       "4 -0.005858 -0.829021 -0.826026  ... -1.332959 -0.767390 -1.465071 -0.781270   \n",
       "\n",
       "      f_281     f_286     f_287     f_290     f_295     f_297  \n",
       "0 -0.006259  0.301659  0.157470  0.366028 -0.086764 -1.044826  \n",
       "1  0.226693 -0.557502 -0.875265 -0.154193 -0.387617 -0.929529  \n",
       "2  0.150139 -0.147156 -0.087518 -0.138020 -0.219097 -0.612428  \n",
       "3  2.324936 -0.557502 -0.986692  0.382201 -0.609113 -0.783423  \n",
       "4 -1.918721 -0.519032 -1.221407 -0.170365 -0.588445  0.753279  \n",
       "\n",
       "[5 rows x 155 columns]"
      ]
     },
     "execution_count": 3,
     "metadata": {},
     "output_type": "execute_result"
    }
   ],
   "source": [
    "train.head()"
   ]
  },
  {
   "cell_type": "code",
   "execution_count": 4,
   "id": "99e1470a",
   "metadata": {
    "execution": {
     "iopub.execute_input": "2022-02-05T03:42:53.436469Z",
     "iopub.status.busy": "2022-02-05T03:42:53.435278Z",
     "iopub.status.idle": "2022-02-05T03:42:53.443001Z",
     "shell.execute_reply": "2022-02-05T03:42:53.442311Z",
     "shell.execute_reply.started": "2022-01-28T04:19:31.288965Z"
    },
    "papermill": {
     "duration": 0.029459,
     "end_time": "2022-02-05T03:42:53.443164",
     "exception": false,
     "start_time": "2022-02-05T03:42:53.413705",
     "status": "completed"
    },
    "tags": []
   },
   "outputs": [
    {
     "data": {
      "text/html": [
       "<div>\n",
       "<style scoped>\n",
       "    .dataframe tbody tr th:only-of-type {\n",
       "        vertical-align: middle;\n",
       "    }\n",
       "\n",
       "    .dataframe tbody tr th {\n",
       "        vertical-align: top;\n",
       "    }\n",
       "\n",
       "    .dataframe thead th {\n",
       "        text-align: right;\n",
       "    }\n",
       "</style>\n",
       "<table border=\"1\" class=\"dataframe\">\n",
       "  <thead>\n",
       "    <tr style=\"text-align: right;\">\n",
       "      <th></th>\n",
       "      <th>row_id</th>\n",
       "      <th>time_id</th>\n",
       "      <th>target</th>\n",
       "    </tr>\n",
       "  </thead>\n",
       "  <tbody>\n",
       "    <tr>\n",
       "      <th>0</th>\n",
       "      <td>1220_1</td>\n",
       "      <td>1220</td>\n",
       "      <td>0</td>\n",
       "    </tr>\n",
       "    <tr>\n",
       "      <th>1</th>\n",
       "      <td>1220_2</td>\n",
       "      <td>1220</td>\n",
       "      <td>0</td>\n",
       "    </tr>\n",
       "    <tr>\n",
       "      <th>2</th>\n",
       "      <td>1221_0</td>\n",
       "      <td>1221</td>\n",
       "      <td>0</td>\n",
       "    </tr>\n",
       "    <tr>\n",
       "      <th>3</th>\n",
       "      <td>1221_1</td>\n",
       "      <td>1221</td>\n",
       "      <td>0</td>\n",
       "    </tr>\n",
       "    <tr>\n",
       "      <th>4</th>\n",
       "      <td>1221_2</td>\n",
       "      <td>1221</td>\n",
       "      <td>0</td>\n",
       "    </tr>\n",
       "  </tbody>\n",
       "</table>\n",
       "</div>"
      ],
      "text/plain": [
       "   row_id  time_id  target\n",
       "0  1220_1     1220       0\n",
       "1  1220_2     1220       0\n",
       "2  1221_0     1221       0\n",
       "3  1221_1     1221       0\n",
       "4  1221_2     1221       0"
      ]
     },
     "execution_count": 4,
     "metadata": {},
     "output_type": "execute_result"
    }
   ],
   "source": [
    "sub.head()"
   ]
  },
  {
   "cell_type": "code",
   "execution_count": 5,
   "id": "73ef0a55",
   "metadata": {
    "execution": {
     "iopub.execute_input": "2022-02-05T03:42:53.475664Z",
     "iopub.status.busy": "2022-02-05T03:42:53.474598Z",
     "iopub.status.idle": "2022-02-05T03:42:59.510505Z",
     "shell.execute_reply": "2022-02-05T03:42:59.511060Z"
    },
    "papermill": {
     "duration": 6.054383,
     "end_time": "2022-02-05T03:42:59.511311",
     "exception": false,
     "start_time": "2022-02-05T03:42:53.456928",
     "status": "completed"
    },
    "tags": []
   },
   "outputs": [],
   "source": [
    "from sklearn.linear_model import LinearRegression\n",
    "from sklearn.linear_model import Ridge\n",
    "from sklearn.ensemble import RandomForestRegressor \n",
    "import lightgbm \n",
    "from sklearn.ensemble import VotingRegressor\n",
    "from sklearn.model_selection import KFold\n",
    "from sklearn.model_selection import train_test_split\n",
    "import gc\n",
    "\n",
    "from sklearn.metrics import r2_score\n",
    "from joblib import dump, load\n",
    "from lightgbm import LGBMRegressor\n",
    "from xgboost import XGBRegressor\n",
    "\n",
    "import optuna\n",
    "\n",
    "X = train.drop(['target'], axis=1)\n",
    "y = train[['target']]\n",
    "del train\n",
    "gc.collect();\n",
    "\n",
    "r1 = LinearRegression()\n",
    "r2 = RandomForestRegressor()\n",
    "r3 = lightgbm.LGBMRegressor(n_estimators=700, max_depth=13, learning_rate=0.04, subsample=0.9, colsample_bytree=0.7, random_state=1700)"
   ]
  },
  {
   "cell_type": "code",
   "execution_count": 6,
   "id": "06786b3b",
   "metadata": {
    "_kg_hide-output": true,
    "execution": {
     "iopub.execute_input": "2022-02-05T03:42:59.546208Z",
     "iopub.status.busy": "2022-02-05T03:42:59.545460Z",
     "iopub.status.idle": "2022-02-05T03:51:52.017666Z",
     "shell.execute_reply": "2022-02-05T03:51:52.018254Z",
     "shell.execute_reply.started": "2022-01-28T04:19:31.291467Z"
    },
    "papermill": {
     "duration": 532.493063,
     "end_time": "2022-02-05T03:51:52.018508",
     "exception": false,
     "start_time": "2022-02-05T03:42:59.525445",
     "status": "completed"
    },
    "tags": []
   },
   "outputs": [
    {
     "name": "stderr",
     "output_type": "stream",
     "text": [
      "/opt/conda/lib/python3.7/site-packages/sklearn/utils/validation.py:72: DataConversionWarning: A column-vector y was passed when a 1d array was expected. Please change the shape of y to (n_samples, ), for example using ravel().\n",
      "  return f(**kwargs)\n"
     ]
    },
    {
     "data": {
      "text/plain": [
       "VotingRegressor(estimators=[('lr', LinearRegression()),\n",
       "                            ('lgbm',\n",
       "                             LGBMRegressor(colsample_bytree=0.7,\n",
       "                                           learning_rate=0.04, max_depth=13,\n",
       "                                           n_estimators=700, random_state=1700,\n",
       "                                           subsample=0.9))],\n",
       "                weights=[0.985, 0.974])"
      ]
     },
     "execution_count": 6,
     "metadata": {},
     "output_type": "execute_result"
    }
   ],
   "source": [
    "ensemble = VotingRegressor([('lr', r1), ('lgbm', r3)], weights=[0.985, 0.974])\n",
    "ensemble.fit(X, y)"
   ]
  },
  {
   "cell_type": "code",
   "execution_count": null,
   "id": "1bd0253c",
   "metadata": {
    "papermill": {
     "duration": 0.014567,
     "end_time": "2022-02-05T03:51:52.048464",
     "exception": false,
     "start_time": "2022-02-05T03:51:52.033897",
     "status": "completed"
    },
    "tags": []
   },
   "outputs": [],
   "source": []
  },
  {
   "cell_type": "markdown",
   "id": "8b50e9c7",
   "metadata": {
    "papermill": {
     "duration": 0.015437,
     "end_time": "2022-02-05T03:51:52.079285",
     "exception": false,
     "start_time": "2022-02-05T03:51:52.063848",
     "status": "completed"
    },
    "tags": []
   },
   "source": [
    "# Modeling"
   ]
  },
  {
   "cell_type": "markdown",
   "id": "78b2fab5",
   "metadata": {
    "papermill": {
     "duration": 0.014467,
     "end_time": "2022-02-05T03:51:52.108755",
     "exception": false,
     "start_time": "2022-02-05T03:51:52.094288",
     "status": "completed"
    },
    "tags": []
   },
   "source": [
    "# Improve VotingRegressor / Give a weighted system using the adjusted r2_score of each model. \n",
    "Adjusted r2_score might be appropriate to evaluate the regression models because the dataset incluedes the large number of features (f_{i}), and adjusted r2_score gives the penalty to the number of features to prevent overfitting problem. Since the test dataset is totally different from training dataset, solving overfitting problem would be important "
   ]
  },
  {
   "cell_type": "markdown",
   "id": "85927348",
   "metadata": {
    "papermill": {
     "duration": 0.014356,
     "end_time": "2022-02-05T03:51:52.138377",
     "exception": false,
     "start_time": "2022-02-05T03:51:52.124021",
     "status": "completed"
    },
    "tags": []
   },
   "source": [
    "r1 = LinearRegression()\n",
    "r2 = Ridge()\n",
    "r3 = lightgbm.LGBMRegressor(n_estimators=700,\n",
    "                            max_depth=11,\n",
    "                            learning_rate=0.05,\n",
    "                            subsample=0.9,\n",
    "                            colsample_bytree=0.7,\n",
    "                            random_state=2022)"
   ]
  },
  {
   "cell_type": "markdown",
   "id": "3869ad7f",
   "metadata": {
    "papermill": {
     "duration": 0.014431,
     "end_time": "2022-02-05T03:51:52.167468",
     "exception": false,
     "start_time": "2022-02-05T03:51:52.153037",
     "status": "completed"
    },
    "tags": []
   },
   "source": [
    "def get_models(): \n",
    "    models = list()\n",
    "    models.append(('lr', r1)) \n",
    "    models.append(('lgbm', r3))\n",
    "    return models"
   ]
  },
  {
   "cell_type": "markdown",
   "id": "cbaaa4ee",
   "metadata": {
    "papermill": {
     "duration": 0.014263,
     "end_time": "2022-02-05T03:51:52.196361",
     "exception": false,
     "start_time": "2022-02-05T03:51:52.182098",
     "status": "completed"
    },
    "tags": []
   },
   "source": [
    "def evaluate_models(models, X_train, X_val, y_train, y_val): \n",
    "    \n",
    "   scores = list()\n",
    "    for name, model in models: \n",
    "        model.fit(X_train, y_train)\n",
    "        prediction = model.predict(X_val)\n",
    "        MSE = 100 / (mean_squared_error(y_val, prediction))\n",
    "        scores.append(MSE)\n",
    "        \n",
    "   return scores"
   ]
  },
  {
   "cell_type": "code",
   "execution_count": 7,
   "id": "d31abd5a",
   "metadata": {
    "execution": {
     "iopub.execute_input": "2022-02-05T03:51:52.511957Z",
     "iopub.status.busy": "2022-02-05T03:51:52.510725Z",
     "iopub.status.idle": "2022-02-05T03:51:52.523418Z",
     "shell.execute_reply": "2022-02-05T03:51:52.523950Z",
     "shell.execute_reply.started": "2022-01-28T04:19:31.298684Z"
    },
    "papermill": {
     "duration": 0.313235,
     "end_time": "2022-02-05T03:51:52.524182",
     "exception": false,
     "start_time": "2022-02-05T03:51:52.210947",
     "status": "completed"
    },
    "tags": []
   },
   "outputs": [
    {
     "data": {
      "text/plain": [
       "array([-0.10347985, -0.03565308, -0.04449298, -0.04599277, -0.04966679,\n",
       "       -0.02660141, -0.04647437, -0.07789554, -0.0369379 ])"
      ]
     },
     "execution_count": 7,
     "metadata": {},
     "output_type": "execute_result"
    }
   ],
   "source": [
    "gc.collect();\n",
    "try:\n",
    "    selected_cols.remove('target')\n",
    "except:\n",
    "    pass\n",
    "preds = ensemble.predict(test[selected_cols])\n",
    "preds"
   ]
  },
  {
   "cell_type": "code",
   "execution_count": 8,
   "id": "4c2cb1f6",
   "metadata": {
    "execution": {
     "iopub.execute_input": "2022-02-05T03:51:52.561718Z",
     "iopub.status.busy": "2022-02-05T03:51:52.560947Z",
     "iopub.status.idle": "2022-02-05T03:51:52.605902Z",
     "shell.execute_reply": "2022-02-05T03:51:52.605230Z",
     "shell.execute_reply.started": "2022-01-28T04:19:31.301376Z"
    },
    "papermill": {
     "duration": 0.065482,
     "end_time": "2022-02-05T03:51:52.606068",
     "exception": false,
     "start_time": "2022-02-05T03:51:52.540586",
     "status": "completed"
    },
    "tags": []
   },
   "outputs": [],
   "source": [
    "import ubiquant\n",
    "env = ubiquant.make_env()\n",
    "iter_test = env.iter_test()"
   ]
  },
  {
   "cell_type": "code",
   "execution_count": 9,
   "id": "d37230ef",
   "metadata": {
    "execution": {
     "iopub.execute_input": "2022-02-05T03:51:52.640883Z",
     "iopub.status.busy": "2022-02-05T03:51:52.640087Z",
     "iopub.status.idle": "2022-02-05T03:51:52.777724Z",
     "shell.execute_reply": "2022-02-05T03:51:52.778367Z",
     "shell.execute_reply.started": "2022-01-28T04:19:31.303005Z"
    },
    "papermill": {
     "duration": 0.157208,
     "end_time": "2022-02-05T03:51:52.778638",
     "exception": false,
     "start_time": "2022-02-05T03:51:52.621430",
     "status": "completed"
    },
    "tags": []
   },
   "outputs": [
    {
     "name": "stdout",
     "output_type": "stream",
     "text": [
      "This version of the API is not optimized and should not be used to estimate the runtime of your code on the hidden test set.\n"
     ]
    }
   ],
   "source": [
    "for (test_df, sample_prediction_df) in iter_test:\n",
    "    row_id = test_df['row_id'].str.split('_', expand=True)\n",
    "    test_df['time_id'] = row_id[0]\n",
    "    test_df['time_id'] = test_df['time_id'].astype(np.int32)\n",
    "    preds = ensemble.predict(test_df[selected_cols])  # make your predictions here\n",
    "    sample_prediction_df['target'] = preds\n",
    "    \n",
    "    env.predict(sample_prediction_df)   # register your predictions"
   ]
  }
 ],
 "metadata": {
  "kernelspec": {
   "display_name": "Python 3",
   "language": "python",
   "name": "python3"
  },
  "language_info": {
   "codemirror_mode": {
    "name": "ipython",
    "version": 3
   },
   "file_extension": ".py",
   "mimetype": "text/x-python",
   "name": "python",
   "nbconvert_exporter": "python",
   "pygments_lexer": "ipython3",
   "version": "3.7.12"
  },
  "papermill": {
   "default_parameters": {},
   "duration": 661.949169,
   "end_time": "2022-02-05T03:51:54.517736",
   "environment_variables": {},
   "exception": null,
   "input_path": "__notebook__.ipynb",
   "output_path": "__notebook__.ipynb",
   "parameters": {},
   "start_time": "2022-02-05T03:40:52.568567",
   "version": "2.3.3"
  }
 },
 "nbformat": 4,
 "nbformat_minor": 5
}
